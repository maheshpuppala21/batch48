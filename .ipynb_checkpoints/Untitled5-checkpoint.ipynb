{
 "cells": [
  {
   "cell_type": "code",
   "execution_count": 3,
   "metadata": {},
   "outputs": [
    {
     "name": "stdout",
     "output_type": "stream",
     "text": [
      "enter a value20\n",
      "<type 'str'>\n"
     ]
    }
   ],
   "source": [
    "a=raw_input(\"enter a value\")\n",
    "print type(a)"
   ]
  },
  {
   "cell_type": "code",
   "execution_count": 4,
   "metadata": {},
   "outputs": [
    {
     "name": "stdout",
     "output_type": "stream",
     "text": [
      "enter a value: 10\n",
      "10 <type 'int'>\n"
     ]
    }
   ],
   "source": [
    "a=input(\"enter a value: \")\n",
    "print a, type(a)"
   ]
  },
  {
   "cell_type": "code",
   "execution_count": 5,
   "metadata": {},
   "outputs": [
    {
     "name": "stdout",
     "output_type": "stream",
     "text": [
      "enter a value: [1,30,40]\n",
      "[1, 30, 40] <type 'list'>\n"
     ]
    }
   ],
   "source": [
    "a=input(\"enter a value: \")\n",
    "print a, type(a)"
   ]
  },
  {
   "cell_type": "markdown",
   "metadata": {},
   "source": [
    "# #In python 3.6 version, input() was removed and renamed as raw_input() as input() function . In 2.6 version, there are 2 functions input() and raw_input() fucntion.\n",
    " "
   ]
  },
  {
   "cell_type": "code",
   "execution_count": 7,
   "metadata": {},
   "outputs": [
    {
     "name": "stdout",
     "output_type": "stream",
     "text": [
      "enter a value: 10\n",
      "10 <type 'int'>\n",
      "enter b value: 20\n",
      "20 <type 'str'>\n"
     ]
    }
   ],
   "source": [
    "a=input(\"enter a value: \")\n",
    "print a, type(a)\n",
    "b=raw_input(\"enter b value: \")\n",
    "print b, type(b)"
   ]
  },
  {
   "cell_type": "code",
   "execution_count": 8,
   "metadata": {},
   "outputs": [
    {
     "name": "stdout",
     "output_type": "stream",
     "text": [
      "python\n",
      "Python\n"
     ]
    }
   ],
   "source": [
    "#Format Specitifiers\n",
    "print 'python'\n",
    "print \"Python\""
   ]
  },
  {
   "cell_type": "code",
   "execution_count": 9,
   "metadata": {},
   "outputs": [
    {
     "name": "stdout",
     "output_type": "stream",
     "text": [
      "python\n",
      "cpp\n",
      "python\n",
      "cpp\n"
     ]
    }
   ],
   "source": [
    "#there is no difference between single quotation and double quotation in python\n",
    "print 'python\\ncpp'\n",
    "print \"python\\ncpp\"\n"
   ]
  },
  {
   "cell_type": "code",
   "execution_count": 11,
   "metadata": {},
   "outputs": [
    {
     "name": "stdout",
     "output_type": "stream",
     "text": [
      "it's a cool day in hyderabad\n"
     ]
    }
   ],
   "source": [
    "#it's a \"cool\" day in hyderabad\n",
    "print \"it's a cool day in hyderabad\""
   ]
  },
  {
   "cell_type": "code",
   "execution_count": 12,
   "metadata": {},
   "outputs": [
    {
     "name": "stdout",
     "output_type": "stream",
     "text": [
      "it's a 'cool' day in hyderabad\n"
     ]
    }
   ],
   "source": [
    "#it's a \"cool\" day in hyderabad\n",
    "print \"it's a 'cool' day in hyderabad\""
   ]
  },
  {
   "cell_type": "code",
   "execution_count": 13,
   "metadata": {},
   "outputs": [
    {
     "ename": "SyntaxError",
     "evalue": "invalid syntax (<ipython-input-13-e0470455853c>, line 2)",
     "output_type": "error",
     "traceback": [
      "\u001b[1;36m  File \u001b[1;32m\"<ipython-input-13-e0470455853c>\"\u001b[1;36m, line \u001b[1;32m2\u001b[0m\n\u001b[1;33m    print \"it's a '\"cool\"' day in hyderabad\"\u001b[0m\n\u001b[1;37m                       ^\u001b[0m\n\u001b[1;31mSyntaxError\u001b[0m\u001b[1;31m:\u001b[0m invalid syntax\n"
     ]
    }
   ],
   "source": [
    "#it's a \"cool\" day in hyderabad\n",
    "print \"it's a '\"cool\"' day in hyderabad\""
   ]
  },
  {
   "cell_type": "code",
   "execution_count": 14,
   "metadata": {},
   "outputs": [
    {
     "name": "stdout",
     "output_type": "stream",
     "text": [
      "it's a cool day in hyderabad\n"
     ]
    }
   ],
   "source": [
    "#it's a \"cool\" day in hyderabad\n",
    "print \"it's a \"'cool'\" day in hyderabad\""
   ]
  },
  {
   "cell_type": "code",
   "execution_count": 15,
   "metadata": {},
   "outputs": [
    {
     "ename": "SyntaxError",
     "evalue": "invalid syntax (<ipython-input-15-9dc32643e4bb>, line 2)",
     "output_type": "error",
     "traceback": [
      "\u001b[1;36m  File \u001b[1;32m\"<ipython-input-15-9dc32643e4bb>\"\u001b[1;36m, line \u001b[1;32m2\u001b[0m\n\u001b[1;33m    print \"it's a /\"cool\" day in hyderabad\"\u001b[0m\n\u001b[1;37m                       ^\u001b[0m\n\u001b[1;31mSyntaxError\u001b[0m\u001b[1;31m:\u001b[0m invalid syntax\n"
     ]
    }
   ],
   "source": [
    "#it's a \"cool\" day in hyderabad\n",
    "print \"it's a /\"cool\" day in hyderabad\""
   ]
  },
  {
   "cell_type": "code",
   "execution_count": 17,
   "metadata": {},
   "outputs": [
    {
     "name": "stdout",
     "output_type": "stream",
     "text": [
      "it's a \"cool\" day in hyderabad\n"
     ]
    }
   ],
   "source": [
    "#Format Specifier backslach(\\) which ignores special characters\n",
    "#it's a \"cool\" day in hyderabad\n",
    "print \"it's a \\\"cool\\\" day in hyderabad\""
   ]
  },
  {
   "cell_type": "code",
   "execution_count": 19,
   "metadata": {},
   "outputs": [
    {
     "name": "stdout",
     "output_type": "stream",
     "text": [
      "%s\n"
     ]
    }
   ],
   "source": [
    "#Format Specifiers: %s, %d, %f, %o, %x, %r\n",
    "print \"%s\""
   ]
  },
  {
   "cell_type": "code",
   "execution_count": 26,
   "metadata": {},
   "outputs": [
    {
     "ename": "TypeError",
     "evalue": "cannot concatenate 'str' and 'int' objects",
     "output_type": "error",
     "traceback": [
      "\u001b[1;31m---------------------------------------------------------------------------\u001b[0m",
      "\u001b[1;31mTypeError\u001b[0m                                 Traceback (most recent call last)",
      "\u001b[1;32m<ipython-input-26-93d98d9917e5>\u001b[0m in \u001b[0;36m<module>\u001b[1;34m()\u001b[0m\n\u001b[0;32m      2\u001b[0m \u001b[0mcost\u001b[0m\u001b[1;33m=\u001b[0m\u001b[1;36m12.34\u001b[0m\u001b[1;33m\u001b[0m\u001b[0m\n\u001b[0;32m      3\u001b[0m \u001b[0mproduct\u001b[0m\u001b[1;33m=\u001b[0m\u001b[1;34m\"apple\"\u001b[0m\u001b[1;33m\u001b[0m\u001b[0m\n\u001b[1;32m----> 4\u001b[1;33m \u001b[1;32mprint\u001b[0m \u001b[1;34m\"the cost price of apple is:\"\u001b[0m \u001b[1;33m+\u001b[0m \u001b[0mint\u001b[0m\u001b[1;33m(\u001b[0m\u001b[0mcost\u001b[0m\u001b[1;33m)\u001b[0m\u001b[1;33m\u001b[0m\u001b[0m\n\u001b[0m",
      "\u001b[1;31mTypeError\u001b[0m: cannot concatenate 'str' and 'int' objects"
     ]
    }
   ],
   "source": [
    "#cost price of apple is: 12\n",
    "cost=12.34\n",
    "product=\"apple\"\n",
    "print \"the cost price of apple is:\" + int(cost)"
   ]
  },
  {
   "cell_type": "code",
   "execution_count": 29,
   "metadata": {},
   "outputs": [
    {
     "name": "stdout",
     "output_type": "stream",
     "text": [
      "12\n",
      "the cost price of apple is:12\n"
     ]
    }
   ],
   "source": [
    "#cost price of apple is: 12\n",
    "cost=12.34\n",
    "product=\"apple\"\n",
    "print int(cost)\n",
    "print \"the cost price of apple is:\"+str(int(cost))"
   ]
  },
  {
   "cell_type": "code",
   "execution_count": null,
   "metadata": {
    "collapsed": true
   },
   "outputs": [],
   "source": [
    "# %d -- to convert to Integer\n",
    "# %f -- to convert to Float\n",
    "# %s -- to convert to String\n",
    "# %r -- to convert to raw string\n",
    "# %x -- to convert to hexa decimal\n",
    "# %o -- to convert to Octal\n"
   ]
  },
  {
   "cell_type": "code",
   "execution_count": 31,
   "metadata": {},
   "outputs": [
    {
     "name": "stdout",
     "output_type": "stream",
     "text": [
      "12\n",
      "the cost price of apple is:12\n"
     ]
    }
   ],
   "source": [
    "#cost price of apple is: 12\n",
    "cost=12.34\n",
    "product=\"apple\"\n",
    "print int(cost)\n",
    "print \"the cost price of %s is:%d\"%(product, cost)"
   ]
  },
  {
   "cell_type": "code",
   "execution_count": 44,
   "metadata": {},
   "outputs": [
    {
     "name": "stdout",
     "output_type": "stream",
     "text": [
      "Name:Jayaram, Age:10, Height:4.6453343, Weight:20\n",
      "Name:Jayaram, Age:10, Height:4.645334, Weight:20\n",
      "Name:Jayaram, Age:10, Height:4.65, Weight:20\n"
     ]
    }
   ],
   "source": [
    "#Name:Jayaram, Age:1.6, Height:5.67, Weight:10\n",
    "name=\"Jayaram\"\n",
    "age=10\n",
    "height=4.6453343\n",
    "weight=20\n",
    "print \"Name:%s, Age:%s, Height:%s, Weight:%d\"%(name,age,height,weight)\n",
    "print\"Name:%s\"%(name)+\", \"+\"Age:%d\"%(age)+\", \"+\"Height:%f\"%(height)+\", \"+\"Weight:%s\"%(weight)\n",
    "##we want only 2 decimal place then use %.2f\n",
    "print \"Name:%s, Age:%s, Height:%.2f, Weight:%d\"%(name,age,height,weight)\n"
   ]
  },
  {
   "cell_type": "code",
   "execution_count": 45,
   "metadata": {},
   "outputs": [
    {
     "name": "stdout",
     "output_type": "stream",
     "text": [
      "4d2\n",
      "2322\n"
     ]
    }
   ],
   "source": [
    "#\n",
    "print\"%x\"%1234\n",
    "print \"%o\"%1234"
   ]
  },
  {
   "cell_type": "code",
   "execution_count": 46,
   "metadata": {},
   "outputs": [
    {
     "data": {
      "text/plain": [
       "97"
      ]
     },
     "execution_count": 46,
     "metadata": {},
     "output_type": "execute_result"
    }
   ],
   "source": [
    "ord(\"a\")\n"
   ]
  },
  {
   "cell_type": "code",
   "execution_count": 47,
   "metadata": {},
   "outputs": [
    {
     "data": {
      "text/plain": [
       "'a'"
      ]
     },
     "execution_count": 47,
     "metadata": {},
     "output_type": "execute_result"
    }
   ],
   "source": [
    "chr(97)"
   ]
  },
  {
   "cell_type": "code",
   "execution_count": null,
   "metadata": {
    "collapsed": true
   },
   "outputs": [],
   "source": []
  },
  {
   "cell_type": "code",
   "execution_count": null,
   "metadata": {
    "collapsed": true
   },
   "outputs": [],
   "source": []
  },
  {
   "cell_type": "code",
   "execution_count": 30,
   "metadata": {},
   "outputs": [
    {
     "name": "stdout",
     "output_type": "stream",
     "text": [
      "12\n",
      "the cost price of apple is:12\n"
     ]
    }
   ],
   "source": [
    "#cost price of apple is: 12\n",
    "cost=12.34\n",
    "product=\"apple\"\n",
    "print int(cost)\n",
    "print \"the cost price of apple is:%d\"%cost"
   ]
  }
 ],
 "metadata": {
  "kernelspec": {
   "display_name": "Python 2",
   "language": "python",
   "name": "python2"
  },
  "language_info": {
   "codemirror_mode": {
    "name": "ipython",
    "version": 2
   },
   "file_extension": ".py",
   "mimetype": "text/x-python",
   "name": "python",
   "nbconvert_exporter": "python",
   "pygments_lexer": "ipython2",
   "version": "2.7.14"
  }
 },
 "nbformat": 4,
 "nbformat_minor": 2
}
