{
 "cells": [
  {
   "cell_type": "code",
   "execution_count": 1,
   "metadata": {},
   "outputs": [
    {
     "name": "stdout",
     "output_type": "stream",
     "text": [
      "zython zrogram\n"
     ]
    }
   ],
   "source": [
    "s=\"python program\"\n",
    "print s.replace(\"p\",\"z\")"
   ]
  },
  {
   "cell_type": "code",
   "execution_count": 2,
   "metadata": {},
   "outputs": [
    {
     "name": "stdout",
     "output_type": "stream",
     "text": [
      "zpzyztzhzoznz zpzrzozgzrzazmz\n"
     ]
    }
   ],
   "source": [
    "s=\"python program\"\n",
    "print s.replace(\"\",\"z\")"
   ]
  },
  {
   "cell_type": "code",
   "execution_count": 3,
   "metadata": {},
   "outputs": [
    {
     "name": "stdout",
     "output_type": "stream",
     "text": [
      "pythonzprogram\n"
     ]
    }
   ],
   "source": [
    "s=\"python program\"\n",
    "print s.replace(\" \",\"z\")"
   ]
  },
  {
   "cell_type": "code",
   "execution_count": 4,
   "metadata": {},
   "outputs": [
    {
     "ename": "TypeError",
     "evalue": "count() takes at least 1 argument (0 given)",
     "output_type": "error",
     "traceback": [
      "\u001b[1;31m---------------------------------------------------------------------------\u001b[0m",
      "\u001b[1;31mTypeError\u001b[0m                                 Traceback (most recent call last)",
      "\u001b[1;32m<ipython-input-4-82553467f9cb>\u001b[0m in \u001b[0;36m<module>\u001b[1;34m()\u001b[0m\n\u001b[0;32m      1\u001b[0m \u001b[0ms\u001b[0m\u001b[1;33m=\u001b[0m\u001b[1;34m\"python program\"\u001b[0m\u001b[1;33m\u001b[0m\u001b[0m\n\u001b[1;32m----> 2\u001b[1;33m \u001b[1;32mprint\u001b[0m \u001b[0ms\u001b[0m\u001b[1;33m.\u001b[0m\u001b[0mcount\u001b[0m\u001b[1;33m(\u001b[0m\u001b[1;33m)\u001b[0m\u001b[1;33m\u001b[0m\u001b[0m\n\u001b[0m",
      "\u001b[1;31mTypeError\u001b[0m: count() takes at least 1 argument (0 given)"
     ]
    }
   ],
   "source": [
    "s=\"python program\"\n",
    "print s.count()"
   ]
  },
  {
   "cell_type": "code",
   "execution_count": 5,
   "metadata": {},
   "outputs": [
    {
     "name": "stdout",
     "output_type": "stream",
     "text": [
      "2\n"
     ]
    }
   ],
   "source": [
    "s=\"python program\"\n",
    "print s.count('p')"
   ]
  },
  {
   "cell_type": "code",
   "execution_count": 6,
   "metadata": {},
   "outputs": [
    {
     "name": "stdout",
     "output_type": "stream",
     "text": [
      "15\n"
     ]
    }
   ],
   "source": [
    "s=\"python program\"\n",
    "print s.count(\"\")"
   ]
  },
  {
   "cell_type": "code",
   "execution_count": 7,
   "metadata": {},
   "outputs": [
    {
     "name": "stdout",
     "output_type": "stream",
     "text": [
      "1\n"
     ]
    }
   ],
   "source": [
    "s=\"python program\"\n",
    "print s.count(\" \")"
   ]
  },
  {
   "cell_type": "code",
   "execution_count": 8,
   "metadata": {},
   "outputs": [
    {
     "name": "stdout",
     "output_type": "stream",
     "text": [
      "1\n"
     ]
    },
    {
     "ename": "TypeError",
     "evalue": "replace() takes at least 2 arguments (1 given)",
     "output_type": "error",
     "traceback": [
      "\u001b[1;31m---------------------------------------------------------------------------\u001b[0m",
      "\u001b[1;31mTypeError\u001b[0m                                 Traceback (most recent call last)",
      "\u001b[1;32m<ipython-input-8-56fc07097237>\u001b[0m in \u001b[0;36m<module>\u001b[1;34m()\u001b[0m\n\u001b[0;32m      1\u001b[0m \u001b[0ms\u001b[0m\u001b[1;33m=\u001b[0m\u001b[1;34m\"python program\"\u001b[0m\u001b[1;33m\u001b[0m\u001b[0m\n\u001b[0;32m      2\u001b[0m \u001b[1;32mprint\u001b[0m \u001b[0ms\u001b[0m\u001b[1;33m.\u001b[0m\u001b[0mcount\u001b[0m\u001b[1;33m(\u001b[0m\u001b[1;34m\" \"\u001b[0m\u001b[1;33m)\u001b[0m\u001b[1;33m\u001b[0m\u001b[0m\n\u001b[1;32m----> 3\u001b[1;33m \u001b[1;32mprint\u001b[0m \u001b[0ms\u001b[0m\u001b[1;33m.\u001b[0m\u001b[0mreplace\u001b[0m\u001b[1;33m(\u001b[0m\u001b[1;34m\" \"\u001b[0m\u001b[1;33m)\u001b[0m\u001b[1;33m\u001b[0m\u001b[0m\n\u001b[0m",
      "\u001b[1;31mTypeError\u001b[0m: replace() takes at least 2 arguments (1 given)"
     ]
    }
   ],
   "source": [
    "s=\"python program\"\n",
    "print s.count(\" \")\n",
    "print s.replace(\" \")"
   ]
  },
  {
   "cell_type": "code",
   "execution_count": 9,
   "metadata": {},
   "outputs": [
    {
     "name": "stdout",
     "output_type": "stream",
     "text": [
      "xycdxycdxycdxycdxycdxycd\n"
     ]
    }
   ],
   "source": [
    "s=\"abcdabcdabcdabcdabcdabcd\"\n",
    "print s.replace(\"ab\",\"xy\")"
   ]
  },
  {
   "cell_type": "code",
   "execution_count": 10,
   "metadata": {},
   "outputs": [
    {
     "name": "stdout",
     "output_type": "stream",
     "text": [
      "xycdxycdxycdabcdabcdabcd\n"
     ]
    }
   ],
   "source": [
    "s=\"abcdabcdabcdabcdabcdabcd\"\n",
    "print s.replace(\"ab\",\"xy\",3)"
   ]
  },
  {
   "cell_type": "code",
   "execution_count": 11,
   "metadata": {},
   "outputs": [
    {
     "name": "stdout",
     "output_type": "stream",
     "text": [
      "xycdabcdabcdabcdabcdabcd\n"
     ]
    }
   ],
   "source": [
    "s=\"abcdabcdabcdabcdabcdabcd\"\n",
    "print s.replace(\"ab\",\"xy\",1)"
   ]
  },
  {
   "cell_type": "code",
   "execution_count": 12,
   "metadata": {},
   "outputs": [
    {
     "name": "stdout",
     "output_type": "stream",
     "text": [
      "xycdxycdxycdxycdxycdxycd\n"
     ]
    }
   ],
   "source": [
    "s=\"abcdabcdabcdabcdabcdabcd\"\n",
    "print s.replace(\"ab\",\"xy\",-1)"
   ]
  },
  {
   "cell_type": "code",
   "execution_count": 13,
   "metadata": {},
   "outputs": [
    {
     "name": "stdout",
     "output_type": "stream",
     "text": [
      "xycdxycdxycdxycdxycdxycd\n"
     ]
    }
   ],
   "source": [
    "s=\"abcdabcdabcdabcdabcdabcd\"\n",
    "print s.replace(\"ab\",\"xy\",-2)"
   ]
  },
  {
   "cell_type": "code",
   "execution_count": 14,
   "metadata": {},
   "outputs": [
    {
     "name": "stdout",
     "output_type": "stream",
     "text": [
      "abcdabcdabcdabcdabcdabcd\n"
     ]
    }
   ],
   "source": [
    "s=\"abcdabcdabcdabcdabcdabcd\"\n",
    "print s.replace(\"ab\",\"xy\",0)"
   ]
  },
  {
   "cell_type": "code",
   "execution_count": 15,
   "metadata": {},
   "outputs": [
    {
     "name": "stdout",
     "output_type": "stream",
     "text": [
      "xycdxycdxycdxycdabcdabcd\n"
     ]
    }
   ],
   "source": [
    "s=\"abcdabcdabcdabcdabcdabcd\"\n",
    "print s.replace(\"ab\",\"xy\",4)"
   ]
  },
  {
   "cell_type": "code",
   "execution_count": 16,
   "metadata": {},
   "outputs": [
    {
     "name": "stdout",
     "output_type": "stream",
     "text": [
      "QXVnKjIwMThn\n",
      "\n"
     ]
    }
   ],
   "source": [
    "##At time of registration \n",
    "username=\"maheshpuppala21\"\n",
    "password=\"Aug*2018g\"\n",
    "pwd_e=password.encode(\"base64\")\n",
    "print pwd_e\n"
   ]
  },
  {
   "cell_type": "code",
   "execution_count": 17,
   "metadata": {},
   "outputs": [
    {
     "name": "stdout",
     "output_type": "stream",
     "text": [
      "False\n"
     ]
    }
   ],
   "source": [
    "##login -- we need to use same algorithm\n",
    "username=\"maheshpuppala21\"\n",
    "password=\"Aug*2018g\"\n",
    "print pwd_e == password"
   ]
  },
  {
   "cell_type": "code",
   "execution_count": 18,
   "metadata": {},
   "outputs": [
    {
     "name": "stdout",
     "output_type": "stream",
     "text": [
      "True\n"
     ]
    }
   ],
   "source": [
    "##login -- we need to use same algorithm\n",
    "username=\"maheshpuppala21\"\n",
    "password=\"Aug*2018g\"\n",
    "print pwd_e == password.encode(\"base64\")"
   ]
  },
  {
   "cell_type": "code",
   "execution_count": 20,
   "metadata": {},
   "outputs": [
    {
     "name": "stdout",
     "output_type": "stream",
     "text": [
      "True\n"
     ]
    }
   ],
   "source": [
    "##login -- we need to use same algorithm\n",
    "username=\"maheshpuppala21\"\n",
    "password=\"Aug*2018g\"\n",
    "print pwd_e.decode(\"base64\") == password"
   ]
  },
  {
   "cell_type": "code",
   "execution_count": 23,
   "metadata": {},
   "outputs": [
    {
     "ename": "TypeError",
     "evalue": "replace() takes at most 3 arguments (4 given)",
     "output_type": "error",
     "traceback": [
      "\u001b[1;31m---------------------------------------------------------------------------\u001b[0m",
      "\u001b[1;31mTypeError\u001b[0m                                 Traceback (most recent call last)",
      "\u001b[1;32m<ipython-input-23-9dd47f6b1586>\u001b[0m in \u001b[0;36m<module>\u001b[1;34m()\u001b[0m\n\u001b[0;32m      8\u001b[0m \"\"\"\n\u001b[0;32m      9\u001b[0m \u001b[0ms\u001b[0m\u001b[1;33m=\u001b[0m\u001b[1;34m\"acbdsacbdfghadbc\"\u001b[0m\u001b[1;33m\u001b[0m\u001b[0m\n\u001b[1;32m---> 10\u001b[1;33m \u001b[1;32mprint\u001b[0m \u001b[0ms\u001b[0m\u001b[1;33m.\u001b[0m\u001b[0mreplace\u001b[0m\u001b[1;33m(\u001b[0m\u001b[1;34m\"a\"\u001b[0m\u001b[1;33m,\u001b[0m\u001b[1;34m\"!\"\u001b[0m\u001b[1;33m,\u001b[0m\u001b[1;34m\"b\"\u001b[0m\u001b[1;33m,\u001b[0m\u001b[1;34m\"@\"\u001b[0m\u001b[1;33m)\u001b[0m\u001b[1;33m\u001b[0m\u001b[0m\n\u001b[0m\u001b[0;32m     11\u001b[0m \u001b[1;33m\u001b[0m\u001b[0m\n\u001b[0;32m     12\u001b[0m \u001b[1;33m\u001b[0m\u001b[0m\n",
      "\u001b[1;31mTypeError\u001b[0m: replace() takes at most 3 arguments (4 given)"
     ]
    }
   ],
   "source": [
    "##WAP to replace the given string with below format.\n",
    "\"\"\"\n",
    "a with !\n",
    "b with @\n",
    "c with #\n",
    "d with $\n",
    "s with &\n",
    "\"\"\"\n",
    "s=\"acbdsacbdfghadbc\"\n",
    "print s.replace(\"a\",\"!\")\n",
    "\n",
    "\n"
   ]
  },
  {
   "cell_type": "code",
   "execution_count": 25,
   "metadata": {},
   "outputs": [
    {
     "name": "stdout",
     "output_type": "stream",
     "text": [
      "!#@$&!#@$fgh!$@#\n"
     ]
    }
   ],
   "source": [
    "##WAP to replace the given string with below format.\n",
    "\"\"\"\n",
    "a with !\n",
    "b with @\n",
    "c with #\n",
    "d with $\n",
    "s with &\n",
    "\"\"\"\n",
    "s=\"acbdsacbdfghadbc\"\n",
    "for i in s:\n",
    "    if i==\"a\":\n",
    "        s=s.replace(\"a\",\"!\")\n",
    "    elif i==\"b\":\n",
    "        s=s.replace(\"b\",\"@\")\n",
    "    elif i==\"c\":\n",
    "        s=s.replace(\"c\",\"#\")\n",
    "    elif i==\"d\":\n",
    "        s=s.replace(\"d\",\"$\")\n",
    "    elif i==\"s\":\n",
    "        s=s.replace(\"s\",\"&\")\n",
    "print s\n",
    "        \n",
    "  \n",
    "\n",
    "\n"
   ]
  },
  {
   "cell_type": "code",
   "execution_count": null,
   "metadata": {
    "collapsed": true
   },
   "outputs": [],
   "source": [
    "##for i in [\"a!\",\"b@\",\"c#\",\"d$\", \"s&\"]:\n",
    "##    print "
   ]
  },
  {
   "cell_type": "code",
   "execution_count": 26,
   "metadata": {},
   "outputs": [
    {
     "name": "stdout",
     "output_type": "stream",
     "text": [
      "!#@$&!#@$fgh!$@#\n"
     ]
    }
   ],
   "source": [
    "from string import maketrans\n",
    "table=maketrans(\"abcds\",\"!@#$&\")\n",
    "print s.translate(table)"
   ]
  },
  {
   "cell_type": "code",
   "execution_count": 27,
   "metadata": {},
   "outputs": [
    {
     "name": "stdout",
     "output_type": "stream",
     "text": [
      "!@#$&# ku!@r pupp@l@\n"
     ]
    }
   ],
   "source": [
    "from string import maketrans\n",
    "s=\"mahesh kumar puppala\"\n",
    "table=maketrans(\"mahes\",\"!@#$&\")\n",
    "print s.translate(table)"
   ]
  },
  {
   "cell_type": "code",
   "execution_count": 29,
   "metadata": {},
   "outputs": [
    {
     "name": "stdout",
     "output_type": "stream",
     "text": [
      "m!hesh kum!r pupp!l!\n"
     ]
    }
   ],
   "source": [
    "from string import maketrans\n",
    "s=\"mahesh kumar puppala\"\n",
    "table=maketrans(\"a\",\"!\")\n",
    "print s.translate(table)"
   ]
  },
  {
   "cell_type": "code",
   "execution_count": 30,
   "metadata": {},
   "outputs": [
    {
     "data": {
      "text/plain": [
       "'alappup ramuk hseham'"
      ]
     },
     "execution_count": 30,
     "metadata": {},
     "output_type": "execute_result"
    }
   ],
   "source": [
    "s=\"mahesh kumar puppala\"\n",
    "s[::-1]"
   ]
  },
  {
   "cell_type": "code",
   "execution_count": 32,
   "metadata": {},
   "outputs": [
    {
     "data": {
      "text/plain": [
       "'dcbadcbadcbadcbadcba'"
      ]
     },
     "execution_count": 32,
     "metadata": {},
     "output_type": "execute_result"
    }
   ],
   "source": [
    "s=\"abcdabcdabcdabcdabcd\"\n",
    "s[::-1].replace(\"ab\",\"$#\",2)"
   ]
  },
  {
   "cell_type": "code",
   "execution_count": 35,
   "metadata": {},
   "outputs": [
    {
     "name": "stdout",
     "output_type": "stream",
     "text": [
      "dcbadcbadcbadcbadcba\n"
     ]
    }
   ],
   "source": [
    "s=\"abcdabcdabcdabcdabcd\"\n",
    "s1=s[::-1].replace(\"ab\",\"$#\",2)\n",
    "print s1"
   ]
  },
  {
   "cell_type": "code",
   "execution_count": null,
   "metadata": {
    "collapsed": true
   },
   "outputs": [],
   "source": [
    "## the oher functions split and rsplit\n",
    "s=\"abcdabcdabcdabcdabcd\"\n",
    "s1=s[::-1].replace(\"ab\",\"$#\",2)\n",
    "print s1"
   ]
  },
  {
   "cell_type": "code",
   "execution_count": 36,
   "metadata": {},
   "outputs": [
    {
     "name": "stdout",
     "output_type": "stream",
     "text": [
      "True\n",
      "True\n"
     ]
    }
   ],
   "source": [
    "##\n",
    "s=\"python program\"\n",
    "print s.startswith(\"pyt\")\n",
    "print s.endswith(\"gram\")"
   ]
  },
  {
   "cell_type": "code",
   "execution_count": 37,
   "metadata": {},
   "outputs": [
    {
     "name": "stdout",
     "output_type": "stream",
     "text": [
      "False\n",
      "False\n"
     ]
    }
   ],
   "source": [
    "##\n",
    "s=\"python program\"\n",
    "print s.startswith(\"pro\",2)\n",
    "print s.endswith(\"hon\",1)"
   ]
  },
  {
   "cell_type": "code",
   "execution_count": 38,
   "metadata": {},
   "outputs": [
    {
     "name": "stdout",
     "output_type": "stream",
     "text": [
      "True\n",
      "True\n"
     ]
    }
   ],
   "source": [
    "##\n",
    "s=\"python program\"\n",
    "print s.startswith(\"\")\n",
    "print s.endswith(\"\")"
   ]
  },
  {
   "cell_type": "code",
   "execution_count": 39,
   "metadata": {},
   "outputs": [
    {
     "data": {
      "text/plain": [
       "'python program'"
      ]
     },
     "execution_count": 39,
     "metadata": {},
     "output_type": "execute_result"
    }
   ],
   "source": [
    "##expandtabs\n",
    "s=\"python program\"\n",
    "s.expandtabs()"
   ]
  },
  {
   "cell_type": "code",
   "execution_count": 40,
   "metadata": {},
   "outputs": [
    {
     "data": {
      "text/plain": [
       "0"
      ]
     },
     "execution_count": 40,
     "metadata": {},
     "output_type": "execute_result"
    }
   ],
   "source": [
    "s.find(\"p\")"
   ]
  },
  {
   "cell_type": "code",
   "execution_count": 42,
   "metadata": {},
   "outputs": [
    {
     "data": {
      "text/plain": [
       "3"
      ]
     },
     "execution_count": 42,
     "metadata": {},
     "output_type": "execute_result"
    }
   ],
   "source": [
    "s.find(\"h\")\n"
   ]
  },
  {
   "cell_type": "code",
   "execution_count": 43,
   "metadata": {},
   "outputs": [
    {
     "data": {
      "text/plain": [
       "0"
      ]
     },
     "execution_count": 43,
     "metadata": {},
     "output_type": "execute_result"
    }
   ],
   "source": [
    "##find() , it returns index of given substring of only first occurence\n",
    "s=\"mahesh kumar puppala\"\n",
    "s.find(\"m\")"
   ]
  },
  {
   "cell_type": "code",
   "execution_count": 44,
   "metadata": {},
   "outputs": [
    {
     "data": {
      "text/plain": [
       "2"
      ]
     },
     "execution_count": 44,
     "metadata": {},
     "output_type": "execute_result"
    }
   ],
   "source": [
    "##find() , it returns index of given substring of only first occurence\n",
    "s=\"mahesh kumar puppala\"\n",
    "s.find(\"h\")"
   ]
  },
  {
   "cell_type": "code",
   "execution_count": 45,
   "metadata": {},
   "outputs": [
    {
     "data": {
      "text/plain": [
       "-1"
      ]
     },
     "execution_count": 45,
     "metadata": {},
     "output_type": "execute_result"
    }
   ],
   "source": [
    "##find() , it returns index of given substring of only first occurence\n",
    "s=\"mahesh kumar puppala\"\n",
    "s.find(\"z\")"
   ]
  },
  {
   "cell_type": "code",
   "execution_count": 46,
   "metadata": {},
   "outputs": [
    {
     "data": {
      "text/plain": [
       "6"
      ]
     },
     "execution_count": 46,
     "metadata": {},
     "output_type": "execute_result"
    }
   ],
   "source": [
    "##find() , it returns index of given substring of only first occurence\n",
    "s=\"mahesh kumar puppala\"\n",
    "s.find(\" \")"
   ]
  },
  {
   "cell_type": "code",
   "execution_count": 47,
   "metadata": {},
   "outputs": [
    {
     "name": "stdout",
     "output_type": "stream",
     "text": [
      "-1\n"
     ]
    }
   ],
   "source": [
    "s=\"abcd abcd abcda abcd\"\n",
    "print s.find(\"z\")"
   ]
  },
  {
   "cell_type": "code",
   "execution_count": 48,
   "metadata": {},
   "outputs": [
    {
     "name": "stdout",
     "output_type": "stream",
     "text": [
      "0\n"
     ]
    }
   ],
   "source": [
    "s=\"abcd abcd abcda abcd\"\n",
    "print s.find(\"\")"
   ]
  },
  {
   "cell_type": "code",
   "execution_count": 49,
   "metadata": {},
   "outputs": [
    {
     "name": "stdout",
     "output_type": "stream",
     "text": [
      "4\n"
     ]
    }
   ],
   "source": [
    "s=\"abcd abcd abcda abcd\"\n",
    "print s.find(\" \")"
   ]
  },
  {
   "cell_type": "code",
   "execution_count": 52,
   "metadata": {},
   "outputs": [
    {
     "name": "stdout",
     "output_type": "stream",
     "text": [
      "2\n"
     ]
    }
   ],
   "source": [
    "s=\"abcd abcd abcda abcd\"\n",
    "print s.find(\"cd\")"
   ]
  },
  {
   "cell_type": "code",
   "execution_count": 53,
   "metadata": {},
   "outputs": [
    {
     "name": "stdout",
     "output_type": "stream",
     "text": [
      "0\n",
      "16\n",
      "0\n",
      "16\n"
     ]
    }
   ],
   "source": [
    "s=\"abcd abcd abcda abcd\"\n",
    "print s.find(\"ab\")\n",
    "print s.rfind(\"ab\")\n",
    "print s.index(\"ab\")\n",
    "print s.rindex(\"ab\")"
   ]
  },
  {
   "cell_type": "code",
   "execution_count": 54,
   "metadata": {},
   "outputs": [
    {
     "name": "stdout",
     "output_type": "stream",
     "text": [
      "-1\n"
     ]
    }
   ],
   "source": [
    "s=\"abcd abcd abcd abcd\"\n",
    "print s.find(\"AB\")\n"
   ]
  },
  {
   "cell_type": "code",
   "execution_count": 66,
   "metadata": {},
   "outputs": [
    {
     "name": "stdout",
     "output_type": "stream",
     "text": [
      "enter a string: mahesh kumar puppala\n",
      "enter sub string: h\n",
      "No\n"
     ]
    }
   ],
   "source": [
    "str1=raw_input(\"enter a string: \")\n",
    "sub_str1=raw_input(\"enter sub string: \")\n",
    "cnt=0\n",
    "for i in str1:\n",
    "    if s.find(sub_str1):\n",
    "        cnt=cnt+1\n",
    "        if cnt>0:\n",
    "            break\n",
    "        #print \"yes\"\n",
    "    #else:\n",
    "     #   print \"No\"\n",
    "        \n",
    "if cnt>1:\n",
    "    print \"yes\"\n",
    "else:\n",
    "    print \"No\""
   ]
  },
  {
   "cell_type": "code",
   "execution_count": null,
   "metadata": {
    "collapsed": true
   },
   "outputs": [],
   "source": []
  }
 ],
 "metadata": {
  "kernelspec": {
   "display_name": "Python 2",
   "language": "python",
   "name": "python2"
  },
  "language_info": {
   "codemirror_mode": {
    "name": "ipython",
    "version": 2
   },
   "file_extension": ".py",
   "mimetype": "text/x-python",
   "name": "python",
   "nbconvert_exporter": "python",
   "pygments_lexer": "ipython2",
   "version": "2.7.14"
  }
 },
 "nbformat": 4,
 "nbformat_minor": 2
}
