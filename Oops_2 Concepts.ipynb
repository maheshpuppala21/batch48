{
 "cells": [
  {
   "cell_type": "code",
   "execution_count": 2,
   "metadata": {},
   "outputs": [
    {
     "name": "stdout",
     "output_type": "stream",
     "text": [
      "<__main__.c1 instance at 0x00000000058DA708>\n",
      "20\n",
      "<__main__.c1 instance at 0x00000000058DA708>\n",
      "2000\n"
     ]
    }
   ],
   "source": [
    "class c1:\n",
    "    def fun(a,b):\n",
    "        print a\n",
    "        print b\n",
    "o1=c1()\n",
    "c1.fun(o1,20)    #calling with class object\n",
    "o1.fun(2000)    #calling with data object"
   ]
  },
  {
   "cell_type": "code",
   "execution_count": 8,
   "metadata": {},
   "outputs": [
    {
     "name": "stdout",
     "output_type": "stream",
     "text": [
      "<__main__.c1 instance at 0x00000000058DAC48>\n",
      "20\n",
      "<__main__.c1 instance at 0x00000000058DAC48>\n",
      "2000\n",
      "anil\n",
      "anil\n",
      "23\n",
      "5.6\n"
     ]
    }
   ],
   "source": [
    "class c1:\n",
    "    name=\"anil\"\n",
    "    def fun(a,b):\n",
    "        print a\n",
    "        print b\n",
    "o1=c1()\n",
    "c1.fun(o1,20)    #calling with class object\n",
    "o1.fun(2000)    #calling with data object\n",
    "print c1.name\n",
    "print o1.name\n",
    "o1.age=23\n",
    "o1.height = 5.6\n",
    "print o1.age\n",
    "print o1.height"
   ]
  },
  {
   "cell_type": "code",
   "execution_count": 9,
   "metadata": {},
   "outputs": [
    {
     "name": "stdout",
     "output_type": "stream",
     "text": [
      "<__main__.c1 instance at 0x00000000058DAD48>\n",
      "20\n",
      "<__main__.c1 instance at 0x00000000058DAD48>\n",
      "2000\n",
      "anil\n",
      "anil\n",
      "23\n",
      "5.6\n"
     ]
    },
    {
     "ename": "AttributeError",
     "evalue": "class c1 has no attribute 'age'",
     "output_type": "error",
     "traceback": [
      "\u001b[1;31m---------------------------------------------------------------------------\u001b[0m",
      "\u001b[1;31mAttributeError\u001b[0m                            Traceback (most recent call last)",
      "\u001b[1;32m<ipython-input-9-9ce85f78db6a>\u001b[0m in \u001b[0;36m<module>\u001b[1;34m()\u001b[0m\n\u001b[0;32m     13\u001b[0m \u001b[1;32mprint\u001b[0m \u001b[0mo1\u001b[0m\u001b[1;33m.\u001b[0m\u001b[0mage\u001b[0m\u001b[1;33m\u001b[0m\u001b[0m\n\u001b[0;32m     14\u001b[0m \u001b[1;32mprint\u001b[0m \u001b[0mo1\u001b[0m\u001b[1;33m.\u001b[0m\u001b[0mheight\u001b[0m\u001b[1;33m\u001b[0m\u001b[0m\n\u001b[1;32m---> 15\u001b[1;33m \u001b[1;32mprint\u001b[0m \u001b[0mc1\u001b[0m\u001b[1;33m.\u001b[0m\u001b[0mage\u001b[0m \u001b[1;31m#we cannot call data object as it is not declared in class object\u001b[0m\u001b[1;33m\u001b[0m\u001b[0m\n\u001b[0m",
      "\u001b[1;31mAttributeError\u001b[0m: class c1 has no attribute 'age'"
     ]
    }
   ],
   "source": [
    "class c1:\n",
    "    name=\"anil\"\n",
    "    def fun(a,b):\n",
    "        print a\n",
    "        print b\n",
    "o1=c1()\n",
    "c1.fun(o1,20)    #calling with class object\n",
    "o1.fun(2000)    #calling with data object\n",
    "print c1.name\n",
    "print o1.name\n",
    "o1.age=23\n",
    "o1.height = 5.6\n",
    "print o1.age\n",
    "print o1.height\n",
    "print c1.age #we cannot call data object as it is not declared in class object"
   ]
  },
  {
   "cell_type": "code",
   "execution_count": 12,
   "metadata": {},
   "outputs": [
    {
     "name": "stdout",
     "output_type": "stream",
     "text": [
      "<__main__.student instance at 0x00000000058FC148>\n",
      "80\n",
      "<__main__.student instance at 0x00000000058FC148>\n",
      "70\n",
      "mahesh\n",
      "mahesh\n"
     ]
    }
   ],
   "source": [
    "class student:\n",
    "    name=\"mahesh\"\n",
    "    age=30\n",
    "    def marks(a,b):\n",
    "        print a\n",
    "        print b\n",
    "s1=student()         #creating instance or dataobject of class\n",
    "s1.marks(80)\n",
    "student.marks(s1,70)\n",
    "print s1.name                  #calling with data object\n",
    "print student.name                #calling with class object\n"
   ]
  },
  {
   "cell_type": "code",
   "execution_count": 16,
   "metadata": {},
   "outputs": [
    {
     "name": "stdout",
     "output_type": "stream",
     "text": [
      "3\n",
      "emp2\n",
      "KHYAATHI\n",
      "maithrivanam, Hyderabad, TS, INDIA\n"
     ]
    }
   ],
   "source": [
    "class Employee:\n",
    "    company_name=\"KHYAATHI\"\n",
    "    company_address=\"maithrivanam, Hyderabad, TS, INDIA\"\n",
    "emp1=Employee()          #creating data object emp1 of class Employee\n",
    "emp1.name=\"emp1\"\n",
    "emp1.id=2\n",
    "emp1.sal=234556\n",
    "emp2=Employee()  #creating data object  emp2 of class Employee\n",
    "emp2.name=\"emp2\"\n",
    "emp2.id=3\n",
    "print emp2.id\n",
    "print emp2.name\n",
    "print emp2.company_name\n",
    "print emp2.company_address\n",
    "\n"
   ]
  },
  {
   "cell_type": "code",
   "execution_count": 22,
   "metadata": {},
   "outputs": [
    {
     "name": "stdout",
     "output_type": "stream",
     "text": [
      "TCS\n",
      "HITEC CITY\n",
      "HYDERABAD TS\n",
      "TCS\n",
      "GACHIBOWLI\n",
      "HYDERABAD TS\n"
     ]
    }
   ],
   "source": [
    "class Company:\n",
    "    company_name=\"TCS\"\n",
    "    company_policy=\"Need to come in Formals\"\n",
    "    Notice_period=\"2 Months\"\n",
    "c1=Company()\n",
    "c1.branchname=\"HITEC CITY\"\n",
    "c1.address=\"HYDERABAD TS\"\n",
    "c2=Company()\n",
    "c2.branchname=\"GACHIBOWLI\"\n",
    "c2.address=\"HYDERABAD TS\"\n",
    "c3=Company()\n",
    "c3.branchname=\"ANDHERI\"\n",
    "c3.address=\"MUMBAI KS\"\n",
    "print c1.company_name\n",
    "print c1.branchname\n",
    "print c1.address\n",
    "\n",
    "print c2.company_name\n",
    "print c2.branchname\n",
    "print c2.address\n",
    "\n",
    "    "
   ]
  },
  {
   "cell_type": "code",
   "execution_count": null,
   "metadata": {
    "collapsed": true
   },
   "outputs": [],
   "source": []
  }
 ],
 "metadata": {
  "kernelspec": {
   "display_name": "Python 2",
   "language": "python",
   "name": "python2"
  },
  "language_info": {
   "codemirror_mode": {
    "name": "ipython",
    "version": 2
   },
   "file_extension": ".py",
   "mimetype": "text/x-python",
   "name": "python",
   "nbconvert_exporter": "python",
   "pygments_lexer": "ipython2",
   "version": "2.7.14"
  }
 },
 "nbformat": 4,
 "nbformat_minor": 2
}
