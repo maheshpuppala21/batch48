{
 "cells": [
  {
   "cell_type": "code",
   "execution_count": 4,
   "metadata": {},
   "outputs": [
    {
     "name": "stdout",
     "output_type": "stream",
     "text": [
      "no of vowels:  18\n"
     ]
    }
   ],
   "source": [
    "#to know how many no of vowels in the string \n",
    "s=\"python is a pure object oriented program languagea\"\n",
    "c=0\n",
    "for i in s:\n",
    "    if i in ['a','i','e','o','u']:\n",
    "        c=c+1\n",
    "print \"no of vowels: \",c"
   ]
  },
  {
   "cell_type": "code",
   "execution_count": 5,
   "metadata": {},
   "outputs": [
    {
     "name": "stdout",
     "output_type": "stream",
     "text": [
      "number of vowels: 4\n"
     ]
    }
   ],
   "source": [
    "s=\"program started\"\n",
    "c=0\n",
    "for i in s:\n",
    "    if i in ['a','e','i','o','u']:\n",
    "        c=c+1\n",
    "print \"number of vowels:\",c\n"
   ]
  },
  {
   "cell_type": "code",
   "execution_count": 7,
   "metadata": {},
   "outputs": [
    {
     "name": "stdout",
     "output_type": "stream",
     "text": [
      "program started\n",
      "i inside loop: 1\n",
      "i inside loop: 2\n",
      "i outside loop: 3\n"
     ]
    }
   ],
   "source": [
    "print \"program started\"\n",
    "i=0\n",
    "while i<10:\n",
    "    i=i+1\n",
    "    if i==3:\n",
    "        break\n",
    "    print \"i inside loop:\",i\n",
    "print \"i outside loop:\",i"
   ]
  },
  {
   "cell_type": "code",
   "execution_count": 12,
   "metadata": {},
   "outputs": [
    {
     "name": "stdout",
     "output_type": "stream",
     "text": [
      "program started\n",
      "i inside loop: 1\n",
      "i inside loop: 2\n",
      "i inside loop: 3\n",
      "i outside loop: 3\n"
     ]
    }
   ],
   "source": [
    "print \"program started\"\n",
    "i=0\n",
    "while i<10:\n",
    "    i=i+1\n",
    "    print \"i inside loop:\",i\n",
    "    if i==3:\n",
    "        break       \n",
    "print \"i outside loop:\",i"
   ]
  },
  {
   "cell_type": "code",
   "execution_count": 13,
   "metadata": {},
   "outputs": [
    {
     "name": "stdout",
     "output_type": "stream",
     "text": [
      "program started\n",
      "i inside the loop: p\n",
      "i inside the loop: y\n",
      "i inside the loop: t\n",
      "i inside the loop: h\n",
      "i inside the loop: o\n",
      "i inside the loop: n\n",
      "i outside loop: n\n",
      "program ended\n"
     ]
    }
   ],
   "source": [
    "print \"program started\"\n",
    "for i in \"python\":\n",
    "    if i==\"0\":\n",
    "        break\n",
    "    print \"i inside the loop:\",i\n",
    "print \"i outside loop:\",i\n",
    "print \"program ended\""
   ]
  },
  {
   "cell_type": "code",
   "execution_count": 14,
   "metadata": {},
   "outputs": [
    {
     "name": "stdout",
     "output_type": "stream",
     "text": [
      "i outside loop: 10\n"
     ]
    }
   ],
   "source": [
    "## continue \n",
    "i=0\n",
    "while i<10:\n",
    "    i=i+1\n",
    "print \"i outside loop:\",i"
   ]
  },
  {
   "cell_type": "code",
   "execution_count": 15,
   "metadata": {},
   "outputs": [
    {
     "name": "stdout",
     "output_type": "stream",
     "text": [
      "i outside loop: 10\n"
     ]
    }
   ],
   "source": [
    "## continue \n",
    "i=0\n",
    "while i<10:\n",
    "    i=i+1\n",
    "    continue\n",
    "    print \"i inside loop:\",i\n",
    "print \"i outside loop:\",i"
   ]
  },
  {
   "cell_type": "code",
   "execution_count": 16,
   "metadata": {},
   "outputs": [
    {
     "name": "stdout",
     "output_type": "stream",
     "text": [
      "i inside loop: 1\n",
      "i inside loop: 2\n",
      "i inside loop: 3\n",
      "i inside loop: 4\n",
      "i inside loop: 5\n",
      "i inside loop: 6\n",
      "i inside loop: 7\n",
      "i inside loop: 8\n",
      "i inside loop: 9\n",
      "i inside loop: 10\n",
      "i outside loop: 10\n"
     ]
    }
   ],
   "source": [
    "## continue -- dont execute remaining stmts after con\n",
    "i=0\n",
    "while i<10:\n",
    "    i=i+1\n",
    "    #continue\n",
    "    print \"i inside loop:\",i\n",
    "print \"i outside loop:\",i"
   ]
  },
  {
   "cell_type": "code",
   "execution_count": 1,
   "metadata": {},
   "outputs": [
    {
     "ename": "SyntaxError",
     "evalue": "invalid syntax (<ipython-input-1-2f1b8d38a226>, line 2)",
     "output_type": "error",
     "traceback": [
      "\u001b[1;36m  File \u001b[1;32m\"<ipython-input-1-2f1b8d38a226>\"\u001b[1;36m, line \u001b[1;32m2\u001b[0m\n\u001b[1;33m    while i<10\u001b[0m\n\u001b[1;37m              ^\u001b[0m\n\u001b[1;31mSyntaxError\u001b[0m\u001b[1;31m:\u001b[0m invalid syntax\n"
     ]
    }
   ],
   "source": [
    "##Infinite loop  by using continue -- dont execute\n",
    "i=0\n",
    "while i<10:\n",
    "    continue\n",
    "    i=i+1\n",
    "print i"
   ]
  },
  {
   "cell_type": "code",
   "execution_count": 2,
   "metadata": {},
   "outputs": [
    {
     "name": "stdout",
     "output_type": "stream",
     "text": [
      "i inside loop: c\n",
      "i inside loop: python\n",
      "i inside loop: java\n",
      "i outside loop: java\n"
     ]
    }
   ],
   "source": [
    "for i in [\"c\",\"cpp\",\"python\",\"php\",\"java\"]:\n",
    "    if i in [\"php\",\"cpp\"]:\n",
    "        continue\n",
    "    print \"i inside loop:\",i\n",
    "print \"i outside loop:\",i"
   ]
  },
  {
   "cell_type": "code",
   "execution_count": null,
   "metadata": {
    "collapsed": true
   },
   "outputs": [],
   "source": []
  }
 ],
 "metadata": {
  "kernelspec": {
   "display_name": "Python 2",
   "language": "python",
   "name": "python2"
  },
  "language_info": {
   "codemirror_mode": {
    "name": "ipython",
    "version": 2
   },
   "file_extension": ".py",
   "mimetype": "text/x-python",
   "name": "python",
   "nbconvert_exporter": "python",
   "pygments_lexer": "ipython2",
   "version": "2.7.14"
  }
 },
 "nbformat": 4,
 "nbformat_minor": 2
}
