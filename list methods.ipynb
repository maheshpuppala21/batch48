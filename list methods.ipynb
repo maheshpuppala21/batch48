{
 "cells": [
  {
   "cell_type": "code",
   "execution_count": 1,
   "metadata": {},
   "outputs": [
    {
     "name": "stdout",
     "output_type": "stream",
     "text": [
      "['a', 'b', 'e', 'c', 'd']\n"
     ]
    }
   ],
   "source": [
    "#want to add \"e\" in between the elements of list, need to give index position\n",
    "l=[\"a\",\"b\",\"c\",\"d\"]\n",
    "l.insert(2,\"e\")\n",
    "print l"
   ]
  },
  {
   "cell_type": "code",
   "execution_count": 2,
   "metadata": {},
   "outputs": [
    {
     "name": "stdout",
     "output_type": "stream",
     "text": [
      "['a', 'b', 'c', 'd', 'e']\n"
     ]
    }
   ],
   "source": [
    "#want to add \"e\" in between the elements of list\n",
    "l=[\"a\",\"b\",\"c\",\"d\"]\n",
    "l.insert(20,\"e\")\n",
    "print l"
   ]
  },
  {
   "cell_type": "code",
   "execution_count": 3,
   "metadata": {},
   "outputs": [
    {
     "name": "stdout",
     "output_type": "stream",
     "text": [
      "['a', 'b', 'c', 'e', 'd']\n"
     ]
    }
   ],
   "source": [
    "l=[\"a\",\"b\",\"c\",\"d\"]\n",
    "l.insert(-1,\"e\")\n",
    "print l"
   ]
  },
  {
   "cell_type": "code",
   "execution_count": 4,
   "metadata": {},
   "outputs": [
    {
     "name": "stdout",
     "output_type": "stream",
     "text": [
      "['a', 'b', 'e', 'c', 'd']\n"
     ]
    }
   ],
   "source": [
    "l=[\"a\",\"b\",\"c\",\"d\"]\n",
    "l.insert(-2,\"e\")\n",
    "print l"
   ]
  },
  {
   "cell_type": "code",
   "execution_count": 5,
   "metadata": {},
   "outputs": [
    {
     "name": "stdout",
     "output_type": "stream",
     "text": [
      "['e', 'a', 'b', 'c', 'd']\n"
     ]
    }
   ],
   "source": [
    "l=[\"a\",\"b\",\"c\",\"d\"]\n",
    "l.insert(-20,\"e\")\n",
    "print l"
   ]
  },
  {
   "cell_type": "code",
   "execution_count": 6,
   "metadata": {},
   "outputs": [
    {
     "name": "stdout",
     "output_type": "stream",
     "text": [
      "['e', 'a', 'b', 'c', 'd']\n"
     ]
    }
   ],
   "source": [
    "l=[\"a\",\"b\",\"c\",\"d\"]\n",
    "l.insert(0,\"e\")\n",
    "print l"
   ]
  },
  {
   "cell_type": "code",
   "execution_count": 7,
   "metadata": {},
   "outputs": [
    {
     "data": {
      "text/plain": [
       "4"
      ]
     },
     "execution_count": 7,
     "metadata": {},
     "output_type": "execute_result"
    }
   ],
   "source": [
    "l=[\"a\",\"b\",\"c\",\"d\",\"f\",\"a\",\"b\",\"c\",\"d\",\"f\",\"a\",\"b\",\"c\",\"d\",\"f\",\"a\",\"b\",\"c\",\"d\",\"f\",]\n",
    "l.count(\"a\")"
   ]
  },
  {
   "cell_type": "code",
   "execution_count": 8,
   "metadata": {},
   "outputs": [
    {
     "data": {
      "text/plain": [
       "0"
      ]
     },
     "execution_count": 8,
     "metadata": {},
     "output_type": "execute_result"
    }
   ],
   "source": [
    "l=[\"a\",\"b\",\"c\",\"d\",\"f\",\"a\",\"b\",\"c\",\"d\",\"f\",\"a\",\"b\",\"c\",\"d\",\"f\",\"a\",\"b\",\"c\",\"d\",\"f\",]\n",
    "l.count(\"A\")"
   ]
  },
  {
   "cell_type": "code",
   "execution_count": 9,
   "metadata": {},
   "outputs": [
    {
     "data": {
      "text/plain": [
       "3"
      ]
     },
     "execution_count": 9,
     "metadata": {},
     "output_type": "execute_result"
    }
   ],
   "source": [
    "l=[\"a\",\"b\",\"c\",\"d\",\"F\",\"A\",\"b\",\"c\",\"d\",\"E\",\"f\",\"a\",\"b\",\"c\",\"d\",\"f\",\"a\",\"b\",\"c\",\"D\",\"f\",]\n",
    "l.count(\"a\")"
   ]
  },
  {
   "cell_type": "code",
   "execution_count": 10,
   "metadata": {},
   "outputs": [
    {
     "data": {
      "text/plain": [
       "True"
      ]
     },
     "execution_count": 10,
     "metadata": {},
     "output_type": "execute_result"
    }
   ],
   "source": [
    "isinstance(\"python\",str)"
   ]
  },
  {
   "cell_type": "code",
   "execution_count": 11,
   "metadata": {},
   "outputs": [
    {
     "data": {
      "text/plain": [
       "True"
      ]
     },
     "execution_count": 11,
     "metadata": {},
     "output_type": "execute_result"
    }
   ],
   "source": [
    "isinstance(10,int)"
   ]
  },
  {
   "cell_type": "code",
   "execution_count": 12,
   "metadata": {},
   "outputs": [
    {
     "data": {
      "text/plain": [
       "True"
      ]
     },
     "execution_count": 12,
     "metadata": {},
     "output_type": "execute_result"
    }
   ],
   "source": [
    "isinstance([12,3,\"python\"],list)"
   ]
  },
  {
   "cell_type": "code",
   "execution_count": 13,
   "metadata": {},
   "outputs": [
    {
     "name": "stdout",
     "output_type": "stream",
     "text": [
      "10\n"
     ]
    }
   ],
   "source": [
    "l=[1,2,3,4]\n",
    "print sum(l)"
   ]
  },
  {
   "cell_type": "code",
   "execution_count": 20,
   "metadata": {},
   "outputs": [
    {
     "name": "stdout",
     "output_type": "stream",
     "text": [
      "enter the list of elements: 10,30,40\n",
      "10,30,40\n",
      "['10', '30', '40']\n"
     ]
    }
   ],
   "source": [
    "elem=raw_input(\"enter the list of elements: \")\n",
    "print elem\n",
    "l1=elem.split(\",\")\n",
    "print l1"
   ]
  },
  {
   "cell_type": "code",
   "execution_count": 21,
   "metadata": {},
   "outputs": [
    {
     "name": "stdout",
     "output_type": "stream",
     "text": [
      "enter the list of elements: 10,20,30\n",
      "10,20,30\n",
      "['10', '20', '30'] <type 'list'>\n"
     ]
    }
   ],
   "source": [
    "elem=raw_input(\"enter the list of elements: \")\n",
    "print elem\n",
    "l1=elem.split(\",\")\n",
    "print l1,type(l1)"
   ]
  },
  {
   "cell_type": "code",
   "execution_count": 22,
   "metadata": {},
   "outputs": [
    {
     "name": "stdout",
     "output_type": "stream",
     "text": [
      "enter the list of elements: 10,20,30,40\n",
      "10,20,30,40\n",
      "['10', '20', '30', '40'] <type 'list'>\n",
      "[10, 20, 30, 40]\n",
      "100\n"
     ]
    }
   ],
   "source": [
    "elem=raw_input(\"enter the list of elements: \")\n",
    "print elem\n",
    "l1=elem.split(\",\")\n",
    "print l1,type(l1)\n",
    "l2=[]\n",
    "for i in l1:\n",
    "    l2.append(int(i))\n",
    "print l2\n",
    "print sum(l2)"
   ]
  },
  {
   "cell_type": "code",
   "execution_count": 23,
   "metadata": {},
   "outputs": [
    {
     "name": "stdout",
     "output_type": "stream",
     "text": [
      "enter the list of elements: 10,ab,40\n",
      "10,ab,40\n",
      "['10', 'ab', '40'] <type 'list'>\n",
      "[10, 0, 40]\n",
      "50\n"
     ]
    }
   ],
   "source": [
    "elem=raw_input(\"enter the list of elements: \")\n",
    "print elem\n",
    "l1=elem.split(\",\")\n",
    "print l1,type(l1)\n",
    "l2=[]\n",
    "for i in l1:\n",
    "    if i.isdigit():\n",
    "        l2.append(int(i))         \n",
    "    else:\n",
    "        l2.append(0)                  #making str as 0\n",
    "print l2\n",
    "print sum(l2)"
   ]
  },
  {
   "cell_type": "code",
   "execution_count": 24,
   "metadata": {},
   "outputs": [
    {
     "name": "stdout",
     "output_type": "stream",
     "text": [
      "enter the list of elements: 10,ab, cd,20\n",
      "10,ab, cd,20\n",
      "['10', 'ab', ' cd', '20'] <type 'list'>\n",
      "[10, 20]\n",
      "30\n"
     ]
    }
   ],
   "source": [
    "elem=raw_input(\"enter the list of elements: \")\n",
    "print elem\n",
    "l1=elem.split(\",\")\n",
    "print l1,type(l1)\n",
    "l2=[]\n",
    "for i in l1:\n",
    "    if i.isdigit():\n",
    "        l2.append(int(i))         \n",
    "print l2\n",
    "print sum(l2)"
   ]
  },
  {
   "cell_type": "code",
   "execution_count": 25,
   "metadata": {},
   "outputs": [
    {
     "name": "stdout",
     "output_type": "stream",
     "text": [
      "['a', 'b', 'c', 'd']\n"
     ]
    }
   ],
   "source": [
    "l=[\"a\",\"b\",\"c\",\"d\"]\n",
    "l1=l.sort()\n",
    "print l"
   ]
  },
  {
   "cell_type": "code",
   "execution_count": 26,
   "metadata": {},
   "outputs": [
    {
     "data": {
      "text/plain": [
       "6"
      ]
     },
     "execution_count": 26,
     "metadata": {},
     "output_type": "execute_result"
    }
   ],
   "source": [
    "l=[1,3,5,6]\n",
    "max(l)"
   ]
  },
  {
   "cell_type": "code",
   "execution_count": 27,
   "metadata": {},
   "outputs": [
    {
     "name": "stdout",
     "output_type": "stream",
     "text": [
      "[1, 3, 5, 6]\n"
     ]
    }
   ],
   "source": [
    "l=[1,3,5,6]\n",
    "l.sort\n",
    "print l"
   ]
  },
  {
   "cell_type": "code",
   "execution_count": 29,
   "metadata": {},
   "outputs": [
    {
     "name": "stdout",
     "output_type": "stream",
     "text": [
      "['B', 'D', 'a', 'c']\n"
     ]
    }
   ],
   "source": [
    "l=[\"a\",\"D\",\"c\",\"B\"]\n",
    "l.sort()\n",
    "print l"
   ]
  },
  {
   "cell_type": "code",
   "execution_count": null,
   "metadata": {
    "collapsed": true
   },
   "outputs": [],
   "source": [
    "##remove() takes element but pop() takes index\n"
   ]
  },
  {
   "cell_type": "code",
   "execution_count": null,
   "metadata": {
    "collapsed": true
   },
   "outputs": [],
   "source": []
  },
  {
   "cell_type": "code",
   "execution_count": null,
   "metadata": {
    "collapsed": true
   },
   "outputs": [],
   "source": []
  }
 ],
 "metadata": {
  "kernelspec": {
   "display_name": "Python 2",
   "language": "python",
   "name": "python2"
  },
  "language_info": {
   "codemirror_mode": {
    "name": "ipython",
    "version": 2
   },
   "file_extension": ".py",
   "mimetype": "text/x-python",
   "name": "python",
   "nbconvert_exporter": "python",
   "pygments_lexer": "ipython2",
   "version": "2.7.14"
  }
 },
 "nbformat": 4,
 "nbformat_minor": 2
}
