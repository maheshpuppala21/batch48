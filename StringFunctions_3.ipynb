{
 "cells": [
  {
   "cell_type": "code",
   "execution_count": 1,
   "metadata": {},
   "outputs": [
    {
     "data": {
      "text/plain": [
       "False"
      ]
     },
     "execution_count": 1,
     "metadata": {},
     "output_type": "execute_result"
    }
   ],
   "source": [
    "s=\"python program\"\n",
    "s.isalnum()\n"
   ]
  },
  {
   "cell_type": "code",
   "execution_count": 2,
   "metadata": {},
   "outputs": [
    {
     "data": {
      "text/plain": [
       "True"
      ]
     },
     "execution_count": 2,
     "metadata": {},
     "output_type": "execute_result"
    }
   ],
   "source": [
    "s=\"pythonprogram\"\n",
    "s.isalnum()"
   ]
  },
  {
   "cell_type": "code",
   "execution_count": null,
   "metadata": {
    "collapsed": true
   },
   "outputs": [],
   "source": [
    "## all is function with empty will be false"
   ]
  },
  {
   "cell_type": "code",
   "execution_count": 3,
   "metadata": {},
   "outputs": [
    {
     "data": {
      "text/plain": [
       "False"
      ]
     },
     "execution_count": 3,
     "metadata": {},
     "output_type": "execute_result"
    }
   ],
   "source": [
    "s=\"\"\n",
    "s.isalnum()"
   ]
  },
  {
   "cell_type": "code",
   "execution_count": 4,
   "metadata": {},
   "outputs": [
    {
     "data": {
      "text/plain": [
       "False"
      ]
     },
     "execution_count": 4,
     "metadata": {},
     "output_type": "execute_result"
    }
   ],
   "source": [
    "s.isalpha()"
   ]
  },
  {
   "cell_type": "code",
   "execution_count": 5,
   "metadata": {},
   "outputs": [
    {
     "data": {
      "text/plain": [
       "False"
      ]
     },
     "execution_count": 5,
     "metadata": {},
     "output_type": "execute_result"
    }
   ],
   "source": [
    "s=\"1234\"\n",
    "s.isalpha()"
   ]
  },
  {
   "cell_type": "code",
   "execution_count": 6,
   "metadata": {},
   "outputs": [
    {
     "data": {
      "text/plain": [
       "False"
      ]
     },
     "execution_count": 6,
     "metadata": {},
     "output_type": "execute_result"
    }
   ],
   "source": [
    "s=\"1+2j\"\n",
    "s.isdigit()"
   ]
  },
  {
   "cell_type": "code",
   "execution_count": 7,
   "metadata": {},
   "outputs": [
    {
     "data": {
      "text/plain": [
       "True"
      ]
     },
     "execution_count": 7,
     "metadata": {},
     "output_type": "execute_result"
    }
   ],
   "source": [
    "s=\"1234\"\n",
    "s.isdigit()"
   ]
  },
  {
   "cell_type": "code",
   "execution_count": 8,
   "metadata": {},
   "outputs": [
    {
     "data": {
      "text/plain": [
       "True"
      ]
     },
     "execution_count": 8,
     "metadata": {},
     "output_type": "execute_result"
    }
   ],
   "source": [
    "s=\"abcd1234\"\n",
    "s.islower()"
   ]
  },
  {
   "cell_type": "code",
   "execution_count": 9,
   "metadata": {},
   "outputs": [
    {
     "data": {
      "text/plain": [
       "True"
      ]
     },
     "execution_count": 9,
     "metadata": {},
     "output_type": "execute_result"
    }
   ],
   "source": [
    "s=\"123abcd\"\n",
    "s.islower()"
   ]
  },
  {
   "cell_type": "code",
   "execution_count": 10,
   "metadata": {},
   "outputs": [
    {
     "data": {
      "text/plain": [
       "False"
      ]
     },
     "execution_count": 10,
     "metadata": {},
     "output_type": "execute_result"
    }
   ],
   "source": [
    "s=\"123abcd\"\n",
    "s.isupper()"
   ]
  },
  {
   "cell_type": "code",
   "execution_count": 11,
   "metadata": {},
   "outputs": [
    {
     "data": {
      "text/plain": [
       "False"
      ]
     },
     "execution_count": 11,
     "metadata": {},
     "output_type": "execute_result"
    }
   ],
   "source": [
    "s=\"Abcd1234CD\"\n",
    "s.isupper()"
   ]
  },
  {
   "cell_type": "code",
   "execution_count": 12,
   "metadata": {},
   "outputs": [
    {
     "data": {
      "text/plain": [
       "False"
      ]
     },
     "execution_count": 12,
     "metadata": {},
     "output_type": "execute_result"
    }
   ],
   "source": [
    "s=\"abcdA24\"\n",
    "s.islower()\n"
   ]
  },
  {
   "cell_type": "code",
   "execution_count": 13,
   "metadata": {},
   "outputs": [
    {
     "data": {
      "text/plain": [
       "False"
      ]
     },
     "execution_count": 13,
     "metadata": {},
     "output_type": "execute_result"
    }
   ],
   "source": [
    "s=\"@#12%3\"\n",
    "s.islower()"
   ]
  },
  {
   "cell_type": "code",
   "execution_count": 14,
   "metadata": {},
   "outputs": [
    {
     "data": {
      "text/plain": [
       "False"
      ]
     },
     "execution_count": 14,
     "metadata": {},
     "output_type": "execute_result"
    }
   ],
   "source": [
    "##if string contains only spaces, isspace() will search for only spaces\n",
    "s=\"ptyhon program\"\n",
    "s.isspace()"
   ]
  },
  {
   "cell_type": "code",
   "execution_count": 15,
   "metadata": {},
   "outputs": [
    {
     "data": {
      "text/plain": [
       "True"
      ]
     },
     "execution_count": 15,
     "metadata": {},
     "output_type": "execute_result"
    }
   ],
   "source": [
    "s=\"    \"\n",
    "s.isspace()"
   ]
  },
  {
   "cell_type": "code",
   "execution_count": 18,
   "metadata": {},
   "outputs": [
    {
     "name": "stdout",
     "output_type": "stream",
     "text": [
      "True\n"
     ]
    }
   ],
   "source": [
    "print \" \" in \"python program\""
   ]
  },
  {
   "cell_type": "code",
   "execution_count": 20,
   "metadata": {},
   "outputs": [
    {
     "name": "stdout",
     "output_type": "stream",
     "text": [
      "enter a number: abcd12\n"
     ]
    }
   ],
   "source": [
    "s=raw_input(\"enter a number: \")\n",
    "if s.isdigit():\n",
    "    print \"string contains digit:\",s"
   ]
  },
  {
   "cell_type": "code",
   "execution_count": 25,
   "metadata": {},
   "outputs": [
    {
     "data": {
      "text/plain": [
       "57"
      ]
     },
     "execution_count": 25,
     "metadata": {},
     "output_type": "execute_result"
    }
   ],
   "source": [
    "s=\"abcd1234df\"\n",
    "s.isdigit()\n",
    "ord('0')\n",
    "ord('9')"
   ]
  },
  {
   "cell_type": "code",
   "execution_count": 32,
   "metadata": {},
   "outputs": [
    {
     "name": "stdout",
     "output_type": "stream",
     "text": [
      "enter a number: asldlfdfkdfld4\n",
      "the string contains digit 4\n",
      "the string contains digit\n"
     ]
    }
   ],
   "source": [
    "##the below logic not working when we specify in last digit\n",
    "s=raw_input(\"enter a number: \")\n",
    "cnt=0\n",
    "for i in s:\n",
    "    if ord(i)>=48 and ord(i)<=57:\n",
    "        #print \"the string contains digit\",i\n",
    "        cnt=cnt+1\n",
    "    else:\n",
    "        pass\n",
    "        \n",
    "if cnt>=1:\n",
    "    print \"the string contains digit\"\n",
    "else:\n",
    "    print \"the string does not contain digit\""
   ]
  },
  {
   "cell_type": "code",
   "execution_count": 33,
   "metadata": {},
   "outputs": [
    {
     "name": "stdout",
     "output_type": "stream",
     "text": [
      "enter a value: aslfldfdlfdlf3\n",
      "it contains digits\n"
     ]
    }
   ],
   "source": [
    "##the below is best logic\n",
    "s=raw_input(\"enter a value: \")\n",
    "for i in range(10):\n",
    "    if str(i) in s:\n",
    "        print \"it contains digits\"\n",
    "        break\n",
    "else:\n",
    "    print \"it not contain digits\""
   ]
  },
  {
   "cell_type": "code",
   "execution_count": 36,
   "metadata": {},
   "outputs": [
    {
     "name": "stdout",
     "output_type": "stream",
     "text": [
      "enter a value: aldkfldfdlfdlfk\n",
      "it does not contains special characters\n"
     ]
    }
   ],
   "source": [
    "##WAP whether given string contains \"special symbols or not.\n",
    "s=raw_input(\"enter a value: \")\n",
    "l=['!','@','#','$','%','^','&']\n",
    "for i in l:\n",
    "    if str(i) in s:\n",
    "        print \"it contains special characters\"\n",
    "        break\n",
    "else:\n",
    "    print \"it does not contains special characters\""
   ]
  },
  {
   "cell_type": "code",
   "execution_count": 37,
   "metadata": {},
   "outputs": [
    {
     "data": {
      "text/plain": [
       "'!\"#$%&\\'()*+,-./:;<=>?@[\\\\]^_`{|}~'"
      ]
     },
     "execution_count": 37,
     "metadata": {},
     "output_type": "execute_result"
    }
   ],
   "source": [
    "import string\n",
    "string.punctuation"
   ]
  },
  {
   "cell_type": "code",
   "execution_count": 40,
   "metadata": {},
   "outputs": [
    {
     "name": "stdout",
     "output_type": "stream",
     "text": [
      "enter a value: slfdlfdfkld@kdfldfk\n",
      "it contains special symbols\n"
     ]
    }
   ],
   "source": [
    "##WAP whether given string contains \"special symbols or not.\n",
    "s=raw_input(\"enter a value: \")\n",
    "#l=['!','@','#','$','%','^','&']\n",
    "for i in s:\n",
    "    if i.isalnum():\n",
    "        continue\n",
    "    else:\n",
    "        print \"it contains special symbols\"\n",
    "        break\n",
    "else:\n",
    "    print \"it does not contain special symbols\"\n",
    "    \n",
    " "
   ]
  },
  {
   "cell_type": "code",
   "execution_count": 45,
   "metadata": {},
   "outputs": [
    {
     "data": {
      "text/plain": [
       "'Pythom program3ing language@ad'"
      ]
     },
     "execution_count": 45,
     "metadata": {},
     "output_type": "execute_result"
    }
   ],
   "source": [
    "s=\"pythom program3ing language@ad\"\n",
    "#s.title()\n",
    "s.capitalize()"
   ]
  },
  {
   "cell_type": "code",
   "execution_count": 46,
   "metadata": {},
   "outputs": [
    {
     "data": {
      "text/plain": [
       "True"
      ]
     },
     "execution_count": 46,
     "metadata": {},
     "output_type": "execute_result"
    }
   ],
   "source": [
    "s=\"Pht1Hon Prog#Ram\"\n",
    "s.istitle()"
   ]
  },
  {
   "cell_type": "code",
   "execution_count": null,
   "metadata": {
    "collapsed": true
   },
   "outputs": [],
   "source": [
    "#convert every word start letter into caps. some how  title not working "
   ]
  },
  {
   "cell_type": "code",
   "execution_count": 47,
   "metadata": {
    "collapsed": true
   },
   "outputs": [],
   "source": [
    "s.title?"
   ]
  },
  {
   "cell_type": "code",
   "execution_count": 48,
   "metadata": {},
   "outputs": [
    {
     "name": "stdout",
     "output_type": "stream",
     "text": [
      "123455353\n"
     ]
    }
   ],
   "source": [
    "s=\"123455353\"\n",
    "print s.title()"
   ]
  },
  {
   "cell_type": "code",
   "execution_count": 49,
   "metadata": {},
   "outputs": [
    {
     "name": "stdout",
     "output_type": "stream",
     "text": [
      "False\n"
     ]
    }
   ],
   "source": [
    "s=\"123455353\"\n",
    "print s.istitle()"
   ]
  },
  {
   "cell_type": "code",
   "execution_count": 52,
   "metadata": {},
   "outputs": [
    {
     "name": "stdout",
     "output_type": "stream",
     "text": [
      "c,c:cpp,cpp:python,python:java,java:html,html:\n"
     ]
    }
   ],
   "source": [
    "s=[\"c\",\"cpp\",\"python\",\"java\",\"html\"]\n",
    "s1=\"\"\n",
    "for i in s:\n",
    "    s1=s1+i+','\n",
    "    #s1=s1+i+':'\n",
    "print s1"
   ]
  },
  {
   "cell_type": "code",
   "execution_count": 55,
   "metadata": {},
   "outputs": [
    {
     "name": "stdout",
     "output_type": "stream",
     "text": [
      "c,cpp,python,java,html\n"
     ]
    }
   ],
   "source": [
    "##join() function , it works only have same datatype in list\n",
    "l=[\"c\",\"cpp\",\"python\",\"java\",\"html\"]\n",
    "#print \":\".join(l)\n",
    "print \",\".join(l)\n"
   ]
  },
  {
   "cell_type": "code",
   "execution_count": 56,
   "metadata": {},
   "outputs": [
    {
     "ename": "TypeError",
     "evalue": "sequence item 5: expected string, int found",
     "output_type": "error",
     "traceback": [
      "\u001b[1;31m---------------------------------------------------------------------------\u001b[0m",
      "\u001b[1;31mTypeError\u001b[0m                                 Traceback (most recent call last)",
      "\u001b[1;32m<ipython-input-56-a8fd6236cc5c>\u001b[0m in \u001b[0;36m<module>\u001b[1;34m()\u001b[0m\n\u001b[0;32m      2\u001b[0m \u001b[0ml\u001b[0m\u001b[1;33m=\u001b[0m\u001b[1;33m[\u001b[0m\u001b[1;34m\"c\"\u001b[0m\u001b[1;33m,\u001b[0m\u001b[1;34m\"cpp\"\u001b[0m\u001b[1;33m,\u001b[0m\u001b[1;34m\"python\"\u001b[0m\u001b[1;33m,\u001b[0m\u001b[1;34m\"java\"\u001b[0m\u001b[1;33m,\u001b[0m\u001b[1;34m\"html\"\u001b[0m\u001b[1;33m,\u001b[0m\u001b[1;36m1234\u001b[0m\u001b[1;33m]\u001b[0m\u001b[1;33m\u001b[0m\u001b[0m\n\u001b[0;32m      3\u001b[0m \u001b[1;31m#print \":\".join(l)\u001b[0m\u001b[1;33m\u001b[0m\u001b[1;33m\u001b[0m\u001b[0m\n\u001b[1;32m----> 4\u001b[1;33m \u001b[1;32mprint\u001b[0m \u001b[1;34m\",\"\u001b[0m\u001b[1;33m.\u001b[0m\u001b[0mjoin\u001b[0m\u001b[1;33m(\u001b[0m\u001b[0ml\u001b[0m\u001b[1;33m)\u001b[0m\u001b[1;33m\u001b[0m\u001b[0m\n\u001b[0m",
      "\u001b[1;31mTypeError\u001b[0m: sequence item 5: expected string, int found"
     ]
    }
   ],
   "source": [
    "##join() function , it works only have same datatype in list\n",
    "l=[\"c\",\"cpp\",\"python\",\"java\",\"html\",1234]\n",
    "#print \":\".join(l)\n",
    "print \",\".join(l)\n"
   ]
  },
  {
   "cell_type": "code",
   "execution_count": 58,
   "metadata": {},
   "outputs": [
    {
     "name": "stdout",
     "output_type": "stream",
     "text": [
      "k2,k1\n"
     ]
    }
   ],
   "source": [
    "d={\"k1\":\"v1\",\"k2\":\"v2\"}\n",
    "print \",\".join(d)"
   ]
  },
  {
   "cell_type": "code",
   "execution_count": 59,
   "metadata": {},
   "outputs": [
    {
     "name": "stdout",
     "output_type": "stream",
     "text": [
      "k3,k2,k1\n"
     ]
    }
   ],
   "source": [
    "d={\"k1\":\"v1\",\"k2\":\"v2\",\"k3\":23}\n",
    "print \",\".join(d)"
   ]
  },
  {
   "cell_type": "code",
   "execution_count": 60,
   "metadata": {},
   "outputs": [
    {
     "name": "stdout",
     "output_type": "stream",
     "text": [
      "     user   name   \n",
      "user   name\n"
     ]
    }
   ],
   "source": [
    "##strip removes leftmost and rightmost spaces for given string\n",
    "username=\"     user   name   \"\n",
    "print username\n",
    "print username.strip()"
   ]
  },
  {
   "cell_type": "code",
   "execution_count": 61,
   "metadata": {},
   "outputs": [
    {
     "name": "stdout",
     "output_type": "stream",
     "text": [
      "     user   name   \n",
      "user   name   \n"
     ]
    }
   ],
   "source": [
    "##strip removes leftmost and rightmost spaces for given string\n",
    "username=\"     user   name   abc\"\n",
    "print username\n",
    "print username.lstrip()"
   ]
  },
  {
   "cell_type": "code",
   "execution_count": 62,
   "metadata": {},
   "outputs": [
    {
     "name": "stdout",
     "output_type": "stream",
     "text": [
      "#$user@#name#@$\n",
      "user@#name#@\n"
     ]
    }
   ],
   "source": [
    "##strip removes leftmost and rightmost spaces for given string\n",
    "username=\"#$user@#name#@$\"\n",
    "print username\n",
    "print username.strip('$#')"
   ]
  },
  {
   "cell_type": "code",
   "execution_count": 63,
   "metadata": {},
   "outputs": [
    {
     "name": "stdout",
     "output_type": "stream",
     "text": [
      "#$user@#name#@$\n",
      "user@#name#@\n",
      "user@#name#@$\n",
      "#$user@#name#@\n"
     ]
    }
   ],
   "source": [
    "##strip removes leftmost and rightmost spaces for given string\n",
    "username=\"#$user@#name#@$\"\n",
    "print username\n",
    "print username.strip('$#')\n",
    "print username.lstrip('$#')\n",
    "print username.rstrip('$#')"
   ]
  },
  {
   "cell_type": "code",
   "execution_count": 64,
   "metadata": {},
   "outputs": [
    {
     "name": "stdout",
     "output_type": "stream",
     "text": [
      "['python is pure object oriented progr', 'mming l', 'ngu', 'ge']\n"
     ]
    }
   ],
   "source": [
    "##how to remove a character from string\n",
    "s=\"python is pure object oriented programming language\"\n",
    "print s.split(\"a\")"
   ]
  },
  {
   "cell_type": "code",
   "execution_count": 65,
   "metadata": {},
   "outputs": [
    {
     "name": "stdout",
     "output_type": "stream",
     "text": [
      "python is pure object oriented progrmming lnguge\n",
      "python is pure object oriented progrmming lnguge\n"
     ]
    }
   ],
   "source": [
    "##how to remove a character from string\n",
    "s=\"python is pure object oriented programming language\"\n",
    "print s.replace(\"a\",\"\")\n",
    "\n",
    "\n",
    "s1=s.split(\"a\")\n",
    "print \"\".join(s1)"
   ]
  },
  {
   "cell_type": "code",
   "execution_count": 66,
   "metadata": {},
   "outputs": [
    {
     "name": "stdout",
     "output_type": "stream",
     "text": [
      "python,is,pure,object,oriented,programming,language\n"
     ]
    }
   ],
   "source": [
    "s=\"python is pure object oriented programming language\"\n",
    "s1=s.replace(\" \",\",\")\n",
    "print s1"
   ]
  },
  {
   "cell_type": "code",
   "execution_count": 67,
   "metadata": {},
   "outputs": [
    {
     "name": "stdout",
     "output_type": "stream",
     "text": [
      "['python,is,pure,object,oriented,programming,language']\n",
      "['python,is,pure,object,oriented,programming,language']\n"
     ]
    }
   ],
   "source": [
    "s=\"python is pure object oriented programming language\"\n",
    "##s1=s.replace(\" \",\",\")\n",
    "print s1.split(\":\",4)\n",
    "print s1.rsplit(\":\",4)\n",
    "##print s1"
   ]
  },
  {
   "cell_type": "code",
   "execution_count": 68,
   "metadata": {},
   "outputs": [
    {
     "name": "stdout",
     "output_type": "stream",
     "text": [
      "['python', 'is', 'pure', 'object', 'oriented', 'programming', 'language']\n",
      "('python', ',', 'is,pure,object,oriented,programming,language')\n"
     ]
    }
   ],
   "source": [
    "##partition gives only 3 elements always\n",
    "s=\"python,is,pure,object,oriented,programming,language\"\n",
    "print s.split(\",\")\n",
    "print s.partition(\",\")\n",
    "\n"
   ]
  },
  {
   "cell_type": "code",
   "execution_count": null,
   "metadata": {
    "collapsed": true
   },
   "outputs": [],
   "source": []
  }
 ],
 "metadata": {
  "kernelspec": {
   "display_name": "Python 2",
   "language": "python",
   "name": "python2"
  },
  "language_info": {
   "codemirror_mode": {
    "name": "ipython",
    "version": 2
   },
   "file_extension": ".py",
   "mimetype": "text/x-python",
   "name": "python",
   "nbconvert_exporter": "python",
   "pygments_lexer": "ipython2",
   "version": "2.7.14"
  }
 },
 "nbformat": 4,
 "nbformat_minor": 2
}
