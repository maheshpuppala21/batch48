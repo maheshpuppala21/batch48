{
 "cells": [
  {
   "cell_type": "code",
   "execution_count": null,
   "metadata": {
    "collapsed": true
   },
   "outputs": [],
   "source": [
    "def fun():\n",
    "    try:\n",
    "        print \"try\"\n",
    "        print 1/0\n",
    "        return 10\n",
    "        print \"after return\"\n",
    "    except:\n",
    "        print \"except\"\n",
    "        return 20\n",
    "    finally:\n",
    "        print \"finally\"\n",
    "        return 30          #this is not correct way write in finally block\n",
    "    return res\n",
    "    print \"function block\"\n",
    "res=fun()\n",
    "print \"res=\",res"
   ]
  },
  {
   "cell_type": "code",
   "execution_count": 5,
   "metadata": {},
   "outputs": [
    {
     "name": "stdout",
     "output_type": "stream",
     "text": [
      "try\n",
      "except\n",
      "finally\n",
      "res 30\n"
     ]
    }
   ],
   "source": [
    "def fun():\n",
    "    try:\n",
    "        print \"try\"\n",
    "        print 1/0\n",
    "        print \"after return\"\n",
    "    except:\n",
    "        print \"except\"\n",
    "        return 20\n",
    "    finally:\n",
    "        print \"finally\"\n",
    "        return 30\n",
    "    return res\n",
    "    print \"func block\"\n",
    "res=fun()\n",
    "print \"res\",res"
   ]
  },
  {
   "cell_type": "code",
   "execution_count": 8,
   "metadata": {},
   "outputs": [
    {
     "name": "stdout",
     "output_type": "stream",
     "text": [
      "main\n",
      "try\n",
      "else\n",
      "finally\n",
      "main\n"
     ]
    }
   ],
   "source": [
    "print \"main\"\n",
    "try:\n",
    "    print \"try\"\n",
    "    #print 1/0\n",
    "except:\n",
    "    print \"except\"\n",
    "else:\n",
    "    print \"else\"\n",
    "finally:\n",
    "    print \"finally\"\n",
    "print \"main\""
   ]
  },
  {
   "cell_type": "code",
   "execution_count": 9,
   "metadata": {},
   "outputs": [
    {
     "name": "stdout",
     "output_type": "stream",
     "text": [
      "main\n",
      "try\n",
      "except\n",
      "finally\n",
      "main\n"
     ]
    }
   ],
   "source": [
    "##if there is exception in try block, it will not execute else block\n",
    "print \"main\"\n",
    "try:\n",
    "    print \"try\"\n",
    "    print 1/0\n",
    "except:\n",
    "    print \"except\"\n",
    "else:\n",
    "    print \"else\"\n",
    "finally:\n",
    "    print \"finally\"\n",
    "print \"main\""
   ]
  },
  {
   "cell_type": "code",
   "execution_count": null,
   "metadata": {
    "collapsed": true
   },
   "outputs": [],
   "source": []
  }
 ],
 "metadata": {
  "kernelspec": {
   "display_name": "Python 2",
   "language": "python",
   "name": "python2"
  },
  "language_info": {
   "codemirror_mode": {
    "name": "ipython",
    "version": 2
   },
   "file_extension": ".py",
   "mimetype": "text/x-python",
   "name": "python",
   "nbconvert_exporter": "python",
   "pygments_lexer": "ipython2",
   "version": "2.7.14"
  }
 },
 "nbformat": 4,
 "nbformat_minor": 2
}
