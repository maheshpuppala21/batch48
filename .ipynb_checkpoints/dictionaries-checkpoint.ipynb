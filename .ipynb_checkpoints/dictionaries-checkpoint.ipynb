{
 "cells": [
  {
   "cell_type": "code",
   "execution_count": 2,
   "metadata": {},
   "outputs": [
    {
     "name": "stdout",
     "output_type": "stream",
     "text": [
      "<type 'dict'> {101: 10, 102: 20, 103: 30}\n"
     ]
    }
   ],
   "source": [
    "d={101:10,102:20, 103:30}\n",
    "print type(d),d"
   ]
  },
  {
   "cell_type": "code",
   "execution_count": 3,
   "metadata": {},
   "outputs": [
    {
     "ename": "TypeError",
     "evalue": "unsupported operand type(s) for +: 'dict' and 'dict'",
     "output_type": "error",
     "traceback": [
      "\u001b[1;31m---------------------------------------------------------------------------\u001b[0m",
      "\u001b[1;31mTypeError\u001b[0m                                 Traceback (most recent call last)",
      "\u001b[1;32m<ipython-input-3-cb7a35348202>\u001b[0m in \u001b[0;36m<module>\u001b[1;34m()\u001b[0m\n\u001b[0;32m      1\u001b[0m \u001b[0md\u001b[0m\u001b[1;33m=\u001b[0m\u001b[1;33m{\u001b[0m\u001b[1;36m101\u001b[0m\u001b[1;33m:\u001b[0m\u001b[1;36m10\u001b[0m\u001b[1;33m,\u001b[0m\u001b[1;36m102\u001b[0m\u001b[1;33m:\u001b[0m\u001b[1;36m20\u001b[0m\u001b[1;33m,\u001b[0m \u001b[1;36m103\u001b[0m\u001b[1;33m:\u001b[0m\u001b[1;36m30\u001b[0m\u001b[1;33m}\u001b[0m\u001b[1;33m\u001b[0m\u001b[0m\n\u001b[0;32m      2\u001b[0m \u001b[0md1\u001b[0m\u001b[1;33m=\u001b[0m\u001b[1;33m{\u001b[0m\u001b[1;36m104\u001b[0m\u001b[1;33m:\u001b[0m\u001b[1;36m10\u001b[0m\u001b[1;33m,\u001b[0m\u001b[1;36m105\u001b[0m\u001b[1;33m:\u001b[0m\u001b[1;36m20\u001b[0m\u001b[1;33m,\u001b[0m \u001b[1;36m106\u001b[0m\u001b[1;33m:\u001b[0m\u001b[1;36m30\u001b[0m\u001b[1;33m}\u001b[0m\u001b[1;33m\u001b[0m\u001b[0m\n\u001b[1;32m----> 3\u001b[1;33m \u001b[1;32mprint\u001b[0m \u001b[0md\u001b[0m\u001b[1;33m+\u001b[0m\u001b[0md1\u001b[0m\u001b[1;33m\u001b[0m\u001b[0m\n\u001b[0m\u001b[0;32m      4\u001b[0m \u001b[1;32mprint\u001b[0m \u001b[0mtype\u001b[0m\u001b[1;33m(\u001b[0m\u001b[0md\u001b[0m\u001b[1;33m)\u001b[0m\u001b[1;33m,\u001b[0m\u001b[0md\u001b[0m\u001b[1;33m\u001b[0m\u001b[0m\n",
      "\u001b[1;31mTypeError\u001b[0m: unsupported operand type(s) for +: 'dict' and 'dict'"
     ]
    }
   ],
   "source": [
    "d={101:10,102:20, 103:30}\n",
    "d1={104:10,105:20, 106:30}\n",
    "print d+d1\n",
    "print type(d),d"
   ]
  },
  {
   "cell_type": "code",
   "execution_count": 4,
   "metadata": {},
   "outputs": [
    {
     "name": "stdout",
     "output_type": "stream",
     "text": [
      "{1: 2, 'ke': 'val'}\n"
     ]
    }
   ],
   "source": [
    "d1={1:2,\"ke\":\"val\"}\n",
    "print d1"
   ]
  },
  {
   "cell_type": "code",
   "execution_count": 5,
   "metadata": {},
   "outputs": [
    {
     "ename": "TypeError",
     "evalue": "unhashable type: 'list'",
     "output_type": "error",
     "traceback": [
      "\u001b[1;31m---------------------------------------------------------------------------\u001b[0m",
      "\u001b[1;31mTypeError\u001b[0m                                 Traceback (most recent call last)",
      "\u001b[1;32m<ipython-input-5-c837b22f6947>\u001b[0m in \u001b[0;36m<module>\u001b[1;34m()\u001b[0m\n\u001b[1;32m----> 1\u001b[1;33m \u001b[0md1\u001b[0m\u001b[1;33m=\u001b[0m\u001b[1;33m{\u001b[0m\u001b[1;36m1\u001b[0m\u001b[1;33m:\u001b[0m\u001b[1;36m2\u001b[0m\u001b[1;33m,\u001b[0m\u001b[1;33m[\u001b[0m\u001b[1;36m1\u001b[0m\u001b[1;33m,\u001b[0m\u001b[1;36m2\u001b[0m\u001b[1;33m,\u001b[0m\u001b[1;36m3\u001b[0m\u001b[1;33m]\u001b[0m\u001b[1;33m:\u001b[0m\u001b[1;33m(\u001b[0m\u001b[1;36m10\u001b[0m\u001b[1;33m,\u001b[0m\u001b[1;36m20\u001b[0m\u001b[1;33m,\u001b[0m\u001b[1;36m30\u001b[0m\u001b[1;33m)\u001b[0m\u001b[1;33m}\u001b[0m\u001b[1;33m\u001b[0m\u001b[0m\n\u001b[0m\u001b[0;32m      2\u001b[0m \u001b[1;32mprint\u001b[0m \u001b[0md1\u001b[0m\u001b[1;33m\u001b[0m\u001b[0m\n",
      "\u001b[1;31mTypeError\u001b[0m: unhashable type: 'list'"
     ]
    }
   ],
   "source": [
    "d1={1:2,[1,2,3]:(10,20,30)}\n",
    "print d1"
   ]
  },
  {
   "cell_type": "code",
   "execution_count": 6,
   "metadata": {},
   "outputs": [
    {
     "name": "stdout",
     "output_type": "stream",
     "text": [
      "{(1, 2): 'tuple', 1: 2, 'list': [1, 2, 3, 4], 'ke': 'va', (1+2j): 'complex'}\n"
     ]
    }
   ],
   "source": [
    "d1={1:2,\"ke\":\"va\",(1,2):\"tuple\",1+2j:\"complex\",\"list\":[1,2,3,4]}\n",
    "print d1"
   ]
  },
  {
   "cell_type": "code",
   "execution_count": 7,
   "metadata": {},
   "outputs": [
    {
     "name": "stdout",
     "output_type": "stream",
     "text": [
      "{1: 20, 2: 50, 3: 40}\n"
     ]
    }
   ],
   "source": [
    "d={1:10,1:20,2:30,3:40,2:50}\n",
    "print d"
   ]
  },
  {
   "cell_type": "code",
   "execution_count": 9,
   "metadata": {},
   "outputs": [
    {
     "data": {
      "text/plain": [
       "False"
      ]
     },
     "execution_count": 9,
     "metadata": {},
     "output_type": "execute_result"
    }
   ],
   "source": [
    "d1={1:10,1:20,2:30,3:40,2:50}\n",
    "d2={1:20,1:30,2:60,3:70,2:80}\n",
    "d1==d2"
   ]
  },
  {
   "cell_type": "code",
   "execution_count": 10,
   "metadata": {},
   "outputs": [
    {
     "data": {
      "text/plain": [
       "False"
      ]
     },
     "execution_count": 10,
     "metadata": {},
     "output_type": "execute_result"
    }
   ],
   "source": [
    "d1={1:10,1:20,3:40}\n",
    "d2={1:20,1:30,2:60}\n",
    "d1==d2"
   ]
  },
  {
   "cell_type": "code",
   "execution_count": 11,
   "metadata": {},
   "outputs": [
    {
     "data": {
      "text/plain": [
       "False"
      ]
     },
     "execution_count": 11,
     "metadata": {},
     "output_type": "execute_result"
    }
   ],
   "source": [
    "d1={1:10,2:20}\n",
    "d2={1:5,2:40}\n",
    "d1<d2"
   ]
  },
  {
   "cell_type": "code",
   "execution_count": 12,
   "metadata": {},
   "outputs": [
    {
     "data": {
      "text/plain": [
       "False"
      ]
     },
     "execution_count": 12,
     "metadata": {},
     "output_type": "execute_result"
    }
   ],
   "source": [
    "d1={1:10,2:20}\n",
    "d2={2:5,2:40}\n",
    "d1<d2"
   ]
  },
  {
   "cell_type": "code",
   "execution_count": 14,
   "metadata": {},
   "outputs": [
    {
     "data": {
      "text/plain": [
       "True"
      ]
     },
     "execution_count": 14,
     "metadata": {},
     "output_type": "execute_result"
    }
   ],
   "source": [
    "d1={3:5}\n",
    "d2={4:6}\n",
    "d1<d2"
   ]
  },
  {
   "cell_type": "code",
   "execution_count": 16,
   "metadata": {},
   "outputs": [
    {
     "data": {
      "text/plain": [
       "False"
      ]
     },
     "execution_count": 16,
     "metadata": {},
     "output_type": "execute_result"
    }
   ],
   "source": [
    "d1={3:5}\n",
    "d2={3:6}\n",
    "d1==d2"
   ]
  },
  {
   "cell_type": "code",
   "execution_count": 19,
   "metadata": {},
   "outputs": [
    {
     "data": {
      "text/plain": [
       "'v1'"
      ]
     },
     "execution_count": 19,
     "metadata": {},
     "output_type": "execute_result"
    }
   ],
   "source": [
    "d={\"k1\":\"v1\",\"k2\":\"v2\",\"k3\":\"v3\"}\n",
    "d[\"k1\"]"
   ]
  },
  {
   "cell_type": "code",
   "execution_count": 20,
   "metadata": {},
   "outputs": [
    {
     "ename": "KeyError",
     "evalue": "'k4'",
     "output_type": "error",
     "traceback": [
      "\u001b[1;31m---------------------------------------------------------------------------\u001b[0m",
      "\u001b[1;31mKeyError\u001b[0m                                  Traceback (most recent call last)",
      "\u001b[1;32m<ipython-input-20-d1117f020834>\u001b[0m in \u001b[0;36m<module>\u001b[1;34m()\u001b[0m\n\u001b[0;32m      1\u001b[0m \u001b[0md\u001b[0m\u001b[1;33m=\u001b[0m\u001b[1;33m{\u001b[0m\u001b[1;34m\"k1\"\u001b[0m\u001b[1;33m:\u001b[0m\u001b[1;34m\"v1\"\u001b[0m\u001b[1;33m,\u001b[0m\u001b[1;34m\"k2\"\u001b[0m\u001b[1;33m:\u001b[0m\u001b[1;34m\"v2\"\u001b[0m\u001b[1;33m,\u001b[0m\u001b[1;34m\"k3\"\u001b[0m\u001b[1;33m:\u001b[0m\u001b[1;34m\"v3\"\u001b[0m\u001b[1;33m}\u001b[0m\u001b[1;33m\u001b[0m\u001b[0m\n\u001b[1;32m----> 2\u001b[1;33m \u001b[0md\u001b[0m\u001b[1;33m[\u001b[0m\u001b[1;34m\"k4\"\u001b[0m\u001b[1;33m]\u001b[0m\u001b[1;33m\u001b[0m\u001b[0m\n\u001b[0m",
      "\u001b[1;31mKeyError\u001b[0m: 'k4'"
     ]
    }
   ],
   "source": [
    "d={\"k1\":\"v1\",\"k2\":\"v2\",\"k3\":\"v3\"}\n",
    "d[\"k4\"]"
   ]
  },
  {
   "cell_type": "code",
   "execution_count": 22,
   "metadata": {},
   "outputs": [
    {
     "name": "stdout",
     "output_type": "stream",
     "text": [
      "enter name of employee: nagesh\n",
      "enter age of employee: 23\n",
      "enter salary of employee: 500000\n",
      "{'salary': '500000', 'age': '23', 'name': 'nagesh'}\n"
     ]
    }
   ],
   "source": [
    "##name , age, salary\n",
    "e_name=raw_input(\"enter name of employee: \")\n",
    "e_age=raw_input(\"enter age of employee: \")\n",
    "e_salary=raw_input(\"enter salary of employee: \")\n",
    "d1={\"name\":e_name,\"age\":e_age,\"salary\":e_salary}\n",
    "print d1"
   ]
  },
  {
   "cell_type": "code",
   "execution_count": 23,
   "metadata": {},
   "outputs": [
    {
     "name": "stdout",
     "output_type": "stream",
     "text": [
      "enter name of employee: mahesh\n",
      "enter age of employee: 30\n",
      "enter salary of employee: 400000\n",
      "{'salary': '500000', 'age': '23', 'name': 'nagesh'}\n"
     ]
    }
   ],
   "source": [
    "##name , age, salary\n",
    "d={}\n",
    "e_name=raw_input(\"enter name of employee: \")\n",
    "d[\"name\"]=e_name\n",
    "e_age=raw_input(\"enter age of employee: \")\n",
    "d[\"age\"]=e_age\n",
    "e_salary=raw_input(\"enter salary of employee: \")\n",
    "d[\"salary\"]=e_salary\n",
    "print d1"
   ]
  },
  {
   "cell_type": "code",
   "execution_count": 24,
   "metadata": {},
   "outputs": [
    {
     "name": "stdout",
     "output_type": "stream",
     "text": [
      "{'salary': '400000', 'age': '30', 'name': 'mahesh', '30000': 600000}\n"
     ]
    }
   ],
   "source": [
    "##update salary\n",
    "d[salary]=600000\n",
    "print d"
   ]
  },
  {
   "cell_type": "code",
   "execution_count": 26,
   "metadata": {},
   "outputs": [
    {
     "name": "stdout",
     "output_type": "stream",
     "text": [
      "[10, 'b', 'c', 'd']\n",
      "[10, 'b', 'c', 'd']\n",
      "[10, 'b', 'c', 'd']\n"
     ]
    }
   ],
   "source": [
    "l=[\"a\",\"b\",\"c\",\"d\"]\n",
    "l1=l\n",
    "l[0]=10\n",
    "print l\n",
    "print l1\n",
    "l2=l[:]\n",
    "print l2"
   ]
  },
  {
   "cell_type": "code",
   "execution_count": 27,
   "metadata": {},
   "outputs": [
    {
     "name": "stdout",
     "output_type": "stream",
     "text": [
      "['a', 'b', 'c', 'd', 1000, 2000]\n",
      "['a', 'b', 'c', 'd', 1000, 2000]\n",
      "['a', 'b', 'c', 'd', 1000, 2000]\n",
      "['a', 'b', 'c', 'd', 1000, 2000]\n",
      "After modifying l\n",
      "[10, 'b', 'c', 'd', 1000, 2000]\n",
      "[10, 'b', 'c', 'd', 1000, 2000]\n",
      "['a', 'b', 'c', 'd', 1000, 2000]\n",
      "['a', 'b', 'c', 'd', 1000, 2000]\n"
     ]
    }
   ],
   "source": [
    "l=[\"a\",\"b\",\"c\",\"d\",1000,2000]\n",
    "l1=l\n",
    "l2=l[:]\n",
    "l3=[\"a\",\"b\",\"c\",\"d\",1000,2000]\n",
    "print l\n",
    "print l1\n",
    "print l2\n",
    "print l3\n",
    "print \"After modifying l\"\n",
    "l[0]=10\n",
    "print l\n",
    "print l1\n",
    "print l2\n",
    "print l3\n"
   ]
  },
  {
   "cell_type": "code",
   "execution_count": 28,
   "metadata": {},
   "outputs": [
    {
     "name": "stdout",
     "output_type": "stream",
     "text": [
      "50\n"
     ]
    }
   ],
   "source": [
    "d={'salary': '500000', 'age': '23', 'name': 'nagesh'}\n",
    "d1=d\n",
    "d1[\"age\"]=50\n",
    "print d[\"age\"]\n"
   ]
  },
  {
   "cell_type": "code",
   "execution_count": 30,
   "metadata": {},
   "outputs": [
    {
     "name": "stdout",
     "output_type": "stream",
     "text": [
      "{'salary': '500000', 'age': 50, 'name': 'nagesh'}\n",
      "{'salary': '500000', 'age': 50, 'name': 'nagesh'}\n",
      "{'salary': '500000', 'age': 50, 'name': 'nagesh'}\n"
     ]
    }
   ],
   "source": [
    "##copy() method\n",
    "d={'salary': '500000', 'age': '23', 'name': 'nagesh'}\n",
    "d1=d.copy()\n",
    "d2=d\n",
    "d[\"age\"]=50\n",
    "d1[\"age\"]=50\n",
    "print d\n",
    "print d1\n",
    "print d2"
   ]
  },
  {
   "cell_type": "code",
   "execution_count": 31,
   "metadata": {},
   "outputs": [
    {
     "name": "stdout",
     "output_type": "stream",
     "text": [
      "23\n",
      "23\n",
      "BRZPP3398B\n",
      "{'salary': '500000', 'age': '23', 'name': 'nagesh'}\n"
     ]
    }
   ],
   "source": [
    "d={'salary': '500000', 'age': '23', 'name': 'nagesh'}\n",
    "print d[\"age\"]\n",
    "print d.get(\"age\")\n",
    "print d.get(\"pan\",\"BRZPP3398B\")\n",
    "print d"
   ]
  },
  {
   "cell_type": "code",
   "execution_count": 32,
   "metadata": {},
   "outputs": [
    {
     "name": "stdout",
     "output_type": "stream",
     "text": [
      "{'salary': '500000', 'name': 'nagesh'}\n"
     ]
    }
   ],
   "source": [
    "##update() and setdefault() where update() changes the values of key and setdefault doesnot change key value if key is alvailble\n",
    "##setdefault() will only take one key value\n",
    "d={'salary': '500000', 'age': '23', 'name': 'nagesh'}\n",
    "d.pop(\"age\")\n",
    "print d"
   ]
  },
  {
   "cell_type": "code",
   "execution_count": 33,
   "metadata": {},
   "outputs": [
    {
     "name": "stdout",
     "output_type": "stream",
     "text": [
      "{'salary': '500000', 'name': 'nagesh'}\n",
      "23\n"
     ]
    }
   ],
   "source": [
    "#pop() method needs key value\n",
    "d={'salary': '500000', 'age': '23', 'name': 'nagesh'}\n",
    "d1=d.pop(\"age\")\n",
    "print d\n",
    "print d1"
   ]
  },
  {
   "cell_type": "code",
   "execution_count": 35,
   "metadata": {},
   "outputs": [
    {
     "name": "stdout",
     "output_type": "stream",
     "text": [
      "{}\n"
     ]
    }
   ],
   "source": [
    "d={\"name\":'mahesh',\"name\":'nagesh'}\n",
    "d1=d.pop(\"name\")\n",
    "print d"
   ]
  },
  {
   "cell_type": "code",
   "execution_count": 37,
   "metadata": {},
   "outputs": [
    {
     "name": "stdout",
     "output_type": "stream",
     "text": [
      "{}\n",
      "{}\n"
     ]
    }
   ],
   "source": [
    "d={'salary': '500000', 'age': '23', 'name': 'nagesh'}\n",
    "d1=d.clear()\n",
    "d1=d\n",
    "print d\n",
    "print d1"
   ]
  },
  {
   "cell_type": "code",
   "execution_count": 39,
   "metadata": {},
   "outputs": [
    {
     "name": "stdout",
     "output_type": "stream",
     "text": [
      "{0: 'v1', 1: 'v1', 2: 'v1', 3: 'v1', 4: 'v1', 5: 'v1', 6: 'v1', 7: 'v1', 8: 'v1', 9: 'v1'}\n"
     ]
    }
   ],
   "source": [
    "d={1:2}\n",
    "d1=d.fromkeys(range(10),\"v1\")\n",
    "print d1"
   ]
  },
  {
   "cell_type": "code",
   "execution_count": 40,
   "metadata": {},
   "outputs": [
    {
     "data": {
      "text/plain": [
       "[1]"
      ]
     },
     "execution_count": 40,
     "metadata": {},
     "output_type": "execute_result"
    }
   ],
   "source": [
    "d.keys()"
   ]
  },
  {
   "cell_type": "code",
   "execution_count": 41,
   "metadata": {},
   "outputs": [
    {
     "data": {
      "text/plain": [
       "[2]"
      ]
     },
     "execution_count": 41,
     "metadata": {},
     "output_type": "execute_result"
    }
   ],
   "source": [
    "d.values()\n"
   ]
  },
  {
   "cell_type": "code",
   "execution_count": 42,
   "metadata": {},
   "outputs": [
    {
     "name": "stdout",
     "output_type": "stream",
     "text": [
      "True\n"
     ]
    }
   ],
   "source": [
    "d={'salary': '500000', 'age': '23', 'name': 'nagesh'}\n",
    "print 'nagesh' in d.values()"
   ]
  },
  {
   "cell_type": "code",
   "execution_count": 43,
   "metadata": {},
   "outputs": [
    {
     "name": "stdout",
     "output_type": "stream",
     "text": [
      "('salary', '500000')\n",
      "('mobile', 9005350450L)\n",
      "('age', '23')\n",
      "('name', 'nagesh')\n"
     ]
    }
   ],
   "source": [
    "d={'salary': '500000', 'age': '23', 'name': 'nagesh','mobile':9005350450}\n",
    "for i in d.items():\n",
    "    print i\n"
   ]
  },
  {
   "cell_type": "code",
   "execution_count": 44,
   "metadata": {},
   "outputs": [
    {
     "name": "stdout",
     "output_type": "stream",
     "text": [
      "salary\n",
      "mobile\n",
      "age\n",
      "name\n"
     ]
    }
   ],
   "source": [
    "d={'salary': '500000', 'age': '23', 'name': 'nagesh','mobile':9005350450}\n",
    "for k,v in d.items():\n",
    "    print k\n"
   ]
  },
  {
   "cell_type": "code",
   "execution_count": 50,
   "metadata": {},
   "outputs": [
    {
     "name": "stdout",
     "output_type": "stream",
     "text": [
      "st1\n",
      "10\n"
     ]
    }
   ],
   "source": [
    "def fun():\n",
    "    print \"st1\"\n",
    "    return 10\n",
    "    print \"st2\"\n",
    "    return 30\n",
    "result=fun()\n",
    "print result"
   ]
  },
  {
   "cell_type": "code",
   "execution_count": 52,
   "metadata": {},
   "outputs": [
    {
     "name": "stdout",
     "output_type": "stream",
     "text": [
      "<generator object fun at 0x0000000005AE3FC0>\n"
     ]
    }
   ],
   "source": [
    "def fun():\n",
    "    print \"st1\"\n",
    "    yield 10\n",
    "    print \"st2\"\n",
    "    yield 20\n",
    "    print \"st3\"\n",
    "    yield 30\n",
    "result=fun()\n",
    "print result"
   ]
  },
  {
   "cell_type": "code",
   "execution_count": 53,
   "metadata": {},
   "outputs": [
    {
     "name": "stdout",
     "output_type": "stream",
     "text": [
      "<type 'dict'>\n"
     ]
    }
   ],
   "source": [
    "d={1:10,2:40, 3:50}\n",
    "print type(d)"
   ]
  },
  {
   "cell_type": "code",
   "execution_count": 54,
   "metadata": {},
   "outputs": [
    {
     "name": "stdout",
     "output_type": "stream",
     "text": [
      "0\n",
      "1\n",
      "2\n",
      "3\n",
      "4\n",
      "5\n",
      "6\n",
      "7\n",
      "8\n",
      "9\n"
     ]
    }
   ],
   "source": [
    "for i in range(10):\n",
    "    print i"
   ]
  },
  {
   "cell_type": "code",
   "execution_count": 55,
   "metadata": {},
   "outputs": [
    {
     "name": "stdout",
     "output_type": "stream",
     "text": [
      "0\n",
      "1\n",
      "2\n",
      "3\n",
      "4\n",
      "5\n",
      "6\n",
      "7\n",
      "8\n",
      "9\n"
     ]
    }
   ],
   "source": [
    "for i in xrange(10):\n",
    "    print i"
   ]
  },
  {
   "cell_type": "code",
   "execution_count": null,
   "metadata": {
    "collapsed": true
   },
   "outputs": [],
   "source": []
  }
 ],
 "metadata": {
  "kernelspec": {
   "display_name": "Python 2",
   "language": "python",
   "name": "python2"
  },
  "language_info": {
   "codemirror_mode": {
    "name": "ipython",
    "version": 2
   },
   "file_extension": ".py",
   "mimetype": "text/x-python",
   "name": "python",
   "nbconvert_exporter": "python",
   "pygments_lexer": "ipython2",
   "version": "2.7.14"
  }
 },
 "nbformat": 4,
 "nbformat_minor": 2
}
