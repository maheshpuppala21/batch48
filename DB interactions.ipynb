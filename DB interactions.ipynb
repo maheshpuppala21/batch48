{
 "cells": [
  {
   "cell_type": "code",
   "execution_count": 1,
   "metadata": {
    "collapsed": true
   },
   "outputs": [],
   "source": [
    "import sqlite3"
   ]
  },
  {
   "cell_type": "code",
   "execution_count": 2,
   "metadata": {
    "collapsed": true
   },
   "outputs": [],
   "source": [
    "con = sqlite3.connect(\"batch48_db.db\")"
   ]
  },
  {
   "cell_type": "code",
   "execution_count": null,
   "metadata": {
    "collapsed": true
   },
   "outputs": [],
   "source": [
    "##go to batch48 path and right click on file and open with sqllit3 "
   ]
  },
  {
   "cell_type": "code",
   "execution_count": 3,
   "metadata": {
    "collapsed": true
   },
   "outputs": [],
   "source": [
    "cur=con.cursor()"
   ]
  },
  {
   "cell_type": "code",
   "execution_count": 4,
   "metadata": {},
   "outputs": [
    {
     "data": {
      "text/plain": [
       "<sqlite3.Cursor at 0x5fa2dc0>"
      ]
     },
     "execution_count": 4,
     "metadata": {},
     "output_type": "execute_result"
    }
   ],
   "source": [
    "cur.execute(\"create table customer(id NUMBER,name VARCHAR2(250),address VARCHAR2(500))\")"
   ]
  },
  {
   "cell_type": "code",
   "execution_count": 5,
   "metadata": {},
   "outputs": [
    {
     "data": {
      "text/plain": [
       "'C:\\\\Users\\\\mpuppala\\\\AppData\\\\Local\\\\Continuum\\\\anaconda2\\\\lib\\\\sqlite3\\\\__init__.pyc'"
      ]
     },
     "execution_count": 5,
     "metadata": {},
     "output_type": "execute_result"
    }
   ],
   "source": [
    "sqlite3.__file__"
   ]
  },
  {
   "cell_type": "code",
   "execution_count": 6,
   "metadata": {},
   "outputs": [
    {
     "data": {
      "text/plain": [
       "<sqlite3.Cursor at 0x5fa2dc0>"
      ]
     },
     "execution_count": 6,
     "metadata": {},
     "output_type": "execute_result"
    }
   ],
   "source": [
    "cur.execute(\"insert into customer(id,name,address) values(1,'anil','ameerpet')\")"
   ]
  },
  {
   "cell_type": "code",
   "execution_count": 7,
   "metadata": {},
   "outputs": [
    {
     "data": {
      "text/plain": [
       "<sqlite3.Cursor at 0x5fa2dc0>"
      ]
     },
     "execution_count": 7,
     "metadata": {},
     "output_type": "execute_result"
    }
   ],
   "source": [
    "cur.execute(\"insert into customer(id,name,address) values(2,'bhargav','srnagar')\")"
   ]
  },
  {
   "cell_type": "code",
   "execution_count": 8,
   "metadata": {
    "collapsed": true
   },
   "outputs": [],
   "source": [
    "con.commit()"
   ]
  },
  {
   "cell_type": "code",
   "execution_count": 9,
   "metadata": {},
   "outputs": [
    {
     "name": "stdout",
     "output_type": "stream",
     "text": [
      "sai\n"
     ]
    }
   ],
   "source": [
    "names=[\"jayaram\",\"vebnash\",\"pavan\",\"sathish\",\"shruthi\",\"santhosh\",\"dhanush\",\"sai\"]\n",
    "address=[\"ameerpet\",\"srnagar\",\"ESI\",\"sanathnagar\",\"hiteccity\",\"KPHB\"]\n",
    "import random\n",
    "print random.choice(names)"
   ]
  },
  {
   "cell_type": "code",
   "execution_count": 10,
   "metadata": {},
   "outputs": [
    {
     "name": "stdout",
     "output_type": "stream",
     "text": [
      "jayaram\n"
     ]
    }
   ],
   "source": [
    "names=[\"jayaram\",\"vebnash\",\"pavan\",\"sathish\",\"shruthi\",\"santhosh\",\"dhanush\",\"sai\"]\n",
    "address=[\"ameerpet\",\"srnagar\",\"ESI\",\"sanathnagar\",\"hiteccity\",\"KPHB\"]\n",
    "import random\n",
    "print random.choice(names)"
   ]
  },
  {
   "cell_type": "code",
   "execution_count": 11,
   "metadata": {},
   "outputs": [
    {
     "name": "stdout",
     "output_type": "stream",
     "text": [
      "santhosh\n"
     ]
    }
   ],
   "source": [
    "names=[\"jayaram\",\"vebnash\",\"pavan\",\"sathish\",\"shruthi\",\"santhosh\",\"dhanush\",\"sai\"]\n",
    "address=[\"ameerpet\",\"srnagar\",\"ESI\",\"sanathnagar\",\"hiteccity\",\"KPHB\"]\n",
    "import random\n",
    "print random.choice(names)"
   ]
  },
  {
   "cell_type": "code",
   "execution_count": null,
   "metadata": {
    "collapsed": true
   },
   "outputs": [],
   "source": []
  },
  {
   "cell_type": "code",
   "execution_count": 12,
   "metadata": {},
   "outputs": [
    {
     "name": "stdout",
     "output_type": "stream",
     "text": [
      "vebnash\n"
     ]
    }
   ],
   "source": [
    "import random\n",
    "names=[\"jayaram\",\"vebnash\",\"pavan\",\"sathish\",\"shruthi\",\"santhosh\",\"dhanush\",\"sai\"]\n",
    "address=[\"ameerpet\",\"srnagar\",\"ESI\",\"sanathnagar\",\"hiteccity\",\"KPHB\"]\n",
    "for i in xrange(10):\n",
    "    q=\"insert into customer(id,name,address) values(%s,'%s','%s')\"%(i,random.choice(names),random.choice(address))\n",
    "    cur.execute(q)\n",
    "    con.commit()"
   ]
  },
  {
   "cell_type": "code",
   "execution_count": null,
   "metadata": {
    "collapsed": true
   },
   "outputs": [],
   "source": []
  }
 ],
 "metadata": {
  "kernelspec": {
   "display_name": "Python 2",
   "language": "python",
   "name": "python2"
  },
  "language_info": {
   "codemirror_mode": {
    "name": "ipython",
    "version": 2
   },
   "file_extension": ".py",
   "mimetype": "text/x-python",
   "name": "python",
   "nbconvert_exporter": "python",
   "pygments_lexer": "ipython2",
   "version": "2.7.14"
  }
 },
 "nbformat": 4,
 "nbformat_minor": 2
}
