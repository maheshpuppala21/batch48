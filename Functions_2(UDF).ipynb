{
 "cells": [
  {
   "cell_type": "code",
   "execution_count": 2,
   "metadata": {},
   "outputs": [
    {
     "name": "stdout",
     "output_type": "stream",
     "text": [
      "a inside fun: 110\n",
      "a outside fun: 1000\n"
     ]
    }
   ],
   "source": [
    "a=1000\n",
    "def fun(x):\n",
    "    a=x+10\n",
    "    print \"a inside fun:\",a\n",
    "fun(100)\n",
    "print \"a outside fun:\",a"
   ]
  },
  {
   "cell_type": "code",
   "execution_count": 5,
   "metadata": {},
   "outputs": [
    {
     "name": "stdout",
     "output_type": "stream",
     "text": [
      "10 20 30\n"
     ]
    },
    {
     "ename": "TypeError",
     "evalue": "fun() takes exactly 4 arguments (2 given)",
     "output_type": "error",
     "traceback": [
      "\u001b[1;31m---------------------------------------------------------------------------\u001b[0m",
      "\u001b[1;31mTypeError\u001b[0m                                 Traceback (most recent call last)",
      "\u001b[1;32m<ipython-input-5-3b684abf5945>\u001b[0m in \u001b[0;36m<module>\u001b[1;34m()\u001b[0m\n\u001b[0;32m      6\u001b[0m     \u001b[1;32mprint\u001b[0m \u001b[0ma\u001b[0m\u001b[1;33m,\u001b[0m\u001b[0mb\u001b[0m\u001b[1;33m,\u001b[0m\u001b[0mc\u001b[0m\u001b[1;33m,\u001b[0m\u001b[0md\u001b[0m\u001b[1;33m\u001b[0m\u001b[0m\n\u001b[0;32m      7\u001b[0m \u001b[0mfun1\u001b[0m\u001b[1;33m(\u001b[0m\u001b[1;36m10\u001b[0m\u001b[1;33m,\u001b[0m\u001b[1;36m20\u001b[0m\u001b[1;33m,\u001b[0m\u001b[1;36m30\u001b[0m\u001b[1;33m)\u001b[0m\u001b[1;33m\u001b[0m\u001b[0m\n\u001b[1;32m----> 8\u001b[1;33m \u001b[0mfun\u001b[0m\u001b[1;33m(\u001b[0m\u001b[1;36m10\u001b[0m\u001b[1;33m,\u001b[0m\u001b[1;36m20\u001b[0m\u001b[1;33m)\u001b[0m\u001b[1;33m\u001b[0m\u001b[0m\n\u001b[0m\u001b[0;32m      9\u001b[0m \u001b[1;33m\u001b[0m\u001b[0m\n",
      "\u001b[1;31mTypeError\u001b[0m: fun() takes exactly 4 arguments (2 given)"
     ]
    }
   ],
   "source": [
    "##important questin in interview and concept of method overloading\n",
    "def fun(a,b):\n",
    "    print a,b\n",
    "def fun1(a,b,c):\n",
    "    print a,b,c\n",
    "def fun(a,b,c,d):\n",
    "    print a,b,c,d\n",
    "fun1(10,20,30)\n",
    "fun(10,20)\n",
    "\n"
   ]
  },
  {
   "cell_type": "code",
   "execution_count": 6,
   "metadata": {},
   "outputs": [
    {
     "name": "stdout",
     "output_type": "stream",
     "text": [
      "10 20 30\n",
      "10 20 30 40\n"
     ]
    }
   ],
   "source": [
    "##important questin in interview and concept of method overloading\n",
    "def fun(a,b):\n",
    "    print a,b\n",
    "def fun1(a,b,c):\n",
    "    print a,b,c\n",
    "def fun(a,b,c,d):\n",
    "    print a,b,c,d\n",
    "fun1(10,20,30)\n",
    "fun(10,20,30,40)\n",
    "\n"
   ]
  },
  {
   "cell_type": "code",
   "execution_count": 10,
   "metadata": {},
   "outputs": [
    {
     "name": "stdout",
     "output_type": "stream",
     "text": [
      "Before defining: a= 1000 b= 2000\n",
      "after defining : a= 1000 b= 2000\n",
      "inside fun: a= 1020 b= 2030\n",
      "after calling: a= 1000 b= 2000\n",
      "inside fun: a= 120 b= 230\n",
      "after calling: a= 1000 b= 2000\n"
     ]
    }
   ],
   "source": [
    "a=1000\n",
    "b=2000\n",
    "print \"Before defining: a=\",a,\"b=\",b\n",
    "def fun(x,y):\n",
    "    a=x+20\n",
    "    b=y+30\n",
    "    print \"inside fun: a=\",a,\"b=\",b\n",
    "print \"after defining : a=\",a,\"b=\",b\n",
    "fun(1000,2000)\n",
    "print \"after calling: a=\",a,\"b=\",b\n",
    "fun(100,200)\n",
    "print \"after calling: a=\",a,\"b=\",b"
   ]
  },
  {
   "cell_type": "code",
   "execution_count": 11,
   "metadata": {},
   "outputs": [
    {
     "name": "stdout",
     "output_type": "stream",
     "text": [
      "Before defining: a= 1000 b= 2000\n",
      "after defining : a= 1000 b= 2000\n",
      "after calling: a= 1000 b= 2000\n",
      "inside fun: a= 120 b= 230\n",
      "after calling: a= 1000 b= 2000\n"
     ]
    }
   ],
   "source": [
    "a=1000\n",
    "b=2000\n",
    "print \"Before defining: a=\",a,\"b=\",b\n",
    "def fun(x,y):\n",
    "    a=x+20\n",
    "    b=y+30\n",
    "    print \"inside fun: a=\",a,\"b=\",b\n",
    "print \"after defining : a=\",a,\"b=\",b\n",
    "##fun(1000,2000)\n",
    "print \"after calling: a=\",a,\"b=\",b\n",
    "fun(100,200)\n",
    "print \"after calling: a=\",a,\"b=\",b"
   ]
  },
  {
   "cell_type": "code",
   "execution_count": 13,
   "metadata": {},
   "outputs": [
    {
     "name": "stdout",
     "output_type": "stream",
     "text": [
      "a before defining: 1000\n",
      "a before calling: 1000\n",
      "a inside fun: 1010\n",
      "a after calling: 1010\n"
     ]
    }
   ],
   "source": [
    "##global variable concept -- a value changes in global declaration to 1010\n",
    "a=1000\n",
    "print \"a before defining:\",a\n",
    "def fun(x):\n",
    "    global a\n",
    "    a=x+10\n",
    "    b=2000\n",
    "    print \"a inside fun:\",a\n",
    "print \"a before calling:\",a\n",
    "fun(1000)\n",
    "print \"a after calling:\",a"
   ]
  },
  {
   "cell_type": "code",
   "execution_count": 16,
   "metadata": {},
   "outputs": [
    {
     "name": "stdout",
     "output_type": "stream",
     "text": [
      "a before defining: 1000\n",
      "a before calling: 1000\n",
      "a inside fun: 1010\n",
      "a after calling: 1010\n",
      "b after calling: 2000\n"
     ]
    }
   ],
   "source": [
    "##global variable concept -- a value changes in global declaration to 1010\n",
    "a=1000\n",
    "print \"a before defining:\",a\n",
    "def fun(x):\n",
    "    global a\n",
    "    a=x+10\n",
    "    b=2000\n",
    "    print \"a inside fun:\",a\n",
    "print \"a before calling:\",a\n",
    "fun(1000)\n",
    "print \"a after calling:\",a\n",
    "print \"b after calling:\",b"
   ]
  },
  {
   "cell_type": "code",
   "execution_count": 20,
   "metadata": {},
   "outputs": [
    {
     "name": "stdout",
     "output_type": "stream",
     "text": [
      "a before defining: 1000\n",
      "a before calling: 1000\n",
      "a inside fun: 1010\n",
      "a after calling: 1010\n",
      "b after calling:"
     ]
    },
    {
     "ename": "NameError",
     "evalue": "name 'xb' is not defined",
     "output_type": "error",
     "traceback": [
      "\u001b[1;31m---------------------------------------------------------------------------\u001b[0m",
      "\u001b[1;31mNameError\u001b[0m                                 Traceback (most recent call last)",
      "\u001b[1;32m<ipython-input-20-e04643a7d5f2>\u001b[0m in \u001b[0;36m<module>\u001b[1;34m()\u001b[0m\n\u001b[0;32m     10\u001b[0m \u001b[0mfun\u001b[0m\u001b[1;33m(\u001b[0m\u001b[1;36m1000\u001b[0m\u001b[1;33m)\u001b[0m\u001b[1;33m\u001b[0m\u001b[0m\n\u001b[0;32m     11\u001b[0m \u001b[1;32mprint\u001b[0m \u001b[1;34m\"a after calling:\"\u001b[0m\u001b[1;33m,\u001b[0m\u001b[0ma\u001b[0m\u001b[1;33m\u001b[0m\u001b[0m\n\u001b[1;32m---> 12\u001b[1;33m \u001b[1;32mprint\u001b[0m \u001b[1;34m\"b after calling:\"\u001b[0m\u001b[1;33m,\u001b[0m\u001b[0mxb\u001b[0m\u001b[1;33m\u001b[0m\u001b[0m\n\u001b[0m",
      "\u001b[1;31mNameError\u001b[0m: name 'xb' is not defined"
     ]
    }
   ],
   "source": [
    "##global variable concept -- a value changes in global declaration to 1010\n",
    "a=1000\n",
    "print \"a before defining:\",a\n",
    "def fun(x):\n",
    "    global a\n",
    "    a=x+10\n",
    "    xb=2000\n",
    "    print \"a inside fun:\",a\n",
    "print \"a before calling:\",a\n",
    "fun(1000)\n",
    "print \"a after calling:\",a\n",
    "print \"b after calling:\",xb"
   ]
  },
  {
   "cell_type": "code",
   "execution_count": 21,
   "metadata": {},
   "outputs": [
    {
     "name": "stdout",
     "output_type": "stream",
     "text": [
      " a before defining: 1000\n",
      "a before calling: 1000\n",
      "a inside fun: 1010\n",
      "a after calling: 1010\n",
      "b after calling: 2000\n"
     ]
    }
   ],
   "source": [
    "##global variable concept -- a value changes in global declaration to 1010\n",
    "a=1000\n",
    "print \"a before defining:\",a\n",
    "def fun(x):\n",
    "    global a\n",
    "    global xb\n",
    "    a=x+10\n",
    "    xb=2000\n",
    "    print \"a inside fun:\",a\n",
    "print \"a before calling:\",a\n",
    "fun(1000)\n",
    "print \"a after calling:\",a\n",
    "print \"b after calling:\",xb"
   ]
  },
  {
   "cell_type": "code",
   "execution_count": 24,
   "metadata": {},
   "outputs": [
    {
     "name": "stdout",
     "output_type": "stream",
     "text": [
      "10 20\n"
     ]
    }
   ],
   "source": [
    "###reference by assigning fun to f1\n",
    "def fun(a,b):\n",
    "    print a,b\n",
    "f1=fun\n",
    "f1(10,20)"
   ]
  },
  {
   "cell_type": "code",
   "execution_count": 26,
   "metadata": {},
   "outputs": [
    {
     "name": "stdout",
     "output_type": "stream",
     "text": [
      "10 20\n",
      "30 40\n"
     ]
    }
   ],
   "source": [
    "###reference by assigning fun to f1\n",
    "def fun(a,b):\n",
    "    print a,b\n",
    "f1=fun\n",
    "f1(10,20)\n",
    "f3=fun(30,40)"
   ]
  },
  {
   "cell_type": "code",
   "execution_count": 28,
   "metadata": {},
   "outputs": [
    {
     "name": "stdout",
     "output_type": "stream",
     "text": [
      "10 20\n",
      "30 40\n",
      "None\n"
     ]
    }
   ],
   "source": [
    "###reference by assigning fun to f1\n",
    "def fun(a,b):\n",
    "    print a,b\n",
    "f1=fun\n",
    "f1(10,20)\n",
    "f3=fun(30,40)\n",
    "print f3"
   ]
  },
  {
   "cell_type": "code",
   "execution_count": 30,
   "metadata": {},
   "outputs": [
    {
     "name": "stdout",
     "output_type": "stream",
     "text": [
      "30\n"
     ]
    }
   ],
   "source": [
    "##only takes first return value\n",
    "def fun(a,b):\n",
    "    c=a+b\n",
    "    d=a-b\n",
    "    return c\n",
    "    return c\n",
    "res=fun(10,20)\n",
    "print res\n"
   ]
  },
  {
   "cell_type": "code",
   "execution_count": 31,
   "metadata": {},
   "outputs": [
    {
     "name": "stdout",
     "output_type": "stream",
     "text": [
      "this is function\n",
      "this is function\n"
     ]
    }
   ],
   "source": [
    "def fun():\n",
    "    print \"this is function\"\n",
    "f1=fun\n",
    "f1()\n",
    "fun()"
   ]
  },
  {
   "cell_type": "code",
   "execution_count": 33,
   "metadata": {},
   "outputs": [
    {
     "name": "stdout",
     "output_type": "stream",
     "text": [
      "func started\n",
      "-10\n"
     ]
    }
   ],
   "source": [
    "##only takes first return value\n",
    "def fun(a,b):\n",
    "    print \"func started\"\n",
    "    c=a+b\n",
    "    d=a-b\n",
    "    return d\n",
    "    return c\n",
    "res=fun(10,20)\n",
    "print res\n"
   ]
  },
  {
   "cell_type": "code",
   "execution_count": 35,
   "metadata": {},
   "outputs": [
    {
     "name": "stdout",
     "output_type": "stream",
     "text": [
      "id(a): 66869408 id(b): 66871280\n",
      "1000 2000\n",
      "id(a): 66869408 id(b): 66871280\n"
     ]
    }
   ],
   "source": [
    "##call by reference concept\n",
    "a=1000\n",
    "b=2000\n",
    "print \"id(a):\",id(a),\"id(b):\",id(b)\n",
    "def fun(x,y):\n",
    "    print x,y\n",
    "    print \"id(a):\",id(a),\"id(b):\",id(b)\n",
    "fun(a,b)"
   ]
  },
  {
   "cell_type": "code",
   "execution_count": 36,
   "metadata": {},
   "outputs": [
    {
     "name": "stdout",
     "output_type": "stream",
     "text": [
      "enter value of a: 20\n",
      "enter value of b: 30\n",
      "id(a): 31294240 id(b): 31294000\n",
      "20 30\n",
      "id(a): 66869432 id(b): 31294000\n",
      "40\n"
     ]
    }
   ],
   "source": [
    "##call by reference concept\n",
    "a=int(raw_input(\"enter value of a: \"))\n",
    "b=int(raw_input(\"enter value of b: \"))\n",
    "print \"id(a):\",id(a),\"id(b):\",id(b)\n",
    "def fun(x,y):\n",
    "    print x,y\n",
    "    a=2000\n",
    "    print \"id(a):\",id(a),\"id(b):\",id(b)\n",
    "fun(a,b)\n",
    "print a+20"
   ]
  },
  {
   "cell_type": "code",
   "execution_count": 37,
   "metadata": {},
   "outputs": [
    {
     "name": "stdout",
     "output_type": "stream",
     "text": [
      "20\n"
     ]
    }
   ],
   "source": [
    "a=20\n",
    "def fun(x):\n",
    "    x=x+10\n",
    "fun(a)\n",
    "print a"
   ]
  },
  {
   "cell_type": "code",
   "execution_count": 39,
   "metadata": {},
   "outputs": [
    {
     "name": "stdout",
     "output_type": "stream",
     "text": [
      "30\n",
      "20\n"
     ]
    }
   ],
   "source": [
    "a=20\n",
    "def fun(x):\n",
    "    a=x+10\n",
    "    print a\n",
    "fun(a)\n",
    "print a"
   ]
  },
  {
   "cell_type": "code",
   "execution_count": null,
   "metadata": {
    "collapsed": true
   },
   "outputs": [],
   "source": []
  }
 ],
 "metadata": {
  "kernelspec": {
   "display_name": "Python 2",
   "language": "python",
   "name": "python2"
  },
  "language_info": {
   "codemirror_mode": {
    "name": "ipython",
    "version": 2
   },
   "file_extension": ".py",
   "mimetype": "text/x-python",
   "name": "python",
   "nbconvert_exporter": "python",
   "pygments_lexer": "ipython2",
   "version": "2.7.14"
  }
 },
 "nbformat": 4,
 "nbformat_minor": 2
}
