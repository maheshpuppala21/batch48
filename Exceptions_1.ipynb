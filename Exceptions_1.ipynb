{
 "cells": [
  {
   "cell_type": "code",
   "execution_count": 8,
   "metadata": {},
   "outputs": [
    {
     "name": "stdout",
     "output_type": "stream",
     "text": [
      "enter a value: 10.23\n",
      "enter b value: 23.43\n",
      "before conversion a=10.23, b=23.43\n"
     ]
    },
    {
     "ename": "ValueError",
     "evalue": "invalid literal for int() with base 10: '10.23'",
     "output_type": "error",
     "traceback": [
      "\u001b[1;31m---------------------------------------------------------------------------\u001b[0m",
      "\u001b[1;31mValueError\u001b[0m                                Traceback (most recent call last)",
      "\u001b[1;32m<ipython-input-8-057670b41555>\u001b[0m in \u001b[0;36m<module>\u001b[1;34m()\u001b[0m\n\u001b[0;32m      2\u001b[0m \u001b[0mb\u001b[0m\u001b[1;33m=\u001b[0m\u001b[0mraw_input\u001b[0m\u001b[1;33m(\u001b[0m\u001b[1;34m\"enter b value: \"\u001b[0m\u001b[1;33m)\u001b[0m\u001b[1;33m\u001b[0m\u001b[0m\n\u001b[0;32m      3\u001b[0m \u001b[1;32mprint\u001b[0m \u001b[1;34m\"before conversion a=%s, b=%s\"\u001b[0m\u001b[1;33m%\u001b[0m\u001b[1;33m(\u001b[0m\u001b[0ma\u001b[0m\u001b[1;33m,\u001b[0m\u001b[0mb\u001b[0m\u001b[1;33m)\u001b[0m\u001b[1;33m\u001b[0m\u001b[0m\n\u001b[1;32m----> 4\u001b[1;33m \u001b[0ma\u001b[0m\u001b[1;33m=\u001b[0m\u001b[0mint\u001b[0m\u001b[1;33m(\u001b[0m\u001b[0ma\u001b[0m\u001b[1;33m)\u001b[0m\u001b[1;33m\u001b[0m\u001b[0m\n\u001b[0m\u001b[0;32m      5\u001b[0m \u001b[0mb\u001b[0m\u001b[1;33m=\u001b[0m\u001b[0mint\u001b[0m\u001b[1;33m(\u001b[0m\u001b[0mb\u001b[0m\u001b[1;33m)\u001b[0m\u001b[1;33m\u001b[0m\u001b[0m\n\u001b[0;32m      6\u001b[0m \u001b[1;32mprint\u001b[0m \u001b[1;34m\"after conversion a=%s, b=%s\"\u001b[0m\u001b[1;33m%\u001b[0m\u001b[1;33m(\u001b[0m\u001b[0ma\u001b[0m\u001b[1;33m,\u001b[0m\u001b[0mb\u001b[0m\u001b[1;33m)\u001b[0m\u001b[1;33m\u001b[0m\u001b[0m\n",
      "\u001b[1;31mValueError\u001b[0m: invalid literal for int() with base 10: '10.23'"
     ]
    }
   ],
   "source": [
    "a=raw_input(\"enter a value: \")\n",
    "b=raw_input(\"enter b value: \")\n",
    "print \"before conversion a=%s, b=%s\"%(a,b)\n",
    "a=int(a)\n",
    "b=int(b)\n",
    "print \"after conversion a=%s, b=%s\"%(a,b)\n",
    "res=a+b\n",
    "print \"result=\",res\n",
    "print \"other statements in program\"\n",
    "print \"program ended\""
   ]
  },
  {
   "cell_type": "code",
   "execution_count": 9,
   "metadata": {},
   "outputs": [
    {
     "name": "stdout",
     "output_type": "stream",
     "text": [
      "enter a value: 10.23\n",
      "enter b value: 23.43\n",
      "before conversion a=10.23, b=23.43\n",
      "after conversion a=10.23, b=23.43\n",
      "result= 33.66\n",
      "other statements in program\n",
      "program ended\n"
     ]
    }
   ],
   "source": [
    "a=raw_input(\"enter a value: \")\n",
    "b=raw_input(\"enter b value: \")\n",
    "print \"before conversion a=%s, b=%s\"%(a,b)\n",
    "a=float(a)\n",
    "b=float(b)\n",
    "print \"after conversion a=%s, b=%s\"%(a,b)\n",
    "res=a+b\n",
    "print \"result=\",res\n",
    "print \"other statements in program\"\n",
    "print \"program ended\""
   ]
  },
  {
   "cell_type": "code",
   "execution_count": 13,
   "metadata": {},
   "outputs": [
    {
     "name": "stdout",
     "output_type": "stream",
     "text": [
      "enter a value: abc\n",
      "enter b value: 20\n",
      "before conversion a=abc, b=20\n",
      "something went wrong error: could not convert string to float: abc\n"
     ]
    }
   ],
   "source": [
    "try:\n",
    "    a=raw_input(\"enter a value: \")\n",
    "    b=raw_input(\"enter b value: \")\n",
    "    print \"before conversion a=%s, b=%s\"%(a,b)\n",
    "    a=float(a)\n",
    "    b=float(b)\n",
    "    print \"after conversion a=%s, b=%s\"%(a,b)\n",
    "    res=a+b\n",
    "    print \"result=\",res\n",
    "    print \"other statements in program\"\n",
    "    print \"program ended\"\n",
    "except Exception as err:\n",
    "    print \"something went wrong error: %s\"%err"
   ]
  },
  {
   "cell_type": "code",
   "execution_count": 14,
   "metadata": {},
   "outputs": [
    {
     "name": "stdout",
     "output_type": "stream",
     "text": [
      "enter a value: 12\n",
      "enter b value: 0\n",
      "before conversion a=12, b=0\n",
      "after conversion a=12.0, b=0.0\n",
      "cannot give b values as zero\n",
      "error was: float division by zero\n"
     ]
    }
   ],
   "source": [
    "try:\n",
    "    a=raw_input(\"enter a value: \")\n",
    "    b=raw_input(\"enter b value: \")\n",
    "    print \"before conversion a=%s, b=%s\"%(a,b)\n",
    "    a=float(a)\n",
    "    b=float(b)\n",
    "    print \"after conversion a=%s, b=%s\"%(a,b)\n",
    "    res=a/b\n",
    "    print \"result=\",res\n",
    "    print \"other statements in program\"\n",
    "    print \"program ended\"\n",
    "except Exception as err:\n",
    "    print \"cannot give b values as zero\"\n",
    "    print \"error was: %s\"%err\n",
    "except Exception as err:\n",
    "    print \"something went wrong error: %s\"%err"
   ]
  },
  {
   "cell_type": "code",
   "execution_count": 16,
   "metadata": {},
   "outputs": [
    {
     "name": "stdout",
     "output_type": "stream",
     "text": [
      "enter a value: 1+2j\n",
      "enter b value: 20.0\n",
      "before conversion a=1+2j, b=20.0\n",
      "something went wrong error: invalid literal for float(): 1+2j\n"
     ]
    }
   ],
   "source": [
    "try:\n",
    "    a=raw_input(\"enter a value: \")\n",
    "    b=raw_input(\"enter b value: \")\n",
    "    print \"before conversion a=%s, b=%s\"%(a,b)\n",
    "    a=float(a)\n",
    "    b=float(b)\n",
    "    print \"after conversion a=%s, b=%s\"%(a,b)\n",
    "    res=a/b\n",
    "    print \"result=\",res\n",
    "    print \"other statements in program\"\n",
    "    print \"program ended\"\n",
    "#except Exception as err:\n",
    " #   print \"cannot give b values as zero\"\n",
    "  #  print \"error was: %s\"%err\n",
    "except Exception as err:\n",
    "    print \"something went wrong error: %s\"%err"
   ]
  },
  {
   "cell_type": "code",
   "execution_count": null,
   "metadata": {
    "collapsed": true
   },
   "outputs": [],
   "source": []
  }
 ],
 "metadata": {
  "kernelspec": {
   "display_name": "Python 2",
   "language": "python",
   "name": "python2"
  },
  "language_info": {
   "codemirror_mode": {
    "name": "ipython",
    "version": 2
   },
   "file_extension": ".py",
   "mimetype": "text/x-python",
   "name": "python",
   "nbconvert_exporter": "python",
   "pygments_lexer": "ipython2",
   "version": "2.7.14"
  }
 },
 "nbformat": 4,
 "nbformat_minor": 2
}
