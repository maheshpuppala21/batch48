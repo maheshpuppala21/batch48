{
 "cells": [
  {
   "cell_type": "code",
   "execution_count": 2,
   "metadata": {},
   "outputs": [
    {
     "name": "stdout",
     "output_type": "stream",
     "text": [
      "program started\n",
      "statements after function\n",
      "other statements in program\n",
      "program ended\n"
     ]
    }
   ],
   "source": [
    "##User Defined function\n",
    "print \"program started\"\n",
    "def fun():\n",
    "    print \"this is stt1 in fun\"\n",
    "    print \"this is stt2 in fun\"\n",
    "    print \"this is stt3 in fun\"\n",
    "    print \"this is stt3 in fun\"\n",
    "print \"statements after function\"\n",
    "print \"other statements in program\"\n",
    "print \"program ended\""
   ]
  },
  {
   "cell_type": "code",
   "execution_count": 3,
   "metadata": {},
   "outputs": [
    {
     "name": "stdout",
     "output_type": "stream",
     "text": [
      "program started\n",
      "this is stt1 in fun\n",
      "this is stt2 in fun\n",
      "this is stt3 in fun\n",
      "this is stt3 in fun\n",
      "statements after function\n",
      "other statements in program\n",
      "program ended\n"
     ]
    }
   ],
   "source": [
    "##User Defined function\n",
    "print \"program started\"\n",
    "def fun():\n",
    "    print \"this is stt1 in fun\"\n",
    "    print \"this is stt2 in fun\"\n",
    "    print \"this is stt3 in fun\"\n",
    "    print \"this is stt3 in fun\"\n",
    "fun()\n",
    "print \"statements after function\"\n",
    "print \"other statements in program\"\n",
    "print \"program ended\""
   ]
  },
  {
   "cell_type": "code",
   "execution_count": 4,
   "metadata": {},
   "outputs": [
    {
     "name": "stdout",
     "output_type": "stream",
     "text": [
      "program started\n",
      "this is stt1 in fun\n",
      "this is stt2 in fun\n",
      "this is stt3 in fun\n",
      "this is stt3 in fun\n",
      "statements after function\n",
      "other statements in program\n",
      "program ended\n",
      "this is stt1 in fun\n",
      "this is stt2 in fun\n",
      "this is stt3 in fun\n",
      "this is stt3 in fun\n"
     ]
    }
   ],
   "source": [
    "##User Defined function\n",
    "print \"program started\"\n",
    "def fun():        ##Signature of the function , it will only signature part and wont execute until it calls\n",
    "    print \"this is stt1 in fun\"\n",
    "    print \"this is stt2 in fun\"\n",
    "    print \"this is stt3 in fun\"\n",
    "    print \"this is stt3 in fun\"\n",
    "fun()\n",
    "print \"statements after function\"\n",
    "print \"other statements in program\"\n",
    "print \"program ended\"\n",
    "fun()"
   ]
  },
  {
   "cell_type": "code",
   "execution_count": 5,
   "metadata": {},
   "outputs": [
    {
     "name": "stdout",
     "output_type": "stream",
     "text": [
      "program started\n",
      "statements after function\n",
      "other statements in program\n",
      "program ended\n"
     ]
    }
   ],
   "source": [
    "##User Defined function\n",
    "print \"program started\"\n",
    "def fun():        ##Signature of the function , it will only signature part and wont execute until it calls\n",
    "    print 10/0\n",
    "    print \"this is stt1 in fun\"\n",
    "    print \"this is stt2 in fun\"\n",
    "    print \"this is stt3 in fun\"\n",
    "    print \"this is stt3 in fun\"\n",
    "##fun()\n",
    "print \"statements after function\"\n",
    "print \"other statements in program\"\n",
    "print \"program ended\"\n",
    "##fun()"
   ]
  },
  {
   "cell_type": "code",
   "execution_count": 7,
   "metadata": {},
   "outputs": [
    {
     "name": "stdout",
     "output_type": "stream",
     "text": [
      "program started\n",
      "this is stt1 in fun\n",
      "this is stt2 in fun\n",
      "this is stt3 in fun\n",
      "this is stt3 in fun\n",
      "statements after function\n",
      "other statements in program\n",
      "program ended\n",
      "this is stt1 in fun\n",
      "this is stt2 in fun\n",
      "this is stt3 in fun\n",
      "this is stt3 in fun\n"
     ]
    }
   ],
   "source": [
    "##User Defined function\n",
    "print \"program started\"\n",
    "def fun():        ##Signature of the function , it will only signature part and wont execute until it calls\n",
    "    print \"this is stt1 in fun\"\n",
    "    print \"this is stt2 in fun\"\n",
    "    print \"this is stt3 in fun\"\n",
    "    print \"this is stt3 in fun\"\n",
    "fun()\n",
    "print \"statements after function\"\n",
    "print \"other statements in program\"\n",
    "print \"program ended\"\n",
    "fun()"
   ]
  },
  {
   "cell_type": "code",
   "execution_count": 9,
   "metadata": {},
   "outputs": [
    {
     "name": "stdout",
     "output_type": "stream",
     "text": [
      "program started\n",
      "statements after function\n",
      "other statements in program\n",
      "program ended\n"
     ]
    }
   ],
   "source": [
    "##User Defined function\n",
    "print \"program started\"\n",
    "def fun():        ##Signature of the function , it will only signature part and wont execute until it calls\n",
    "    print 1/0\n",
    "    print \"this is stt1 in fun\"   # here the function never throws error until it executes the fucntion\n",
    "    print \"this is stt2 in fun\"\n",
    "    print \"this is stt3 in fun\"\n",
    "    print \"this is stt3 in fun\"\n",
    "print \"statements after function\"\n",
    "print \"other statements in program\"\n",
    "print \"program ended\""
   ]
  },
  {
   "cell_type": "code",
   "execution_count": 10,
   "metadata": {},
   "outputs": [
    {
     "name": "stdout",
     "output_type": "stream",
     "text": [
      "program started\n",
      "statements after function\n",
      "other statements in program\n"
     ]
    },
    {
     "ename": "ZeroDivisionError",
     "evalue": "integer division or modulo by zero",
     "output_type": "error",
     "traceback": [
      "\u001b[1;31m---------------------------------------------------------------------------\u001b[0m",
      "\u001b[1;31mZeroDivisionError\u001b[0m                         Traceback (most recent call last)",
      "\u001b[1;32m<ipython-input-10-cf6fbd774137>\u001b[0m in \u001b[0;36m<module>\u001b[1;34m()\u001b[0m\n\u001b[0;32m      9\u001b[0m \u001b[1;32mprint\u001b[0m \u001b[1;34m\"statements after function\"\u001b[0m\u001b[1;33m\u001b[0m\u001b[0m\n\u001b[0;32m     10\u001b[0m \u001b[1;32mprint\u001b[0m \u001b[1;34m\"other statements in program\"\u001b[0m\u001b[1;33m\u001b[0m\u001b[0m\n\u001b[1;32m---> 11\u001b[1;33m \u001b[0mfun\u001b[0m\u001b[1;33m(\u001b[0m\u001b[1;33m)\u001b[0m\u001b[1;33m\u001b[0m\u001b[0m\n\u001b[0m\u001b[0;32m     12\u001b[0m \u001b[1;32mprint\u001b[0m \u001b[1;34m\"program ended\"\u001b[0m\u001b[1;33m\u001b[0m\u001b[0m\n",
      "\u001b[1;32m<ipython-input-10-cf6fbd774137>\u001b[0m in \u001b[0;36mfun\u001b[1;34m()\u001b[0m\n\u001b[0;32m      2\u001b[0m \u001b[1;32mprint\u001b[0m \u001b[1;34m\"program started\"\u001b[0m\u001b[1;33m\u001b[0m\u001b[0m\n\u001b[0;32m      3\u001b[0m \u001b[1;32mdef\u001b[0m \u001b[0mfun\u001b[0m\u001b[1;33m(\u001b[0m\u001b[1;33m)\u001b[0m\u001b[1;33m:\u001b[0m        \u001b[1;31m##Signature of the function , it will only signature part and wont execute until it calls\u001b[0m\u001b[1;33m\u001b[0m\u001b[0m\n\u001b[1;32m----> 4\u001b[1;33m     \u001b[1;32mprint\u001b[0m \u001b[1;36m1\u001b[0m\u001b[1;33m/\u001b[0m\u001b[1;36m0\u001b[0m\u001b[1;33m\u001b[0m\u001b[0m\n\u001b[0m\u001b[0;32m      5\u001b[0m     \u001b[1;32mprint\u001b[0m \u001b[1;34m\"this is stt1 in fun\"\u001b[0m   \u001b[1;31m# here the function never throws error until it executes the fucntion\u001b[0m\u001b[1;33m\u001b[0m\u001b[0m\n\u001b[0;32m      6\u001b[0m     \u001b[1;32mprint\u001b[0m \u001b[1;34m\"this is stt2 in fun\"\u001b[0m\u001b[1;33m\u001b[0m\u001b[0m\n",
      "\u001b[1;31mZeroDivisionError\u001b[0m: integer division or modulo by zero"
     ]
    }
   ],
   "source": [
    "##User Defined function\n",
    "print \"program started\"\n",
    "def fun():        ##Signature of the function , it will only signature part and wont execute until it calls\n",
    "    print 1/0\n",
    "    print \"this is stt1 in fun\"   # here the function never throws error until it executes the fucntion\n",
    "    print \"this is stt2 in fun\"\n",
    "    print \"this is stt3 in fun\"\n",
    "    print \"this is stt3 in fun\"\n",
    "print \"statements after function\"\n",
    "print \"other statements in program\"\n",
    "fun()\n",
    "print \"program ended\""
   ]
  },
  {
   "cell_type": "code",
   "execution_count": 11,
   "metadata": {},
   "outputs": [
    {
     "name": "stdout",
     "output_type": "stream",
     "text": [
      "this is loop\n",
      "this is loop\n",
      "program started\n",
      "this is stt1 in fun\n",
      "this is stt2 in fun\n",
      "this is stt3 in fun\n",
      "this is stt3 in fun\n",
      "statements after function\n",
      "other statements in program\n",
      "program ended\n",
      "this is stt1 in fun\n",
      "this is stt2 in fun\n",
      "this is stt3 in fun\n",
      "this is stt3 in fun\n"
     ]
    }
   ],
   "source": [
    "##Code reusability difference b/w looping and UDF, looping print cannot be used anywhere in code but UDF can be used \n",
    "##anywhere in the code\n",
    "for i in range(2):\n",
    "    print \"this is loop\"\n",
    "##User Defined function\n",
    "print \"program started\"\n",
    "def fun():        ##Signature of the function , it will only signature part and wont execute until it calls\n",
    "    print \"this is stt1 in fun\"\n",
    "    print \"this is stt2 in fun\"\n",
    "    print \"this is stt3 in fun\"\n",
    "    print \"this is stt3 in fun\"\n",
    "fun()\n",
    "print \"statements after function\"\n",
    "print \"other statements in program\"\n",
    "print \"program ended\"\n",
    "fun()"
   ]
  },
  {
   "cell_type": "code",
   "execution_count": 12,
   "metadata": {},
   "outputs": [
    {
     "name": "stdout",
     "output_type": "stream",
     "text": [
      "program statrted\n",
      "statements after fucntion definition\n",
      "this is fun\n",
      "program ended\n"
     ]
    }
   ],
   "source": [
    "##Follow below templete when using user defined function\n",
    "print \"program statrted\"\n",
    "def fun():\n",
    "    print \"this is fun\"\n",
    "print \"statements after fucntion definition\"\n",
    "fun()\n",
    "print \"program ended\""
   ]
  },
  {
   "cell_type": "code",
   "execution_count": 13,
   "metadata": {},
   "outputs": [
    {
     "name": "stdout",
     "output_type": "stream",
     "text": [
      "program statrted\n",
      "statements after fucntion definition\n"
     ]
    },
    {
     "ename": "TypeError",
     "evalue": "fun() takes exactly 2 arguments (0 given)",
     "output_type": "error",
     "traceback": [
      "\u001b[1;31m---------------------------------------------------------------------------\u001b[0m",
      "\u001b[1;31mTypeError\u001b[0m                                 Traceback (most recent call last)",
      "\u001b[1;32m<ipython-input-13-efec5cd8e0d1>\u001b[0m in \u001b[0;36m<module>\u001b[1;34m()\u001b[0m\n\u001b[0;32m      4\u001b[0m     \u001b[1;32mprint\u001b[0m \u001b[1;34m\"this is fun\"\u001b[0m\u001b[1;33m\u001b[0m\u001b[0m\n\u001b[0;32m      5\u001b[0m \u001b[1;32mprint\u001b[0m \u001b[1;34m\"statements after fucntion definition\"\u001b[0m\u001b[1;33m\u001b[0m\u001b[0m\n\u001b[1;32m----> 6\u001b[1;33m \u001b[0mfun\u001b[0m\u001b[1;33m(\u001b[0m\u001b[1;33m)\u001b[0m\u001b[1;33m\u001b[0m\u001b[0m\n\u001b[0m\u001b[0;32m      7\u001b[0m \u001b[1;32mprint\u001b[0m \u001b[1;34m\"program ended\"\u001b[0m\u001b[1;33m\u001b[0m\u001b[0m\n",
      "\u001b[1;31mTypeError\u001b[0m: fun() takes exactly 2 arguments (0 given)"
     ]
    }
   ],
   "source": [
    "##Follow below templete when using user defined function\n",
    "print \"program statrted\"\n",
    "def fun(a,b):\n",
    "    print \"this is fun\"\n",
    "print \"statements after fucntion definition\"\n",
    "fun()\n",
    "print \"program ended\""
   ]
  },
  {
   "cell_type": "code",
   "execution_count": 15,
   "metadata": {},
   "outputs": [
    {
     "name": "stdout",
     "output_type": "stream",
     "text": [
      "program statrted\n",
      "statements after fucntion definition\n"
     ]
    },
    {
     "ename": "TypeError",
     "evalue": "fun() takes exactly 2 arguments (1 given)",
     "output_type": "error",
     "traceback": [
      "\u001b[1;31m---------------------------------------------------------------------------\u001b[0m",
      "\u001b[1;31mTypeError\u001b[0m                                 Traceback (most recent call last)",
      "\u001b[1;32m<ipython-input-15-d034106b17d5>\u001b[0m in \u001b[0;36m<module>\u001b[1;34m()\u001b[0m\n\u001b[0;32m      4\u001b[0m     \u001b[1;32mprint\u001b[0m \u001b[1;34m\"this is fun\"\u001b[0m\u001b[1;33m\u001b[0m\u001b[0m\n\u001b[0;32m      5\u001b[0m \u001b[1;32mprint\u001b[0m \u001b[1;34m\"statements after fucntion definition\"\u001b[0m\u001b[1;33m\u001b[0m\u001b[0m\n\u001b[1;32m----> 6\u001b[1;33m \u001b[0mfun\u001b[0m\u001b[1;33m(\u001b[0m\u001b[1;36m10\u001b[0m\u001b[1;33m)\u001b[0m\u001b[1;33m\u001b[0m\u001b[0m\n\u001b[0m\u001b[0;32m      7\u001b[0m \u001b[1;32mprint\u001b[0m \u001b[1;34m\"program ended\"\u001b[0m\u001b[1;33m\u001b[0m\u001b[0m\n",
      "\u001b[1;31mTypeError\u001b[0m: fun() takes exactly 2 arguments (1 given)"
     ]
    }
   ],
   "source": [
    "##Follow below templete when using user defined function\n",
    "print \"program statrted\"\n",
    "def fun(a,b):\n",
    "    print \"this is fun\"\n",
    "print \"statements after fucntion definition\"\n",
    "fun(10)\n",
    "print \"program ended\""
   ]
  },
  {
   "cell_type": "code",
   "execution_count": 17,
   "metadata": {},
   "outputs": [
    {
     "name": "stdout",
     "output_type": "stream",
     "text": [
      "program statrted\n",
      "statements after fucntion definition\n",
      "a= 10 b= 20\n",
      "30\n",
      "-10\n",
      "200\n",
      "0\n",
      "10\n",
      "program ended\n"
     ]
    }
   ],
   "source": [
    "##Follow below templete when using user defined function\n",
    "print \"program statrted\"\n",
    "def fun(a,b):\n",
    "    print \"a=\",a,\"b=\",b\n",
    "    print a+b\n",
    "    print a-b\n",
    "    print a*b\n",
    "    print a/b\n",
    "    print a%b\n",
    "print \"statements after fucntion definition\"\n",
    "fun(10,20)\n",
    "print \"program ended\""
   ]
  },
  {
   "cell_type": "code",
   "execution_count": 18,
   "metadata": {},
   "outputs": [
    {
     "name": "stdout",
     "output_type": "stream",
     "text": [
      "program statrted\n",
      "statements after fucntion definition\n",
      "********************\n",
      "a= 10 b= 20\n",
      "30\n",
      "-10\n",
      "200\n",
      "0\n",
      "10\n",
      "program ended\n",
      "********************\n",
      "a= 100 b= 200\n",
      "300\n",
      "-100\n",
      "20000\n",
      "0\n",
      "100\n",
      "********************\n",
      "a= 1000 b= 2000\n",
      "3000\n",
      "-1000\n",
      "2000000\n",
      "0\n",
      "1000\n",
      "********************\n",
      "a= 23.45 b= 56.45\n",
      "79.9\n",
      "-33.0\n",
      "1323.7525\n",
      "0.415411868911\n",
      "23.45\n",
      "********************\n",
      "a= -34 b= -55\n",
      "-89\n",
      "21\n",
      "1870\n",
      "0\n",
      "-34\n"
     ]
    }
   ],
   "source": [
    "##Follow below templete when using user defined function\n",
    "print \"program statrted\"\n",
    "def fun(a,b):\n",
    "    print \"*\"*20\n",
    "    print \"a=\",a,\"b=\",b\n",
    "    print a+b\n",
    "    print a-b\n",
    "    print a*b\n",
    "    print a/b\n",
    "    print a%b\n",
    "print \"statements after fucntion definition\"\n",
    "fun(10,20)\n",
    "print \"program ended\"\n",
    "fun(100,200)\n",
    "fun(1000,2000)\n",
    "fun(23.45,56.45)\n",
    "fun(-34,-55)"
   ]
  },
  {
   "cell_type": "code",
   "execution_count": 19,
   "metadata": {},
   "outputs": [
    {
     "name": "stdout",
     "output_type": "stream",
     "text": [
      "program statrted\n",
      "enter a value: 40\n",
      "enter b value: 50\n",
      "statements after fucntion definition\n",
      "********************\n",
      "a= 10 b= 20\n",
      "30\n",
      "-10\n",
      "200\n",
      "0\n",
      "10\n",
      "program ended\n",
      "********************\n",
      "a= 100 b= 200\n",
      "300\n",
      "-100\n",
      "20000\n",
      "0\n",
      "100\n",
      "********************\n",
      "a= 1000 b= 2000\n",
      "3000\n",
      "-1000\n",
      "2000000\n",
      "0\n",
      "1000\n",
      "********************\n",
      "a= 23.45 b= 56.45\n",
      "79.9\n",
      "-33.0\n",
      "1323.7525\n",
      "0.415411868911\n",
      "23.45\n",
      "********************\n",
      "a= -34 b= -55\n",
      "-89\n",
      "21\n",
      "1870\n",
      "0\n",
      "-34\n"
     ]
    }
   ],
   "source": [
    "#Take two numbers from users and pass this to function and perform arihtmetic operations as above code\n",
    "#a=int(raw_input(\"enter a value: \"))\n",
    "#b=int(raw_input(\"enter b value: \"))\n",
    "print \"program statrted\"\n",
    "def fun(a=int(raw_input(\"enter a value: \")),b=int(raw_input(\"enter b value: \"))):\n",
    "    print \"*\"*20\n",
    "    print \"a=\",a,\"b=\",b\n",
    "    print a+b\n",
    "    print a-b\n",
    "    print a*b\n",
    "    print a/b\n",
    "    print a%b\n",
    "print \"statements after fucntion definition\"\n",
    "fun(10,20)\n",
    "print \"program ended\"\n",
    "fun(100,200)\n",
    "fun(1000,2000)\n",
    "fun(23.45,56.45)\n",
    "fun(-34,-55)\n"
   ]
  },
  {
   "cell_type": "code",
   "execution_count": 21,
   "metadata": {},
   "outputs": [
    {
     "name": "stdout",
     "output_type": "stream",
     "text": [
      "program statrted\n",
      "statements after fucntion definition\n",
      "enter a value: 10\n",
      "enter b value: 20\n",
      "********************\n",
      "a= 10 b= 20\n",
      "30\n",
      "-10\n",
      "200\n",
      "0\n",
      "10\n",
      "program ended\n"
     ]
    }
   ],
   "source": [
    "#Take two numbers from users and pass this to function and perform arihtmetic operations as above code\n",
    "print \"program statrted\"\n",
    "def fun(a,b):\n",
    "    print \"*\"*20\n",
    "    print \"a=\",a,\"b=\",b\n",
    "    print a+b\n",
    "    print a-b\n",
    "    print a*b\n",
    "    print a/b\n",
    "    print a%b\n",
    "print \"statements after fucntion definition\"\n",
    "fun(a=int(raw_input(\"enter a value: \")),b=int(raw_input(\"enter b value: \")))\n",
    "print \"program ended\""
   ]
  },
  {
   "cell_type": "code",
   "execution_count": 22,
   "metadata": {},
   "outputs": [
    {
     "name": "stdout",
     "output_type": "stream",
     "text": [
      "********************\n",
      "a= 10 b= 20 c= 0 d= 0 e= 0\n",
      "30\n",
      "********************\n",
      "a= 10 b= 20 c= 30 d= 0 e= 0\n",
      "60\n",
      "********************\n",
      "a= 10 b= 20 c= 30 d= 40 e= 0\n",
      "100\n",
      "********************\n",
      "a= 10 b= 20 c= 30 d= 40 e= 50\n",
      "150\n"
     ]
    }
   ],
   "source": [
    "#2 to 5 parameters i need in function eithere it should be atleast 2 to 5\n",
    "#Defult Arguments/parameters\n",
    "def fun(a,b,c=0,d=0,e=0):\n",
    "    \"\"\"             ##doc string\n",
    "    a,b are mandatory parameters\n",
    "    c,d,e are optional parameters\n",
    "    a,b,c,d,e: type: int\n",
    "    return:\n",
    "    desc: take 2 to 5 numbers and adds the numbers\n",
    "    \"\"\"\n",
    "    print \"*\"*20\n",
    "    print \"a=\",a,\"b=\",b,\"c=\",c,\"d=\",d,\"e=\",e\n",
    "    print a+b+c+d+e\n",
    "fun(10,20)\n",
    "fun(10,20,30)\n",
    "fun(10,20,30,40)\n",
    "fun(10,20,30,40,50)\n"
   ]
  },
  {
   "cell_type": "code",
   "execution_count": 23,
   "metadata": {},
   "outputs": [
    {
     "ename": "TypeError",
     "evalue": "fun() takes at least 2 arguments (1 given)",
     "output_type": "error",
     "traceback": [
      "\u001b[1;31m---------------------------------------------------------------------------\u001b[0m",
      "\u001b[1;31mTypeError\u001b[0m                                 Traceback (most recent call last)",
      "\u001b[1;32m<ipython-input-23-4d91cc345e97>\u001b[0m in \u001b[0;36m<module>\u001b[1;34m()\u001b[0m\n\u001b[0;32m     12\u001b[0m     \u001b[1;32mprint\u001b[0m \u001b[1;34m\"a=\"\u001b[0m\u001b[1;33m,\u001b[0m\u001b[0ma\u001b[0m\u001b[1;33m,\u001b[0m\u001b[1;34m\"b=\"\u001b[0m\u001b[1;33m,\u001b[0m\u001b[0mb\u001b[0m\u001b[1;33m,\u001b[0m\u001b[1;34m\"c=\"\u001b[0m\u001b[1;33m,\u001b[0m\u001b[0mc\u001b[0m\u001b[1;33m,\u001b[0m\u001b[1;34m\"d=\"\u001b[0m\u001b[1;33m,\u001b[0m\u001b[0md\u001b[0m\u001b[1;33m,\u001b[0m\u001b[1;34m\"e=\"\u001b[0m\u001b[1;33m,\u001b[0m\u001b[0me\u001b[0m\u001b[1;33m\u001b[0m\u001b[0m\n\u001b[0;32m     13\u001b[0m     \u001b[1;32mprint\u001b[0m \u001b[0ma\u001b[0m\u001b[1;33m+\u001b[0m\u001b[0mb\u001b[0m\u001b[1;33m+\u001b[0m\u001b[0mc\u001b[0m\u001b[1;33m+\u001b[0m\u001b[0md\u001b[0m\u001b[1;33m+\u001b[0m\u001b[0me\u001b[0m\u001b[1;33m\u001b[0m\u001b[0m\n\u001b[1;32m---> 14\u001b[1;33m \u001b[0mfun\u001b[0m\u001b[1;33m(\u001b[0m\u001b[1;36m10\u001b[0m\u001b[1;33m)\u001b[0m\u001b[1;33m\u001b[0m\u001b[0m\n\u001b[0m\u001b[0;32m     15\u001b[0m \u001b[0mfun\u001b[0m\u001b[1;33m(\u001b[0m\u001b[1;36m10\u001b[0m\u001b[1;33m,\u001b[0m\u001b[1;36m20\u001b[0m\u001b[1;33m,\u001b[0m\u001b[1;36m30\u001b[0m\u001b[1;33m)\u001b[0m\u001b[1;33m\u001b[0m\u001b[0m\n\u001b[0;32m     16\u001b[0m \u001b[0mfun\u001b[0m\u001b[1;33m(\u001b[0m\u001b[1;36m10\u001b[0m\u001b[1;33m,\u001b[0m\u001b[1;36m20\u001b[0m\u001b[1;33m,\u001b[0m\u001b[1;36m30\u001b[0m\u001b[1;33m,\u001b[0m\u001b[1;36m40\u001b[0m\u001b[1;33m)\u001b[0m\u001b[1;33m\u001b[0m\u001b[0m\n",
      "\u001b[1;31mTypeError\u001b[0m: fun() takes at least 2 arguments (1 given)"
     ]
    }
   ],
   "source": [
    "#2 to 5 parameters i need in function eithere it should be atleast 2 to 5\n",
    "#Defult Arguments/parameters\n",
    "def fun(a,b,c=0,d=0,e=0):\n",
    "    \"\"\"             ##doc string\n",
    "    a,b are mandatory parameters\n",
    "    c,d,e are optional parameters\n",
    "    a,b,c,d,e: type: int\n",
    "    return:\n",
    "    desc: take 2 to 5 numbers and adds the numbers\n",
    "    \"\"\"\n",
    "    print \"*\"*20\n",
    "    print \"a=\",a,\"b=\",b,\"c=\",c,\"d=\",d,\"e=\",e\n",
    "    print a+b+c+d+e\n",
    "fun(10) ####mandatory to give 2nd parameter \n",
    "fun(10,20,30)\n",
    "fun(10,20,30,40)\n",
    "fun(10,20,30,40,50)\n"
   ]
  },
  {
   "cell_type": "code",
   "execution_count": 25,
   "metadata": {},
   "outputs": [
    {
     "name": "stdout",
     "output_type": "stream",
     "text": [
      "********************\n",
      "a= 10 b= 20 c= 0 d= 0 e= 0\n",
      "30\n",
      "********************\n",
      "a= 10 b= 20 c= 30 d= 0 e= 0\n",
      "60\n",
      "********************\n",
      "a= 10 b= 20 c= 30 d= 40 e= 0\n",
      "100\n"
     ]
    },
    {
     "ename": "TypeError",
     "evalue": "fun() takes at most 5 arguments (6 given)",
     "output_type": "error",
     "traceback": [
      "\u001b[1;31m---------------------------------------------------------------------------\u001b[0m",
      "\u001b[1;31mTypeError\u001b[0m                                 Traceback (most recent call last)",
      "\u001b[1;32m<ipython-input-25-a4314c58dfa9>\u001b[0m in \u001b[0;36m<module>\u001b[1;34m()\u001b[0m\n\u001b[0;32m     15\u001b[0m \u001b[0mfun\u001b[0m\u001b[1;33m(\u001b[0m\u001b[1;36m10\u001b[0m\u001b[1;33m,\u001b[0m\u001b[1;36m20\u001b[0m\u001b[1;33m,\u001b[0m\u001b[1;36m30\u001b[0m\u001b[1;33m)\u001b[0m\u001b[1;33m\u001b[0m\u001b[0m\n\u001b[0;32m     16\u001b[0m \u001b[0mfun\u001b[0m\u001b[1;33m(\u001b[0m\u001b[1;36m10\u001b[0m\u001b[1;33m,\u001b[0m\u001b[1;36m20\u001b[0m\u001b[1;33m,\u001b[0m\u001b[1;36m30\u001b[0m\u001b[1;33m,\u001b[0m\u001b[1;36m40\u001b[0m\u001b[1;33m)\u001b[0m\u001b[1;33m\u001b[0m\u001b[0m\n\u001b[1;32m---> 17\u001b[1;33m \u001b[0mfun\u001b[0m\u001b[1;33m(\u001b[0m\u001b[1;36m10\u001b[0m\u001b[1;33m,\u001b[0m\u001b[1;36m20\u001b[0m\u001b[1;33m,\u001b[0m\u001b[1;36m30\u001b[0m\u001b[1;33m,\u001b[0m\u001b[1;36m40\u001b[0m\u001b[1;33m,\u001b[0m\u001b[1;36m50\u001b[0m\u001b[1;33m,\u001b[0m\u001b[1;36m60\u001b[0m\u001b[1;33m)\u001b[0m        \u001b[1;31m#defined 5, but given 6th argument\u001b[0m\u001b[1;33m\u001b[0m\u001b[0m\n\u001b[0m",
      "\u001b[1;31mTypeError\u001b[0m: fun() takes at most 5 arguments (6 given)"
     ]
    }
   ],
   "source": [
    "#2 to 5 parameters i need in function eithere it should be atleast 2 to 5\n",
    "#Defult Arguments/parameters\n",
    "def fun(a,b,c=0,d=0,e=0):\n",
    "    \"\"\"             ##doc string\n",
    "    a,b are mandatory parameters\n",
    "    c,d,e are optional parameters\n",
    "    a,b,c,d,e: type: int\n",
    "    return:\n",
    "    desc: take 2 to 5 numbers and adds the numbers\n",
    "    \"\"\"\n",
    "    print \"*\"*20\n",
    "    print \"a=\",a,\"b=\",b,\"c=\",c,\"d=\",d,\"e=\",e\n",
    "    print a+b+c+d+e\n",
    "fun(10,20) \n",
    "fun(10,20,30)\n",
    "fun(10,20,30,40)\n",
    "fun(10,20,30,40,50,60)        #defined 5, but given 6th argument\n"
   ]
  },
  {
   "cell_type": "code",
   "execution_count": 26,
   "metadata": {},
   "outputs": [
    {
     "ename": "SyntaxError",
     "evalue": "non-default argument follows default argument (<ipython-input-26-5269e4d662e1>, line 2)",
     "output_type": "error",
     "traceback": [
      "\u001b[1;36m  File \u001b[1;32m\"<ipython-input-26-5269e4d662e1>\"\u001b[1;36m, line \u001b[1;32m2\u001b[0m\n\u001b[1;33m    def fun(a,b=0,c=0,d):\u001b[0m\n\u001b[1;31mSyntaxError\u001b[0m\u001b[1;31m:\u001b[0m non-default argument follows default argument\n"
     ]
    }
   ],
   "source": [
    "##we cannot pass mandatory argument after default arguments\n",
    "def fun(a,b=0,c=0,d):\n",
    "    print a+b+c+d\n",
    "fun(10,20)"
   ]
  },
  {
   "cell_type": "code",
   "execution_count": 27,
   "metadata": {},
   "outputs": [
    {
     "name": "stdout",
     "output_type": "stream",
     "text": [
      "70\n"
     ]
    }
   ],
   "source": [
    "#keyword arguments\n",
    "def fun(a,b,c=10,d=0,e=0):\n",
    "    print a+b+c+d+e\n",
    "fun(10,20,e=30)"
   ]
  },
  {
   "cell_type": "code",
   "execution_count": 28,
   "metadata": {},
   "outputs": [
    {
     "name": "stdout",
     "output_type": "stream",
     "text": [
      "70\n",
      "e"
     ]
    },
    {
     "ename": "NameError",
     "evalue": "name 'e' is not defined",
     "output_type": "error",
     "traceback": [
      "\u001b[1;31m---------------------------------------------------------------------------\u001b[0m",
      "\u001b[1;31mNameError\u001b[0m                                 Traceback (most recent call last)",
      "\u001b[1;32m<ipython-input-28-af367a54d628>\u001b[0m in \u001b[0;36m<module>\u001b[1;34m()\u001b[0m\n\u001b[0;32m      3\u001b[0m     \u001b[1;32mprint\u001b[0m \u001b[0ma\u001b[0m\u001b[1;33m+\u001b[0m\u001b[0mb\u001b[0m\u001b[1;33m+\u001b[0m\u001b[0mc\u001b[0m\u001b[1;33m+\u001b[0m\u001b[0md\u001b[0m\u001b[1;33m+\u001b[0m\u001b[0me\u001b[0m\u001b[1;33m\u001b[0m\u001b[0m\n\u001b[0;32m      4\u001b[0m \u001b[0mfun\u001b[0m\u001b[1;33m(\u001b[0m\u001b[1;36m10\u001b[0m\u001b[1;33m,\u001b[0m\u001b[1;36m20\u001b[0m\u001b[1;33m,\u001b[0m\u001b[0me\u001b[0m\u001b[1;33m=\u001b[0m\u001b[1;36m30\u001b[0m\u001b[1;33m)\u001b[0m\u001b[1;33m\u001b[0m\u001b[0m\n\u001b[1;32m----> 5\u001b[1;33m \u001b[1;32mprint\u001b[0m \u001b[1;34m\"e\"\u001b[0m\u001b[1;33m,\u001b[0m\u001b[0me\u001b[0m\u001b[1;33m\u001b[0m\u001b[0m\n\u001b[0m",
      "\u001b[1;31mNameError\u001b[0m: name 'e' is not defined"
     ]
    }
   ],
   "source": [
    "#keyword arguments\n",
    "def fun(a,b,c=10,d=0,e=0):\n",
    "    print a+b+c+d+e\n",
    "fun(10,20,e=30)\n",
    "print \"e\",e"
   ]
  },
  {
   "cell_type": "code",
   "execution_count": 29,
   "metadata": {},
   "outputs": [
    {
     "ename": "NameError",
     "evalue": "name 'x' is not defined",
     "output_type": "error",
     "traceback": [
      "\u001b[1;31m---------------------------------------------------------------------------\u001b[0m",
      "\u001b[1;31mNameError\u001b[0m                                 Traceback (most recent call last)",
      "\u001b[1;32m<ipython-input-29-f488cc2a99d6>\u001b[0m in \u001b[0;36m<module>\u001b[1;34m()\u001b[0m\n\u001b[0;32m      2\u001b[0m     \u001b[0mx\u001b[0m\u001b[1;33m=\u001b[0m\u001b[1;36m1000\u001b[0m\u001b[1;33m\u001b[0m\u001b[0m\n\u001b[0;32m      3\u001b[0m \u001b[0mfun\u001b[0m\u001b[1;33m(\u001b[0m\u001b[1;33m)\u001b[0m\u001b[1;33m\u001b[0m\u001b[0m\n\u001b[1;32m----> 4\u001b[1;33m \u001b[1;32mprint\u001b[0m \u001b[0mx\u001b[0m\u001b[1;33m\u001b[0m\u001b[0m\n\u001b[0m",
      "\u001b[1;31mNameError\u001b[0m: name 'x' is not defined"
     ]
    }
   ],
   "source": [
    "def fun():\n",
    "    x=1000\n",
    "fun()\n",
    "print x"
   ]
  },
  {
   "cell_type": "code",
   "execution_count": null,
   "metadata": {
    "collapsed": true
   },
   "outputs": [],
   "source": []
  }
 ],
 "metadata": {
  "kernelspec": {
   "display_name": "Python 2",
   "language": "python",
   "name": "python2"
  },
  "language_info": {
   "codemirror_mode": {
    "name": "ipython",
    "version": 2
   },
   "file_extension": ".py",
   "mimetype": "text/x-python",
   "name": "python",
   "nbconvert_exporter": "python",
   "pygments_lexer": "ipython2",
   "version": "2.7.14"
  }
 },
 "nbformat": 4,
 "nbformat_minor": 2
}
