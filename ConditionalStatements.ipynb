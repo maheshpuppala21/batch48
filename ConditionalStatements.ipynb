{
 "cells": [
  {
   "cell_type": "code",
   "execution_count": null,
   "metadata": {
    "collapsed": true
   },
   "outputs": [],
   "source": [
    "#Conditional Statements"
   ]
  },
  {
   "cell_type": "code",
   "execution_count": 1,
   "metadata": {},
   "outputs": [
    {
     "name": "stdout",
     "output_type": "stream",
     "text": [
      "enter a value: 40\n",
      "enter b value: 60\n",
      "a is big\n",
      "b is big\n",
      "thank you. use me again\n"
     ]
    }
   ],
   "source": [
    "a=raw_input(\"enter a value: \")\n",
    "b=raw_input(\"enter b value: \")\n",
    "print \"a is big\"\n",
    "print \"b is big\"\n",
    "print \"thank you. use me again\""
   ]
  },
  {
   "cell_type": "code",
   "execution_count": 2,
   "metadata": {},
   "outputs": [
    {
     "name": "stdout",
     "output_type": "stream",
     "text": [
      "enter a value: 50\n",
      "enter b value: 30\n",
      "a>b True\n",
      "b>a False\n",
      "a is big\n",
      "thank you. use me again\n"
     ]
    }
   ],
   "source": [
    "a=raw_input(\"enter a value: \")\n",
    "b=raw_input(\"enter b value: \")\n",
    "print \"a>b\",a>b\n",
    "print \"b>a\",b>a\n",
    "if a>b:\n",
    "    print \"a is big\"\n",
    "if b>a:\n",
    "    print \"b is big\"\n",
    "print \"thank you. use me again\"    "
   ]
  },
  {
   "cell_type": "code",
   "execution_count": 5,
   "metadata": {},
   "outputs": [
    {
     "name": "stdout",
     "output_type": "stream",
     "text": [
      "enter the age: 19\n",
      "Eligible for election system in India\n"
     ]
    }
   ],
   "source": [
    "Age=raw_input(\"enter the age: \")\n",
    "if int(Age)>18:\n",
    "    print \"Eligible for election system in India\"\n",
    "if int(Age)<18:\n",
    "    print \"Not Eligible\"\n"
   ]
  },
  {
   "cell_type": "code",
   "execution_count": 20,
   "metadata": {},
   "outputs": [
    {
     "name": "stdout",
     "output_type": "stream",
     "text": [
      "enter the age: 17\n",
      "Not Eligible\n"
     ]
    }
   ],
   "source": [
    "Age=raw_input(\"enter the age: \")\n",
    "if int(Age)>=18:\n",
    "    print \"Eligible for election system in India\"\n",
    "if int(Age)<18:\n",
    "    print \"Not Eligible\"\n"
   ]
  },
  {
   "cell_type": "code",
   "execution_count": 15,
   "metadata": {},
   "outputs": [
    {
     "name": "stdout",
     "output_type": "stream",
     "text": [
      "True\n"
     ]
    }
   ],
   "source": [
    "##always string is greater than integer\n",
    "#ex:\"10\">10\n",
    "age=19\n",
    "print int(age)>=18"
   ]
  },
  {
   "cell_type": "code",
   "execution_count": 22,
   "metadata": {},
   "outputs": [
    {
     "name": "stdout",
     "output_type": "stream",
     "text": [
      "enter the age: 18\n",
      "eligible for election in India\n",
      "thank you\n"
     ]
    }
   ],
   "source": [
    "#member eligible for vote in India\n",
    "age=raw_input(\"enter the age: \")\n",
    "age=int(age)\n",
    "if age>=18:\n",
    "    print \"eligible for election in India\"\n",
    "else:\n",
    "    print \"not eligible for vote\"\n",
    "print \"thank you\"    \n"
   ]
  },
  {
   "cell_type": "code",
   "execution_count": 23,
   "metadata": {},
   "outputs": [
    {
     "name": "stdout",
     "output_type": "stream",
     "text": [
      "enter the age of men: 21\n",
      "Member is eligible for marriage\n",
      "Thank you\n"
     ]
    }
   ],
   "source": [
    "#Member eligible for marriage or not\n",
    "age=raw_input(\"enter the age of men: \")\n",
    "age=int(age)\n",
    "if age>=21:\n",
    "    print \"Member is eligible for marriage\"\n",
    "else:\n",
    "    print \"Not eligible for marriage\"\n",
    "print \"Thank you\""
   ]
  },
  {
   "cell_type": "code",
   "execution_count": 27,
   "metadata": {},
   "outputs": [
    {
     "name": "stdout",
     "output_type": "stream",
     "text": [
      "Enter the age of men: 18\n",
      "Not eligible for marriage and try to register after 21 years\n",
      "Thank you\n"
     ]
    }
   ],
   "source": [
    "#Member eligible for marriage or not\n",
    "age=raw_input(\"Enter the age of men: \")\n",
    "age=int(age)\n",
    "if age>=21:\n",
    "    print \"Member is eligible for marriage and can register in Matrimony\"\n",
    "else:\n",
    "    print \"Not eligible for marriage and try to register after 21 years\"\n",
    "print \"Thank you\""
   ]
  },
  {
   "cell_type": "markdown",
   "metadata": {},
   "source": [
    "# take a, b, c values from user and decide whether a or b or c is big \n",
    "a=raw_input(\"enter a value: \")\n",
    "b=raw_input(\"enter b value: \")\n",
    "c=raw_input(\"enter c value: \")\n",
    "a=int(a)\n",
    "b=int(b)\n",
    "c=int(c)\n",
    "if (a>b)&(a>c):\n",
    "    print \"a is big\",a\n",
    "elif (b>a)&(b>c):\n",
    "    print \"b is big\",b\n",
    "else:\n",
    "    print \"c is big\",c\n",
    "    "
   ]
  },
  {
   "cell_type": "code",
   "execution_count": null,
   "metadata": {
    "collapsed": true
   },
   "outputs": [],
   "source": []
  },
  {
   "cell_type": "code",
   "execution_count": null,
   "metadata": {
    "collapsed": true
   },
   "outputs": [],
   "source": [
    "a=raw_input(\"enter a value: \") \n",
    "b=raw_input(\"enter b value: \") \n",
    "c=raw_input(\"enter c value: \") \n",
    "a=int(a) \n",
    "b=int(b) \n",
    "c=int(c) \n",
    "if (a>b)&(a>c): \n",
    "    print \"a is big\",a \n",
    "elif (b>a)&(b>c):\n",
    "    print \"b is big\",b \n",
    "else:\n",
    "    print \"c is big\",c"
   ]
  },
  {
   "cell_type": "code",
   "execution_count": null,
   "metadata": {
    "collapsed": true
   },
   "outputs": [],
   "source": []
  },
  {
   "cell_type": "code",
   "execution_count": null,
   "metadata": {
    "collapsed": true
   },
   "outputs": [],
   "source": []
  },
  {
   "cell_type": "code",
   "execution_count": null,
   "metadata": {
    "collapsed": true
   },
   "outputs": [],
   "source": []
  },
  {
   "cell_type": "code",
   "execution_count": null,
   "metadata": {
    "collapsed": true
   },
   "outputs": [],
   "source": []
  },
  {
   "cell_type": "code",
   "execution_count": null,
   "metadata": {
    "collapsed": true
   },
   "outputs": [],
   "source": []
  },
  {
   "cell_type": "code",
   "execution_count": null,
   "metadata": {
    "collapsed": true
   },
   "outputs": [],
   "source": []
  },
  {
   "cell_type": "code",
   "execution_count": null,
   "metadata": {
    "collapsed": true
   },
   "outputs": [],
   "source": []
  },
  {
   "cell_type": "code",
   "execution_count": null,
   "metadata": {
    "collapsed": true
   },
   "outputs": [],
   "source": []
  },
  {
   "cell_type": "code",
   "execution_count": null,
   "metadata": {
    "collapsed": true
   },
   "outputs": [],
   "source": []
  },
  {
   "cell_type": "code",
   "execution_count": null,
   "metadata": {
    "collapsed": true
   },
   "outputs": [],
   "source": []
  },
  {
   "cell_type": "code",
   "execution_count": null,
   "metadata": {
    "collapsed": true
   },
   "outputs": [],
   "source": []
  },
  {
   "cell_type": "code",
   "execution_count": null,
   "metadata": {
    "collapsed": true
   },
   "outputs": [],
   "source": []
  },
  {
   "cell_type": "code",
   "execution_count": null,
   "metadata": {
    "collapsed": true
   },
   "outputs": [],
   "source": []
  },
  {
   "cell_type": "code",
   "execution_count": null,
   "metadata": {
    "collapsed": true
   },
   "outputs": [],
   "source": []
  },
  {
   "cell_type": "code",
   "execution_count": null,
   "metadata": {
    "collapsed": true
   },
   "outputs": [],
   "source": []
  },
  {
   "cell_type": "code",
   "execution_count": null,
   "metadata": {
    "collapsed": true
   },
   "outputs": [],
   "source": []
  },
  {
   "cell_type": "code",
   "execution_count": null,
   "metadata": {
    "collapsed": true
   },
   "outputs": [],
   "source": []
  }
 ],
 "metadata": {
  "kernelspec": {
   "display_name": "Python 2",
   "language": "python",
   "name": "python2"
  },
  "language_info": {
   "codemirror_mode": {
    "name": "ipython",
    "version": 2
   },
   "file_extension": ".py",
   "mimetype": "text/x-python",
   "name": "python",
   "nbconvert_exporter": "python",
   "pygments_lexer": "ipython2",
   "version": "2.7.14"
  }
 },
 "nbformat": 4,
 "nbformat_minor": 2
}
