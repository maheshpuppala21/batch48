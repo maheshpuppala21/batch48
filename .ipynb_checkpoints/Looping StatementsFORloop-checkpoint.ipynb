{
 "cells": [
  {
   "cell_type": "code",
   "execution_count": 1,
   "metadata": {},
   "outputs": [
    {
     "name": "stdout",
     "output_type": "stream",
     "text": [
      "looping\n"
     ]
    }
   ],
   "source": [
    "i=0\n",
    "while i<10:\n",
    "    print i\n",
    "    i=i+1   #inc/dec\n",
    "#s=\"python\"\n",
    "#for i=0; s[i]="
   ]
  },
  {
   "cell_type": "code",
   "execution_count": 2,
   "metadata": {},
   "outputs": [
    {
     "name": "stdout",
     "output_type": "stream",
     "text": [
      "p\n",
      "y\n",
      "t\n",
      "h\n",
      "o\n",
      "n\n"
     ]
    }
   ],
   "source": [
    "for i in \"python\":\n",
    "    print i"
   ]
  },
  {
   "cell_type": "code",
   "execution_count": 3,
   "metadata": {},
   "outputs": [
    {
     "name": "stdout",
     "output_type": "stream",
     "text": [
      "p\n",
      "y\n",
      "t\n",
      "h\n",
      "o\n",
      "n\n",
      "******************************\n",
      "p\n",
      "t\n",
      "y\n",
      "h\n",
      "o\n",
      "n\n"
     ]
    }
   ],
   "source": [
    "i=0\n",
    "s=\"python\"\n",
    "while i<len(s):\n",
    "    print s[i]\n",
    "    i=i+1\n",
    "print \"*\"*30   #this is for line only\n",
    "for i in \"ptyhon\":\n",
    "    print i"
   ]
  },
  {
   "cell_type": "code",
   "execution_count": 16,
   "metadata": {},
   "outputs": [
    {
     "name": "stdout",
     "output_type": "stream",
     "text": [
      "10\n",
      "20\n",
      "python\n",
      "-34.4\n",
      "-22\n",
      "None\n",
      "33\n"
     ]
    }
   ],
   "source": [
    "for i in [10,20,\"python\", -34.4, -22, None, 33]:\n",
    "    print i"
   ]
  },
  {
   "cell_type": "code",
   "execution_count": 6,
   "metadata": {},
   "outputs": [
    {
     "name": "stdout",
     "output_type": "stream",
     "text": [
      "<type 'str'> python\n",
      "<type 'float'> -34.4\n",
      "<type 'int'> 10\n",
      "<type 'int'> 20\n",
      "<type 'int'> -22\n"
     ]
    }
   ],
   "source": [
    "for i in {10,20,\"python\", -34.4, -22}:\n",
    "    print type(i),i"
   ]
  },
  {
   "cell_type": "code",
   "execution_count": 7,
   "metadata": {},
   "outputs": [
    {
     "name": "stdout",
     "output_type": "stream",
     "text": [
      "11\n",
      "1\n",
      "3\n",
      "5\n"
     ]
    }
   ],
   "source": [
    "for i in {1:2, 3:4, 5:6, 11:34}:\n",
    "    print i"
   ]
  },
  {
   "cell_type": "code",
   "execution_count": 12,
   "metadata": {},
   "outputs": [
    {
     "ename": "TypeError",
     "evalue": "'int' object is not iterable",
     "output_type": "error",
     "traceback": [
      "\u001b[1;31m---------------------------------------------------------------------------\u001b[0m",
      "\u001b[1;31mTypeError\u001b[0m                                 Traceback (most recent call last)",
      "\u001b[1;32m<ipython-input-12-d6ed9fd248f3>\u001b[0m in \u001b[0;36m<module>\u001b[1;34m()\u001b[0m\n\u001b[0;32m     15\u001b[0m \u001b[1;33m\u001b[0m\u001b[0m\n\u001b[0;32m     16\u001b[0m \u001b[0mit\u001b[0m\u001b[1;33m=\u001b[0m\u001b[1;36m10\u001b[0m\u001b[1;33m\u001b[0m\u001b[0m\n\u001b[1;32m---> 17\u001b[1;33m \u001b[1;32mfor\u001b[0m \u001b[0mi\u001b[0m \u001b[1;32min\u001b[0m \u001b[0mit\u001b[0m\u001b[1;33m:\u001b[0m\u001b[1;33m\u001b[0m\u001b[0m\n\u001b[0m\u001b[0;32m     18\u001b[0m     \u001b[1;32mprint\u001b[0m \u001b[0mi\u001b[0m\u001b[1;33m\u001b[0m\u001b[0m\n\u001b[0;32m     19\u001b[0m \u001b[1;33m\u001b[0m\u001b[0m\n",
      "\u001b[1;31mTypeError\u001b[0m: 'int' object is not iterable"
     ]
    }
   ],
   "source": [
    "\"\"\"\"\n",
    "##Non sequence \n",
    "it=10\n",
    "f=12.34\n",
    "c=1+2j\n",
    "b=True\n",
    "b=False\n",
    "n=None\n",
    "##Sequence -- the datatype that contains __iter__ method \n",
    "st=\"python\"\n",
    "t=(1,2,3,4)\n",
    "s={1,2,3,4,5}\n",
    "l=[20,30,-40.5, \"python\", None, 34]\n",
    "d={101:10, 102:20, 103:30, 104:40}\n",
    "s=\"2304334\"\n",
    "\"\"\"\"\"\n",
    "\n",
    "it=10\n",
    "for i in it:\n",
    "    print i\n",
    "    \n",
    "    \n",
    "    "
   ]
  },
  {
   "cell_type": "code",
   "execution_count": 18,
   "metadata": {},
   "outputs": [
    {
     "ename": "TypeError",
     "evalue": "'int' object is not iterable",
     "output_type": "error",
     "traceback": [
      "\u001b[1;31m---------------------------------------------------------------------------\u001b[0m",
      "\u001b[1;31mTypeError\u001b[0m                                 Traceback (most recent call last)",
      "\u001b[1;32m<ipython-input-18-1b3d834b99bf>\u001b[0m in \u001b[0;36m<module>\u001b[1;34m()\u001b[0m\n\u001b[0;32m      1\u001b[0m \u001b[0ms\u001b[0m\u001b[1;33m=\u001b[0m\u001b[1;36m10\u001b[0m\u001b[1;33m\u001b[0m\u001b[0m\n\u001b[1;32m----> 2\u001b[1;33m \u001b[1;32mfor\u001b[0m \u001b[0mi\u001b[0m \u001b[1;32min\u001b[0m \u001b[0ms\u001b[0m\u001b[1;33m:\u001b[0m\u001b[1;33m\u001b[0m\u001b[0m\n\u001b[0m\u001b[0;32m      3\u001b[0m     \u001b[1;32mprint\u001b[0m \u001b[0mi\u001b[0m\u001b[1;33m\u001b[0m\u001b[0m\n",
      "\u001b[1;31mTypeError\u001b[0m: 'int' object is not iterable"
     ]
    }
   ],
   "source": [
    "s=10\n",
    "for i in s:\n",
    "    print i"
   ]
  },
  {
   "cell_type": "code",
   "execution_count": null,
   "metadata": {
    "collapsed": true
   },
   "outputs": [],
   "source": []
  },
  {
   "cell_type": "code",
   "execution_count": null,
   "metadata": {
    "collapsed": true
   },
   "outputs": [],
   "source": []
  },
  {
   "cell_type": "code",
   "execution_count": 13,
   "metadata": {},
   "outputs": [
    {
     "ename": "TypeError",
     "evalue": "'NoneType' object is not iterable",
     "output_type": "error",
     "traceback": [
      "\u001b[1;31m---------------------------------------------------------------------------\u001b[0m",
      "\u001b[1;31mTypeError\u001b[0m                                 Traceback (most recent call last)",
      "\u001b[1;32m<ipython-input-13-f04db2324185>\u001b[0m in \u001b[0;36m<module>\u001b[1;34m()\u001b[0m\n\u001b[0;32m      1\u001b[0m \u001b[0mit\u001b[0m\u001b[1;33m=\u001b[0m\u001b[0mNone\u001b[0m\u001b[1;33m\u001b[0m\u001b[0m\n\u001b[1;32m----> 2\u001b[1;33m \u001b[1;32mfor\u001b[0m \u001b[0mi\u001b[0m \u001b[1;32min\u001b[0m \u001b[0mit\u001b[0m\u001b[1;33m:\u001b[0m\u001b[1;33m\u001b[0m\u001b[0m\n\u001b[0m\u001b[0;32m      3\u001b[0m     \u001b[1;32mprint\u001b[0m \u001b[0mi\u001b[0m\u001b[1;33m\u001b[0m\u001b[0m\n",
      "\u001b[1;31mTypeError\u001b[0m: 'NoneType' object is not iterable"
     ]
    }
   ],
   "source": [
    "it=None\n",
    "for i in it:\n",
    "    print i"
   ]
  },
  {
   "cell_type": "code",
   "execution_count": 14,
   "metadata": {},
   "outputs": [
    {
     "ename": "TypeError",
     "evalue": "'bool' object is not iterable",
     "output_type": "error",
     "traceback": [
      "\u001b[1;31m---------------------------------------------------------------------------\u001b[0m",
      "\u001b[1;31mTypeError\u001b[0m                                 Traceback (most recent call last)",
      "\u001b[1;32m<ipython-input-14-a31ad357f7a8>\u001b[0m in \u001b[0;36m<module>\u001b[1;34m()\u001b[0m\n\u001b[0;32m      1\u001b[0m \u001b[0mit\u001b[0m\u001b[1;33m=\u001b[0m\u001b[0mTrue\u001b[0m\u001b[1;33m\u001b[0m\u001b[0m\n\u001b[1;32m----> 2\u001b[1;33m \u001b[1;32mfor\u001b[0m \u001b[0mi\u001b[0m \u001b[1;32min\u001b[0m \u001b[0mit\u001b[0m\u001b[1;33m:\u001b[0m\u001b[1;33m\u001b[0m\u001b[0m\n\u001b[0m\u001b[0;32m      3\u001b[0m     \u001b[1;32mprint\u001b[0m \u001b[0mi\u001b[0m\u001b[1;33m\u001b[0m\u001b[0m\n",
      "\u001b[1;31mTypeError\u001b[0m: 'bool' object is not iterable"
     ]
    }
   ],
   "source": [
    "it=True\n",
    "for i in it:\n",
    "    print i"
   ]
  },
  {
   "cell_type": "code",
   "execution_count": 15,
   "metadata": {},
   "outputs": [
    {
     "ename": "SyntaxError",
     "evalue": "invalid syntax (<ipython-input-15-f1aed2f93397>, line 2)",
     "output_type": "error",
     "traceback": [
      "\u001b[1;36m  File \u001b[1;32m\"<ipython-input-15-f1aed2f93397>\"\u001b[1;36m, line \u001b[1;32m2\u001b[0m\n\u001b[1;33m    for in in l:\u001b[0m\n\u001b[1;37m         ^\u001b[0m\n\u001b[1;31mSyntaxError\u001b[0m\u001b[1;31m:\u001b[0m invalid syntax\n"
     ]
    }
   ],
   "source": [
    "l=[20,30,-40.5, \"python\", None, 34]\n",
    "for in in l:\n",
    "    print i"
   ]
  },
  {
   "cell_type": "code",
   "execution_count": 17,
   "metadata": {},
   "outputs": [
    {
     "name": "stdout",
     "output_type": "stream",
     "text": [
      "10\n",
      "20\n",
      "python\n",
      "-34.4\n",
      "-22\n",
      "None\n",
      "33\n"
     ]
    }
   ],
   "source": [
    "for i in [10,20,\"python\", -34.4, -22, None, 33]:\n",
    "    print i"
   ]
  },
  {
   "cell_type": "code",
   "execution_count": null,
   "metadata": {
    "collapsed": true
   },
   "outputs": [],
   "source": [
    "for i in {10,20,\"python\", -34.4, -22, None, 33}:\n",
    "    print i"
   ]
  },
  {
   "cell_type": "code",
   "execution_count": 20,
   "metadata": {},
   "outputs": [
    {
     "name": "stdout",
     "output_type": "stream",
     "text": [
      "10\n",
      "20\n",
      "30\n",
      "40\n"
     ]
    }
   ],
   "source": [
    "#to know whether 20 is present in list or not\n",
    "l=[10,20,30,40]\n",
    "for i in l:\n",
    "    print i\n",
    "        "
   ]
  },
  {
   "cell_type": "code",
   "execution_count": 21,
   "metadata": {},
   "outputs": [
    {
     "name": "stdout",
     "output_type": "stream",
     "text": [
      "element not found\n",
      "element found\n",
      "element not found\n",
      "element not found\n"
     ]
    }
   ],
   "source": [
    "#to know whether 20 is present in list or not\n",
    "l=[10,20,30,40]\n",
    "i=20\n",
    "for k in l:\n",
    "    if k==i:\n",
    "        print \"element found\"\n",
    "    else:\n",
    "        print \"element not found\"\n",
    "        "
   ]
  },
  {
   "cell_type": "code",
   "execution_count": 25,
   "metadata": {},
   "outputs": [
    {
     "name": "stdout",
     "output_type": "stream",
     "text": [
      "Element found 20\n"
     ]
    }
   ],
   "source": [
    "#to know whether 20 is present in list or not\n",
    "l=[10,20,30,40]\n",
    "#i=20\n",
    "for i in l:\n",
    "    if i==20:\n",
    "        print \"Element found\",i\n",
    "        "
   ]
  },
  {
   "cell_type": "code",
   "execution_count": 28,
   "metadata": {},
   "outputs": [
    {
     "name": "stdout",
     "output_type": "stream",
     "text": [
      "Element found 20\n"
     ]
    }
   ],
   "source": [
    "#to know whether 20 is present in list or not\n",
    "l=[10,20,30,40]\n",
    "#i=20\n",
    "for i in l:\n",
    "    if i==20:\n",
    "        print \"Element found\",i\n",
    "        \n",
    "        "
   ]
  },
  {
   "cell_type": "code",
   "execution_count": 30,
   "metadata": {},
   "outputs": [
    {
     "name": "stdout",
     "output_type": "stream",
     "text": [
      "Element not found 20\n",
      "Element found 20\n",
      "Element not found 20\n",
      "Element not found 20\n"
     ]
    }
   ],
   "source": [
    "#to know whether 20 is present in list or not\n",
    "l=[10,20,30,40]\n",
    "i=20\n",
    "for k in l:\n",
    "    if k==i:\n",
    "        print \"Element found\",i\n",
    "    else:\n",
    "        print \"Element not found\"\n",
    "    \n",
    "        \n",
    "        "
   ]
  },
  {
   "cell_type": "code",
   "execution_count": 32,
   "metadata": {},
   "outputs": [
    {
     "name": "stdout",
     "output_type": "stream",
     "text": [
      "enter the element to serach: 500\n",
      "element not found\n"
     ]
    }
   ],
   "source": [
    "l=[100,20,30,40,60,80,404,44,43]\n",
    "cnt=0\n",
    "i=int(raw_input(\"enter the element to serach: \"))\n",
    "for k in l:\n",
    "    if k==i:\n",
    "        cnt=cnt+1\n",
    "if cnt==0:\n",
    "    print \"element not found\"\n",
    "else:\n",
    "    print \"element found\""
   ]
  },
  {
   "cell_type": "code",
   "execution_count": 37,
   "metadata": {},
   "outputs": [
    {
     "name": "stdout",
     "output_type": "stream",
     "text": [
      "enter the element to serach: 30\n",
      "cnt: 2\n",
      "element found\n"
     ]
    }
   ],
   "source": [
    "##to know whether element found in the list or not and how many times it occured\n",
    "l=[100,20,30,40,60,80,30,404,44,43]\n",
    "cnt=0\n",
    "i=int(raw_input(\"enter the element to serach: \"))\n",
    "for k in l:\n",
    "    if k==i:\n",
    "        cnt=cnt+1\n",
    "if cnt==0:\n",
    "    print \"cnt:\",cnt\n",
    "    print \"element not found\"\n",
    "else:\n",
    "    print \"cnt:\",cnt\n",
    "    print \"element found\""
   ]
  },
  {
   "cell_type": "code",
   "execution_count": 38,
   "metadata": {},
   "outputs": [
    {
     "name": "stdout",
     "output_type": "stream",
     "text": [
      "element found:\n"
     ]
    }
   ],
   "source": [
    "l=[100,20,30,40,60,80,30,404,44,43]\n",
    "if 30 in l:\n",
    "    print \"element found\"\n",
    "else:\n",
    "    print \"element not found\""
   ]
  },
  {
   "cell_type": "code",
   "execution_count": 39,
   "metadata": {},
   "outputs": [
    {
     "name": "stdout",
     "output_type": "stream",
     "text": [
      "enter element to search: 30\n",
      "element not found\n"
     ]
    }
   ],
   "source": [
    "l=[100,20,30,40,60,80,30,404,44,43]\n",
    "elmnt=raw_input(\"enter element to search: \")\n",
    "if elmnt in l:\n",
    "    print \"element found\"\n",
    "else:\n",
    "    print \"element not found\""
   ]
  },
  {
   "cell_type": "code",
   "execution_count": 46,
   "metadata": {},
   "outputs": [
    {
     "ename": "NameError",
     "evalue": "name 'a' is not defined",
     "output_type": "error",
     "traceback": [
      "\u001b[1;31m---------------------------------------------------------------------------\u001b[0m",
      "\u001b[1;31mNameError\u001b[0m                                 Traceback (most recent call last)",
      "\u001b[1;32m<ipython-input-46-03b48d178f0b>\u001b[0m in \u001b[0;36m<module>\u001b[1;34m()\u001b[0m\n\u001b[0;32m      2\u001b[0m \u001b[1;31m## s=\"python is a pure object oriented programming language\"\u001b[0m\u001b[1;33m\u001b[0m\u001b[1;33m\u001b[0m\u001b[0m\n\u001b[0;32m      3\u001b[0m \u001b[0ms\u001b[0m\u001b[1;33m=\u001b[0m\u001b[1;34m\"python is a pure object oriented programming language\"\u001b[0m\u001b[1;33m\u001b[0m\u001b[0m\n\u001b[1;32m----> 4\u001b[1;33m \u001b[0ml\u001b[0m\u001b[1;33m=\u001b[0m\u001b[1;33m[\u001b[0m\u001b[0ma\u001b[0m\u001b[1;33m,\u001b[0m\u001b[0me\u001b[0m\u001b[1;33m,\u001b[0m\u001b[0mi\u001b[0m\u001b[1;33m,\u001b[0m\u001b[0mo\u001b[0m\u001b[1;33m,\u001b[0m\u001b[0mu\u001b[0m\u001b[1;33m]\u001b[0m\u001b[1;33m\u001b[0m\u001b[0m\n\u001b[0m\u001b[0;32m      5\u001b[0m \u001b[0mcnt\u001b[0m\u001b[1;33m=\u001b[0m\u001b[1;36m0\u001b[0m\u001b[1;33m\u001b[0m\u001b[0m\n\u001b[0;32m      6\u001b[0m \u001b[1;32mfor\u001b[0m \u001b[0mi\u001b[0m \u001b[1;32min\u001b[0m \u001b[0ms\u001b[0m\u001b[1;33m:\u001b[0m\u001b[1;33m\u001b[0m\u001b[0m\n",
      "\u001b[1;31mNameError\u001b[0m: name 'a' is not defined"
     ]
    }
   ],
   "source": [
    "##to find out how many owels are there in given string (a,e,i,o,u)\n",
    "## s=\"python is a pure object oriented programming language\"\n",
    "s=\"python is a pure object oriented programming language\"\n",
    "l=[a,e,i,o,u]\n",
    "cnt=0\n",
    "for i in s:\n",
    "    if i==\"a\" or i==\"e\" or i==\"i\" or i==\"0\" or i==\"u\":\n",
    "        cnt=cnt+1\n",
    "print \"the number of vowels present in:\",cnt"
   ]
  },
  {
   "cell_type": "code",
   "execution_count": 47,
   "metadata": {},
   "outputs": [
    {
     "name": "stdout",
     "output_type": "stream",
     "text": [
      "20\n",
      "4\n",
      "3\n",
      "5\n",
      "6\n",
      "56\n",
      "100\n",
      "34\n"
     ]
    }
   ],
   "source": [
    "##take a list and find out how many even number or there\n",
    "l=[20,4,3,5,6,56,100, 34]\n",
    "for i in l:\n",
    "    print i"
   ]
  },
  {
   "cell_type": "code",
   "execution_count": 48,
   "metadata": {},
   "outputs": [
    {
     "name": "stdout",
     "output_type": "stream",
     "text": [
      "the even number count: 6\n"
     ]
    }
   ],
   "source": [
    "##take a list and find out how many even numbers or there, need to get count .\n",
    "l=[20,4,3,5,6,56,100, 34]\n",
    "cnt=0\n",
    "for i in l:\n",
    "    if i%2==0:             #the % will give remainder\n",
    "        cnt=cnt+1\n",
    "print \"the even number count:\",cnt"
   ]
  },
  {
   "cell_type": "code",
   "execution_count": 51,
   "metadata": {},
   "outputs": [
    {
     "name": "stdout",
     "output_type": "stream",
     "text": [
      "the number of vowels present in: 14\n"
     ]
    }
   ],
   "source": [
    "##to find out how many owels are there in given string (a,e,i,o,u)\n",
    "## s=\"python is a pure object oriented programming language\"\n",
    "s=\"python is a pure object oriented programming language\"\n",
    "#l=[a,e,i,o,u]\n",
    "cnt=0\n",
    "for i in s:\n",
    "    if i==\"a\" or i==\"e\" or i==\"i\" or i==\"0\" or i==\"u\":\n",
    "        cnt=cnt+1\n",
    "print \"the number of vowels present in:\",cnt"
   ]
  },
  {
   "cell_type": "code",
   "execution_count": 59,
   "metadata": {},
   "outputs": [
    {
     "name": "stdout",
     "output_type": "stream",
     "text": [
      "the number of vowels present in: 14\n"
     ]
    }
   ],
   "source": [
    "##to find out how many owels are there in given string (a,e,i,o,u)\n",
    "## s=\"python is a pure object oriented programming language\"\n",
    "s=\"python is a pure object oriented programming language\"\n",
    "#l=[a,e,i,o,u]\n",
    "cnt=0\n",
    "for k in s:\n",
    "    if k==\"a\" or k==\"e\" or k==\"i\" or k==\"0\" or k==\"u\":\n",
    "        cnt=cnt+1\n",
    "print \"the number of vowels present in:\",cnt"
   ]
  },
  {
   "cell_type": "code",
   "execution_count": 55,
   "metadata": {},
   "outputs": [
    {
     "name": "stdout",
     "output_type": "stream",
     "text": [
      "49\n"
     ]
    }
   ],
   "source": [
    "print ord(\"1\")"
   ]
  },
  {
   "cell_type": "code",
   "execution_count": 56,
   "metadata": {},
   "outputs": [
    {
     "name": "stdout",
     "output_type": "stream",
     "text": [
      "57\n"
     ]
    }
   ],
   "source": [
    "print ord(\"9\")"
   ]
  },
  {
   "cell_type": "code",
   "execution_count": 57,
   "metadata": {},
   "outputs": [
    {
     "name": "stdout",
     "output_type": "stream",
     "text": [
      "97\n"
     ]
    }
   ],
   "source": [
    "print ord(\"a\")"
   ]
  },
  {
   "cell_type": "code",
   "execution_count": 58,
   "metadata": {},
   "outputs": [
    {
     "name": "stdout",
     "output_type": "stream",
     "text": [
      "122\n"
     ]
    }
   ],
   "source": [
    "print ord(\"z\")"
   ]
  },
  {
   "cell_type": "code",
   "execution_count": 62,
   "metadata": {},
   "outputs": [
    {
     "name": "stdout",
     "output_type": "stream",
     "text": [
      "the number of vowels present in: 14\n"
     ]
    }
   ],
   "source": [
    "##to find out how many owels are there in given string (a,e,i,o,u)\n",
    "## s=\"python is a pure object oriented programming language\"\n",
    "s=\"python is a pure object oriented programming language\"\n",
    "#l=[a,e,i,o,u]\n",
    "cnt=0\n",
    "for k in s:\n",
    "    if k==\"a\" or k==\"e\" or k==\"i\" or k==\"0\" or k==\"u\":\n",
    "        cnt=cnt+1\n",
    "print \"the number of vowels present in:\",cnt"
   ]
  },
  {
   "cell_type": "code",
   "execution_count": null,
   "metadata": {
    "collapsed": true
   },
   "outputs": [],
   "source": []
  }
 ],
 "metadata": {
  "kernelspec": {
   "display_name": "Python 2",
   "language": "python",
   "name": "python2"
  },
  "language_info": {
   "codemirror_mode": {
    "name": "ipython",
    "version": 2
   },
   "file_extension": ".py",
   "mimetype": "text/x-python",
   "name": "python",
   "nbconvert_exporter": "python",
   "pygments_lexer": "ipython2",
   "version": "2.7.14"
  }
 },
 "nbformat": 4,
 "nbformat_minor": 2
}
