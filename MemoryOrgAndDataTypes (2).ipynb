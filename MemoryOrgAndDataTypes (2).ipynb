{
 "cells": [
  {
   "cell_type": "code",
   "execution_count": 2,
   "metadata": {},
   "outputs": [
    {
     "name": "stdout",
     "output_type": "stream",
     "text": [
      "1000\n",
      "2000\n",
      "1000\n"
     ]
    }
   ],
   "source": [
    "a=1000\n",
    "b=2000\n",
    "c=a\n",
    "print a\n",
    "print b\n",
    "print c"
   ]
  },
  {
   "cell_type": "code",
   "execution_count": 3,
   "metadata": {},
   "outputs": [
    {
     "name": "stdout",
     "output_type": "stream",
     "text": [
      "1000 64702720\n",
      "2000 64702768\n",
      "1000 64702720\n"
     ]
    }
   ],
   "source": [
    "a=1000\n",
    "b=2000\n",
    "c=a\n",
    "print a, id(a)\n",
    "print b, id(b)\n",
    "print c, id(c)"
   ]
  },
  {
   "cell_type": "code",
   "execution_count": 4,
   "metadata": {},
   "outputs": [
    {
     "name": "stdout",
     "output_type": "stream",
     "text": [
      "4000 64702744\n",
      "2000 64702864\n",
      "1000 64702792\n"
     ]
    }
   ],
   "source": [
    "a=1000\n",
    "b=2000\n",
    "c=a\n",
    "a=4000\n",
    "print a, id(a)\n",
    "print b, id(b)\n",
    "print c, id(c)"
   ]
  },
  {
   "cell_type": "code",
   "execution_count": 5,
   "metadata": {},
   "outputs": [
    {
     "name": "stdout",
     "output_type": "stream",
     "text": [
      "4000 64702672\n",
      "2000 64702624\n",
      "5000 64702888\n",
      "1000 64703056\n"
     ]
    }
   ],
   "source": [
    "a=1000\n",
    "b=2000\n",
    "c=a\n",
    "a=4000\n",
    "c=5000\n",
    "d=1000\n",
    "print a, id(a)\n",
    "print b, id(b)\n",
    "print c, id(c)\n",
    "print d, id(d)"
   ]
  },
  {
   "cell_type": "code",
   "execution_count": 6,
   "metadata": {},
   "outputs": [
    {
     "name": "stdout",
     "output_type": "stream",
     "text": [
      "97736048 python program\n",
      "97736048 python program\n",
      "97736096 python program\n"
     ]
    }
   ],
   "source": [
    "s1=\"python program\"\n",
    "s2=\"c program\"\n",
    "s3=s1\n",
    "s4=\"python program\"\n",
    "print  id(s1),s1\n",
    "print id(s3),s3\n",
    "print id(s4),s4"
   ]
  },
  {
   "cell_type": "code",
   "execution_count": 7,
   "metadata": {},
   "outputs": [
    {
     "name": "stdout",
     "output_type": "stream",
     "text": [
      "p 31478648\n",
      "p 31478648\n",
      "p 31478648\n",
      "p 31478648\n"
     ]
    }
   ],
   "source": [
    "s1=\"python program\"\n",
    "s2=\"c program\"\n",
    "s3=s1\n",
    "s4=\"python program\"\n",
    "print s1[0], id(s1[0])\n",
    "print s2[2], id(s2[2])\n",
    "print s4[0], id(s4[0])\n",
    "print s3[0], id(s3[0])\n"
   ]
  },
  {
   "cell_type": "code",
   "execution_count": 9,
   "metadata": {},
   "outputs": [
    {
     "name": "stdout",
     "output_type": "stream",
     "text": [
      "1000 <type 'int'>\n",
      "12.341 <type 'float'>\n",
      "(1+2j) <type 'complex'>\n",
      "str1 <type 'str'>\n",
      "True <type 'bool'>\n",
      "False <type 'bool'>\n",
      "None <type 'NoneType'>\n",
      "[1, 2, 3, 'str1', 12.34, (1+2j), [10, 20, 30]] <type 'list'>\n",
      "(1, 2, 3, 'str1', 12.34, (1+2j), [10, 20, 30]) <type 'tuple'>\n",
      "set([1, 2, 3, 4, 5, 6, 7]) <type 'set'>\n",
      "{1: 2, 1.2: 3.4, 'name': 'anil', (1, 2, 3, 4): 'tuple'} <type 'dict'>\n",
      "[1 2 3 4 5 6] <type 'numpy.ndarray'>\n",
      "   id   name\n",
      "0   1   anil\n",
      "1   2  Rajes <class 'pandas.core.frame.DataFrame'>\n"
     ]
    }
   ],
   "source": [
    "#Primitive DataTypes\n",
    "a=1000\n",
    "b=12.341\n",
    "c=1+2j\n",
    "d=\"str1\"\n",
    "e=True\n",
    "f=False\n",
    "g=None\n",
    "#Data Structures DataTypes\n",
    "h=[1,2,3,\"str1\",12.34,1+2j,[10,20,30]]\n",
    "i=(1,2,3,\"str1\",12.34,1+2j,[10,20,30])\n",
    "j={1,2,3,4,5,6,7}\n",
    "k={1:2,\"name\":\"anil\", 1.2:3.4,(1,2,3,4):\"tuple\"}\n",
    "#Third Party DataTypes\n",
    "import numpy as np\n",
    "import pandas as pd\n",
    "ar1=np.array([1,2,3,4,5,6])\n",
    "df=pd.DataFrame([{\"id\":1,\"name\":\"anil\"},{\"id\":2,\"name\":\"Rajes\"}])\n",
    "print a, type(a)\n",
    "print b, type(b)\n",
    "print c, type(c)\n",
    "print d, type(d)\n",
    "print e, type(e)\n",
    "print f, type(f)\n",
    "print g, type(g)\n",
    "print h, type(h)\n",
    "print i, type(i)\n",
    "print j, type(j)\n",
    "print k, type(k)\n",
    "print ar1, type(ar1)\n",
    "print df, type(df)"
   ]
  },
  {
   "cell_type": "code",
   "execution_count": 10,
   "metadata": {},
   "outputs": [
    {
     "name": "stdout",
     "output_type": "stream",
     "text": [
      "10 <type 'int'>\n",
      "8 <type 'int'>\n",
      "16 <type 'int'>\n",
      "8 <type 'int'>\n",
      "21 <type 'int'>\n"
     ]
    }
   ],
   "source": [
    "#type of integers change to octal, hexa, binary by default it takes octal\n",
    "a=10\n",
    "b=010\n",
    "c=0x10\n",
    "d=0o10\n",
    "e=0b010101\n",
    "print a, type(a)\n",
    "print b, type(b)\n",
    "print c, type(c)\n",
    "print d, type(d)\n",
    "print e, type(e)"
   ]
  },
  {
   "cell_type": "code",
   "execution_count": 11,
   "metadata": {},
   "outputs": [
    {
     "name": "stdout",
     "output_type": "stream",
     "text": [
      "3000\n",
      "-1000\n",
      "2000000\n",
      "0\n",
      "False\n",
      "False\n",
      "False\n",
      "True\n",
      "True\n",
      "True\n",
      "960\n",
      "2040\n",
      "1080\n"
     ]
    }
   ],
   "source": [
    "a=1000\n",
    "b=2000\n",
    "#Arithmatic Operations\n",
    "print a+b\n",
    "print a-b\n",
    "print a*b\n",
    "print a/b\n",
    "#boolean operations\n",
    "print a>b\n",
    "print a>=b\n",
    "print a==b\n",
    "print a!=b\n",
    "print a<b\n",
    "print a<=b\n",
    "#bitwise operations\n",
    "print a&b\n",
    "print a|b\n",
    "print a^b\n"
   ]
  },
  {
   "cell_type": "code",
   "execution_count": 2,
   "metadata": {},
   "outputs": [
    {
     "name": "stdout",
     "output_type": "stream",
     "text": [
      "8\n"
     ]
    }
   ],
   "source": [
    "b=010\n",
    "print b"
   ]
  },
  {
   "cell_type": "code",
   "execution_count": null,
   "metadata": {
    "collapsed": true
   },
   "outputs": [],
   "source": []
  },
  {
   "cell_type": "code",
   "execution_count": null,
   "metadata": {
    "collapsed": true
   },
   "outputs": [],
   "source": []
  },
  {
   "cell_type": "code",
   "execution_count": null,
   "metadata": {
    "collapsed": true
   },
   "outputs": [],
   "source": []
  },
  {
   "cell_type": "code",
   "execution_count": null,
   "metadata": {
    "collapsed": true
   },
   "outputs": [],
   "source": []
  }
 ],
 "metadata": {
  "kernelspec": {
   "display_name": "Python 2",
   "language": "python",
   "name": "python2"
  },
  "language_info": {
   "codemirror_mode": {
    "name": "ipython",
    "version": 2
   },
   "file_extension": ".py",
   "mimetype": "text/x-python",
   "name": "python",
   "nbconvert_exporter": "python",
   "pygments_lexer": "ipython2",
   "version": "2.7.14"
  }
 },
 "nbformat": 4,
 "nbformat_minor": 2
}
