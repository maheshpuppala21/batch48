{
 "cells": [
  {
   "cell_type": "code",
   "execution_count": null,
   "metadata": {
    "collapsed": true
   },
   "outputs": [],
   "source": [
    "#return self.__dict__   #it will give all attribute and values of method"
   ]
  },
  {
   "cell_type": "code",
   "execution_count": 2,
   "metadata": {},
   "outputs": [],
   "source": [
    "class Emp:\n",
    "    def fun(self):\n",
    "        print \"this is fun\"\n",
    "    #def __init__(self):\n",
    "      #print \"this is init\"\n",
    "    def fun1(self):\n",
    "        print \"this if fun1\"\n",
    "e1=Emp()"
   ]
  },
  {
   "cell_type": "code",
   "execution_count": 3,
   "metadata": {},
   "outputs": [
    {
     "name": "stdout",
     "output_type": "stream",
     "text": [
      "this is init\n"
     ]
    }
   ],
   "source": [
    "class Emp:\n",
    "    def fun(self):\n",
    "        print \"this is fun\"\n",
    "    def __init__(self):\n",
    "        print \"this is init\"\n",
    "    def fun1(self):\n",
    "        print \"this if fun1\"\n",
    "e1=Emp()"
   ]
  },
  {
   "cell_type": "code",
   "execution_count": 4,
   "metadata": {},
   "outputs": [
    {
     "name": "stdout",
     "output_type": "stream",
     "text": [
      "this is init\n",
      "this is init\n",
      "this is init\n"
     ]
    }
   ],
   "source": [
    "class Emp:\n",
    "    def fun(self):\n",
    "        print \"this is fun\"\n",
    "    def __init__(self):\n",
    "        print \"this is init\"\n",
    "    def fun1(self):\n",
    "        print \"this if fun1\"\n",
    "e1=Emp()\n",
    "e2=Emp()\n",
    "e3=Emp()"
   ]
  },
  {
   "cell_type": "code",
   "execution_count": 5,
   "metadata": {},
   "outputs": [
    {
     "ename": "TypeError",
     "evalue": "__init__() takes exactly 3 arguments (1 given)",
     "output_type": "error",
     "traceback": [
      "\u001b[1;31m---------------------------------------------------------------------------\u001b[0m",
      "\u001b[1;31mTypeError\u001b[0m                                 Traceback (most recent call last)",
      "\u001b[1;32m<ipython-input-5-5853f81ed79c>\u001b[0m in \u001b[0;36m<module>\u001b[1;34m()\u001b[0m\n\u001b[0;32m      8\u001b[0m     \u001b[1;32mdef\u001b[0m \u001b[0mfun1\u001b[0m\u001b[1;33m(\u001b[0m\u001b[0mself\u001b[0m\u001b[1;33m)\u001b[0m\u001b[1;33m:\u001b[0m\u001b[1;33m\u001b[0m\u001b[0m\n\u001b[0;32m      9\u001b[0m         \u001b[1;32mprint\u001b[0m \u001b[1;34m\"this if fun1\"\u001b[0m\u001b[1;33m\u001b[0m\u001b[0m\n\u001b[1;32m---> 10\u001b[1;33m \u001b[0me1\u001b[0m\u001b[1;33m=\u001b[0m\u001b[0mEmp\u001b[0m\u001b[1;33m(\u001b[0m\u001b[1;33m)\u001b[0m\u001b[1;33m\u001b[0m\u001b[0m\n\u001b[0m",
      "\u001b[1;31mTypeError\u001b[0m: __init__() takes exactly 3 arguments (1 given)"
     ]
    }
   ],
   "source": [
    "class Emp:\n",
    "    def fun(self):\n",
    "        print \"this is fun\"\n",
    "    def __init__(self,name,age):\n",
    "        print \"this is init\"\n",
    "        self.name=name\n",
    "        self.age=age\n",
    "    def fun1(self):\n",
    "        print \"this if fun1\"\n",
    "e1=Emp()"
   ]
  },
  {
   "cell_type": "code",
   "execution_count": 7,
   "metadata": {},
   "outputs": [
    {
     "name": "stdout",
     "output_type": "stream",
     "text": [
      "this is init\n"
     ]
    }
   ],
   "source": [
    "class Emp:\n",
    "    def fun(self):\n",
    "        print \"this is fun\"\n",
    "    def __init__(self,name,age):\n",
    "        print \"this is init\"\n",
    "        self.name=name\n",
    "        self.age=age\n",
    "    def fun1(self):\n",
    "        print \"this if fun1\"\n",
    "e1=Emp(\"anil\",31)"
   ]
  },
  {
   "cell_type": "code",
   "execution_count": 8,
   "metadata": {},
   "outputs": [
    {
     "name": "stdout",
     "output_type": "stream",
     "text": [
      "this is init\n"
     ]
    }
   ],
   "source": [
    "class Emp:\n",
    "    def fun(self):\n",
    "        print \"this is fun\"\n",
    "    def __init__(self,name,age):\n",
    "        print \"this is init\"\n",
    "        self.name=name\n",
    "        self.age=age\n",
    "        return \n",
    "    def fun1(self):\n",
    "        print \"this if fun1\"\n",
    "e1=Emp(\"anil\",30)"
   ]
  },
  {
   "cell_type": "code",
   "execution_count": 9,
   "metadata": {},
   "outputs": [
    {
     "name": "stdout",
     "output_type": "stream",
     "text": [
      "<__main__.Emp instance at 0x0000000005C5A948>\n"
     ]
    }
   ],
   "source": [
    "try:\n",
    "    class Emp:\n",
    "        def fun(self):\n",
    "            print \"this is fun\"\n",
    "        def __init__(self,name,age):\n",
    "            print \"this is init\"\n",
    "            self.name=name\n",
    "            self.age=age\n",
    "            return \n",
    "        def fun1(self):\n",
    "            print \"this if fun1\"\n",
    "        e1=Emp()\n",
    "\n",
    "except:\n",
    "    print e1"
   ]
  },
  {
   "cell_type": "code",
   "execution_count": 10,
   "metadata": {},
   "outputs": [
    {
     "name": "stdout",
     "output_type": "stream",
     "text": [
      "20\n"
     ]
    }
   ],
   "source": [
    "class c1:\n",
    "    def fun(a,self):\n",
    "        print self\n",
    "o1=c1()\n",
    "o1.fun(20)"
   ]
  },
  {
   "cell_type": "code",
   "execution_count": 11,
   "metadata": {},
   "outputs": [
    {
     "ename": "TypeError",
     "evalue": "this constructor takes no arguments",
     "output_type": "error",
     "traceback": [
      "\u001b[1;31m---------------------------------------------------------------------------\u001b[0m",
      "\u001b[1;31mTypeError\u001b[0m                                 Traceback (most recent call last)",
      "\u001b[1;32m<ipython-input-11-ecda5f56c45e>\u001b[0m in \u001b[0;36m<module>\u001b[1;34m()\u001b[0m\n\u001b[0;32m      9\u001b[0m     \u001b[1;32mdef\u001b[0m \u001b[0mfun1\u001b[0m\u001b[1;33m(\u001b[0m\u001b[0mself\u001b[0m\u001b[1;33m)\u001b[0m\u001b[1;33m:\u001b[0m\u001b[1;33m\u001b[0m\u001b[0m\n\u001b[0;32m     10\u001b[0m         \u001b[1;32mprint\u001b[0m \u001b[1;34m\"this if fun1\"\u001b[0m\u001b[1;33m\u001b[0m\u001b[0m\n\u001b[1;32m---> 11\u001b[1;33m \u001b[0me1\u001b[0m\u001b[1;33m=\u001b[0m\u001b[0mEmp\u001b[0m\u001b[1;33m(\u001b[0m\u001b[1;34m\"anil\"\u001b[0m\u001b[1;33m,\u001b[0m\u001b[1;36m30\u001b[0m\u001b[1;33m)\u001b[0m\u001b[1;33m\u001b[0m\u001b[0m\n\u001b[0m",
      "\u001b[1;31mTypeError\u001b[0m: this constructor takes no arguments"
     ]
    }
   ],
   "source": [
    "class Emp:\n",
    "    def fun(self):\n",
    "        print \"this is fun\"\n",
    "    def __fun__(self,name,age):\n",
    "        print \"this is init\"\n",
    "        self.name=name\n",
    "        self.age=age\n",
    "        return \n",
    "    def fun1(self):\n",
    "        print \"this if fun1\"\n",
    "e1=Emp(\"anil\",30)"
   ]
  },
  {
   "cell_type": "code",
   "execution_count": null,
   "metadata": {
    "collapsed": true
   },
   "outputs": [],
   "source": [
    "##what is inheritance, polymorphism and encapsulation"
   ]
  }
 ],
 "metadata": {
  "kernelspec": {
   "display_name": "Python 2",
   "language": "python",
   "name": "python2"
  },
  "language_info": {
   "codemirror_mode": {
    "name": "ipython",
    "version": 2
   },
   "file_extension": ".py",
   "mimetype": "text/x-python",
   "name": "python",
   "nbconvert_exporter": "python",
   "pygments_lexer": "ipython2",
   "version": "2.7.14"
  }
 },
 "nbformat": 4,
 "nbformat_minor": 2
}
