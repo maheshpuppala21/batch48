{
 "cells": [
  {
   "cell_type": "code",
   "execution_count": 19,
   "metadata": {},
   "outputs": [
    {
     "name": "stdout",
     "output_type": "stream",
     "text": [
      "Name:Anil kumar, Age:23, Height:5.67342\n"
     ]
    }
   ],
   "source": [
    "name = \"Anil kumar\"\n",
    "age = 23\n",
    "height=5.67342\n",
    "#Name:Anil kumar, Age:23, Height :5.67342\n",
    "print (\"Name:\"+name+\", \"+\"Age:\"+str(age)+\", \"+\"Height:\"+str(height))"
   ]
  },
  {
   "cell_type": "code",
   "execution_count": 20,
   "metadata": {},
   "outputs": [
    {
     "name": "stdout",
     "output_type": "stream",
     "text": [
      "Enter city name:Hyderabad\n",
      "Hyderabad\n"
     ]
    }
   ],
   "source": [
    "s=raw_input(\"Enter city name:\")\n",
    "print s"
   ]
  },
  {
   "cell_type": "code",
   "execution_count": 21,
   "metadata": {},
   "outputs": [
    {
     "name": "stdout",
     "output_type": "stream",
     "text": [
      "Enter city name:Banglore\n",
      "Banglore\n"
     ]
    }
   ],
   "source": [
    "s=raw_input(\"Enter city name:\")\n",
    "print s"
   ]
  },
  {
   "cell_type": "code",
   "execution_count": 22,
   "metadata": {},
   "outputs": [
    {
     "name": "stdout",
     "output_type": "stream",
     "text": [
      "Enter city name:Hyderabad\n",
      "Hyderabadhad a good climate today\n"
     ]
    }
   ],
   "source": [
    "#cityname had a good climate today\n",
    "s=raw_input(\"Enter city name:\")\n",
    "print s+\"had a good climate today\"\n"
   ]
  },
  {
   "cell_type": "code",
   "execution_count": 25,
   "metadata": {},
   "outputs": [
    {
     "name": "stdout",
     "output_type": "stream",
     "text": [
      "Enter city name:Hyderabad\n",
      "Hyderabad had a good climate today\n"
     ]
    }
   ],
   "source": [
    "#cityname had a good climate today\n",
    "s=raw_input(\"Enter city name:\")\n",
    "print s,\"had a good climate today\"\n"
   ]
  },
  {
   "cell_type": "code",
   "execution_count": 28,
   "metadata": {},
   "outputs": [
    {
     "name": "stdout",
     "output_type": "stream",
     "text": [
      "enter the product: Apple\n",
      "enter the cost of product: 23.45\n",
      "The cost for the Apple is 23.45\n"
     ]
    }
   ],
   "source": [
    "#the cost for the apple is 23.45\n",
    "product =raw_input(\"enter the product: \")\n",
    "price = raw_input(\"enter the cost of product: \")\n",
    "print \"The cost for the\",product,\"is\",price"
   ]
  },
  {
   "cell_type": "code",
   "execution_count": 34,
   "metadata": {},
   "outputs": [
    {
     "name": "stdout",
     "output_type": "stream",
     "text": [
      "enter nameMahesh kumar\n",
      "enter age30\n",
      "enter height5.6\n",
      "Name:Mahesh kumar, Age:30, Height:5.6\n"
     ]
    }
   ],
   "source": [
    "#Name:Anil kumar, Age:23, Height :5.67342\n",
    "name = raw_input(\"enter name\")\n",
    "age = raw_input(\"enter age\")\n",
    "height=raw_input(\"enter height\")\n",
    "print \"Name:\"+name+\",\",\"Age:\"+age+\",\",\"Height:\"+height\n",
    "#print (\"Name:\"+name+\", \"+\"Age:\"+str(age)+\", \"+\"Height:\"+str(height))"
   ]
  },
  {
   "cell_type": "code",
   "execution_count": 37,
   "metadata": {},
   "outputs": [
    {
     "name": "stdout",
     "output_type": "stream",
     "text": [
      "enter nameAnil kumar\n",
      "enter age30\n",
      "enter height5.611\n",
      "Name:Anil kumar, Age:30, Height:5.611\n",
      "Anil kumar <type 'str'>\n",
      "30 <type 'str'>\n",
      "5.611 <type 'str'>\n"
     ]
    }
   ],
   "source": [
    "#Name:Anil kumar, Age:23, Height :5.67342\n",
    "name = raw_input(\"enter name\")\n",
    "age = raw_input(\"enter age\")\n",
    "height=raw_input(\"enter height\")\n",
    "print \"Name:\"+name+\",\",\"Age:\"+age+\",\",\"Height:\"+height\n",
    "print name,type(name)\n",
    "print age,type(age)\n",
    "print height,type(height)"
   ]
  },
  {
   "cell_type": "code",
   "execution_count": 38,
   "metadata": {},
   "outputs": [
    {
     "name": "stdout",
     "output_type": "stream",
     "text": [
      "enter first number10\n",
      "enter second number20\n",
      "the sum of a,b is: 1020\n"
     ]
    }
   ],
   "source": [
    "#take 2 numbers from user to add\n",
    "a=int(raw_input(\"enter first number\"))\n",
    "b=int(raw_input(\"enter second number\")\n",
    "sum=int(a+b)\n",
    "print \"the sum of a,b is:\",sum"
   ]
  },
  {
   "cell_type": "code",
   "execution_count": 41,
   "metadata": {},
   "outputs": [
    {
     "name": "stdout",
     "output_type": "stream",
     "text": [
      "enter first number: 10\n",
      "enter second number:20\n",
      "the sum of a,b is: 30\n"
     ]
    }
   ],
   "source": [
    "#take 2 numbers from user to add\n",
    "a=int(raw_input(\"enter first number: \"))\n",
    "b=int(raw_input(\"enter second number:\"))\n",
    "sum=a+b\n",
    "print \"the sum of a,b is:\",sum"
   ]
  },
  {
   "cell_type": "code",
   "execution_count": 42,
   "metadata": {},
   "outputs": [
    {
     "name": "stdout",
     "output_type": "stream",
     "text": [
      "enter first number: 30\n",
      "enter second number:30.50\n",
      "the sum of a,b is: 60.5\n"
     ]
    }
   ],
   "source": [
    "#take 2 numbers from user to add\n",
    "a=int(raw_input(\"enter first number: \"))\n",
    "b=float(raw_input(\"enter second number:\"))\n",
    "sum=a+b\n",
    "print \"the sum of a,b is:\",sum"
   ]
  },
  {
   "cell_type": "code",
   "execution_count": 44,
   "metadata": {},
   "outputs": [
    {
     "name": "stdout",
     "output_type": "stream",
     "text": [
      "enter first number: 30.30\n",
      "enter second number:40.60\n",
      "the sum of a,b is: 70.9\n"
     ]
    }
   ],
   "source": [
    "#take 2 numbers from user to add\n",
    "a=float(raw_input(\"enter first number: \"))\n",
    "b=float(raw_input(\"enter second number:\"))\n",
    "sum=a+b\n",
    "print \"the sum of a,b is:\",sum"
   ]
  },
  {
   "cell_type": "code",
   "execution_count": null,
   "metadata": {
    "collapsed": true
   },
   "outputs": [],
   "source": [
    "#first 1-7 assignments and push it to github"
   ]
  },
  {
   "cell_type": "code",
   "execution_count": null,
   "metadata": {
    "collapsed": true
   },
   "outputs": [],
   "source": []
  }
 ],
 "metadata": {
  "kernelspec": {
   "display_name": "Python 2",
   "language": "python",
   "name": "python2"
  },
  "language_info": {
   "codemirror_mode": {
    "name": "ipython",
    "version": 2
   },
   "file_extension": ".py",
   "mimetype": "text/x-python",
   "name": "python",
   "nbconvert_exporter": "python",
   "pygments_lexer": "ipython2",
   "version": "2.7.14"
  }
 },
 "nbformat": 4,
 "nbformat_minor": 2
}
