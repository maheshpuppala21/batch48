{
 "cells": [
  {
   "cell_type": "code",
   "execution_count": 1,
   "metadata": {},
   "outputs": [
    {
     "data": {
      "text/plain": [
       "76476"
      ]
     },
     "execution_count": 1,
     "metadata": {},
     "output_type": "execute_result"
    }
   ],
   "source": [
    "int(\"12abc\",16)"
   ]
  },
  {
   "cell_type": "code",
   "execution_count": 2,
   "metadata": {},
   "outputs": [
    {
     "name": "stdout",
     "output_type": "stream",
     "text": [
      "12\n"
     ]
    }
   ],
   "source": [
    "print int(\"12\")"
   ]
  },
  {
   "cell_type": "code",
   "execution_count": 3,
   "metadata": {},
   "outputs": [
    {
     "name": "stdout",
     "output_type": "stream",
     "text": [
      "10\n"
     ]
    }
   ],
   "source": [
    "##octal number 2*8 power 0 + 1*\n",
    "print int(\"12\",8)"
   ]
  },
  {
   "cell_type": "code",
   "execution_count": 9,
   "metadata": {},
   "outputs": [
    {
     "name": "stdout",
     "output_type": "stream",
     "text": [
      "5\n"
     ]
    }
   ],
   "source": [
    "print int(\"0101\",2)"
   ]
  },
  {
   "cell_type": "code",
   "execution_count": 8,
   "metadata": {},
   "outputs": [
    {
     "ename": "ValueError",
     "evalue": "invalid literal for int() with base 2: '1234'",
     "output_type": "error",
     "traceback": [
      "\u001b[1;31m---------------------------------------------------------------------------\u001b[0m",
      "\u001b[1;31mValueError\u001b[0m                                Traceback (most recent call last)",
      "\u001b[1;32m<ipython-input-8-10885c50f1dc>\u001b[0m in \u001b[0;36m<module>\u001b[1;34m()\u001b[0m\n\u001b[1;32m----> 1\u001b[1;33m \u001b[1;32mprint\u001b[0m \u001b[0mint\u001b[0m\u001b[1;33m(\u001b[0m\u001b[1;34m\"1234\"\u001b[0m\u001b[1;33m,\u001b[0m\u001b[1;36m2\u001b[0m\u001b[1;33m)\u001b[0m\u001b[1;33m\u001b[0m\u001b[0m\n\u001b[0m",
      "\u001b[1;31mValueError\u001b[0m: invalid literal for int() with base 2: '1234'"
     ]
    }
   ],
   "source": [
    "#the given number is not binary number\n",
    "print int(\"1234\",2)"
   ]
  },
  {
   "cell_type": "code",
   "execution_count": 10,
   "metadata": {},
   "outputs": [
    {
     "name": "stdout",
     "output_type": "stream",
     "text": [
      "19114804\n"
     ]
    }
   ],
   "source": [
    "#to conver in to hexa decimal\n",
    "vol_id=\"0x123ab34\"\n",
    "val_id_req=\"123ab34\"\n",
    "print int(val_id_req,16)"
   ]
  },
  {
   "cell_type": "code",
   "execution_count": 11,
   "metadata": {},
   "outputs": [
    {
     "name": "stdout",
     "output_type": "stream",
     "text": [
      "27000\n"
     ]
    }
   ],
   "source": [
    "a=10\n",
    "b=20\n",
    "x=(a+b)**3\n",
    "print (x)"
   ]
  },
  {
   "cell_type": "code",
   "execution_count": 12,
   "metadata": {},
   "outputs": [
    {
     "name": "stdout",
     "output_type": "stream",
     "text": [
      "29\n"
     ]
    }
   ],
   "source": [
    "a=10\n",
    "b=20\n",
    "x=(a+b)^3\n",
    "print (x)"
   ]
  },
  {
   "cell_type": "code",
   "execution_count": 15,
   "metadata": {},
   "outputs": [
    {
     "name": "stdout",
     "output_type": "stream",
     "text": [
      "27000\n",
      "27000\n"
     ]
    }
   ],
   "source": [
    "a=10\n",
    "b=20\n",
    "x=(a+b)**3\n",
    "y=a**3+b**3+(3*a*b*(a+b))\n",
    "#z=a**3+b**3+3*(a**2)*b+3*a*(b**2)\n",
    "print x\n",
    "print y\n",
    "#print z"
   ]
  },
  {
   "cell_type": "code",
   "execution_count": 16,
   "metadata": {},
   "outputs": [
    {
     "name": "stdout",
     "output_type": "stream",
     "text": [
      "27000\n",
      "27000\n",
      "27000\n"
     ]
    }
   ],
   "source": [
    "#BODMAS Rule\n",
    "a=10\n",
    "b=20\n",
    "x=(a+b)**3\n",
    "y=a**3+b**3+(3*a*b*(a+b))\n",
    "z=a**3+b**3+3*(a**2)*b+3*a*(b**2)\n",
    "print x\n",
    "print y\n",
    "print z"
   ]
  },
  {
   "cell_type": "code",
   "execution_count": 19,
   "metadata": {},
   "outputs": [
    {
     "name": "stdout",
     "output_type": "stream",
     "text": [
      "5.0\n"
     ]
    }
   ],
   "source": [
    "##square root of number\n",
    "print 25**0.5"
   ]
  },
  {
   "cell_type": "code",
   "execution_count": 20,
   "metadata": {},
   "outputs": [
    {
     "name": "stdout",
     "output_type": "stream",
     "text": [
      "line1 line2\n"
     ]
    }
   ],
   "source": [
    "##Format Specifiers\n",
    "print \"line1 line2\""
   ]
  },
  {
   "cell_type": "code",
   "execution_count": 22,
   "metadata": {},
   "outputs": [
    {
     "name": "stdout",
     "output_type": "stream",
     "text": [
      "line1 line2 line2\n"
     ]
    }
   ],
   "source": [
    "##Format Specifiers\n",
    "print \"line1 line2\",\n",
    "print \"line2\""
   ]
  },
  {
   "cell_type": "code",
   "execution_count": 23,
   "metadata": {},
   "outputs": [
    {
     "name": "stdout",
     "output_type": "stream",
     "text": [
      "sdlfkdlfsdklfdjfkldf dkdklfdkldlfkdfdjkfdl\n"
     ]
    }
   ],
   "source": [
    "print \"sdlfkdlfsdklfdjfkldf\",\"dkdklfdkldlfkdfdjkfdl\""
   ]
  },
  {
   "cell_type": "code",
   "execution_count": 24,
   "metadata": {},
   "outputs": [
    {
     "ename": "SyntaxError",
     "evalue": "EOL while scanning string literal (<ipython-input-24-79d51aebc6db>, line 2)",
     "output_type": "error",
     "traceback": [
      "\u001b[1;36m  File \u001b[1;32m\"<ipython-input-24-79d51aebc6db>\"\u001b[1;36m, line \u001b[1;32m2\u001b[0m\n\u001b[1;33m    print \"lineelefelflfekfdfldfkdfkdfkdf\u001b[0m\n\u001b[1;37m                                        ^\u001b[0m\n\u001b[1;31mSyntaxError\u001b[0m\u001b[1;31m:\u001b[0m EOL while scanning string literal\n"
     ]
    }
   ],
   "source": [
    "##Format Specifiers\n",
    "print \"lineelefelflfekfdfldfkdfkdfkdf\n",
    "dfldfldfkdfdlfkldfkdfldfdfkd\""
   ]
  },
  {
   "cell_type": "code",
   "execution_count": 27,
   "metadata": {},
   "outputs": [
    {
     "name": "stdout",
     "output_type": "stream",
     "text": [
      "lineelefelflfekfdfldfkdfkdfkdfdfldfldfkdfdlfkldfkdfldfdfkd\n"
     ]
    }
   ],
   "source": [
    "##Format Specifiers (\\)\n",
    "print \"lineelefelflfekfdfldfkdfkdfkdf\\\n",
    "dfldfldfkdfdlfkldfkdfldfdfkd\""
   ]
  },
  {
   "cell_type": "code",
   "execution_count": 28,
   "metadata": {},
   "outputs": [
    {
     "name": "stdout",
     "output_type": "stream",
     "text": [
      "line1\n",
      "line2\n"
     ]
    }
   ],
   "source": [
    "##Format Specifiers (\\n)\n",
    "print \"line1\\nline2\""
   ]
  },
  {
   "cell_type": "code",
   "execution_count": 29,
   "metadata": {},
   "outputs": [
    {
     "name": "stdout",
     "output_type": "stream",
     "text": [
      "line1\n",
      "line2ldfldkfdlfdfldf\n",
      "lsdfdkfdkfkdlf\n",
      "python programmer\n"
     ]
    }
   ],
   "source": [
    "##Format Specifiers (\\n)\n",
    "print \"line1\\nline2ldfldkfdlfdfldf\\nlsdfdkfdkfkdlf\\npython programmer\""
   ]
  },
  {
   "cell_type": "code",
   "execution_count": 30,
   "metadata": {},
   "outputs": [
    {
     "name": "stdout",
     "output_type": "stream",
     "text": [
      "line1\\nline2ldfldkfdlfdfldf\\nlsdfdkfdkfkdlf\\npython programmer\n"
     ]
    }
   ],
   "source": [
    "##Format Specifiers (\\n)--\\ (to get actual data)\n",
    "print \"line1\\\\nline2ldfldkfdlfdfldf\\\\nlsdfdkfdkfkdlf\\\\npython programmer\""
   ]
  },
  {
   "cell_type": "code",
   "execution_count": 31,
   "metadata": {},
   "outputs": [
    {
     "name": "stdout",
     "output_type": "stream",
     "text": [
      "akdkldfj\\nlsdkfdkdkldl\\tkdkpythonprogram,ldlfdlfdlfdl\n"
     ]
    }
   ],
   "source": [
    "s=r\"akdkldfj\\nlsdkfdkdkldl\\tkdkpythonprogram,ldlfdlfdlfdl\"\n",
    "print s\n"
   ]
  },
  {
   "cell_type": "code",
   "execution_count": 38,
   "metadata": {},
   "outputs": [
    {
     "ename": "SyntaxError",
     "evalue": "EOL while scanning string literal (<ipython-input-38-e2bc80431982>, line 1)",
     "output_type": "error",
     "traceback": [
      "\u001b[1;36m  File \u001b[1;32m\"<ipython-input-38-e2bc80431982>\"\u001b[1;36m, line \u001b[1;32m1\u001b[0m\n\u001b[1;33m    s=r\"will be going to home and getting ready and\\n\u001b[0m\n\u001b[1;37m                                                    ^\u001b[0m\n\u001b[1;31mSyntaxError\u001b[0m\u001b[1;31m:\u001b[0m EOL while scanning string literal\n"
     ]
    }
   ],
   "source": [
    "s=r\"will be going to home and getting ready and,\n",
    "then going to office and will check the mails and do the work as per given tasks and,\n",
    "we have team meeting to discuss the tasks pending\"\n",
    "print s"
   ]
  },
  {
   "cell_type": "code",
   "execution_count": 41,
   "metadata": {},
   "outputs": [
    {
     "name": "stdout",
     "output_type": "stream",
     "text": [
      "I need to get down.\n",
      " start my bike.\n",
      " go to my home.\n",
      " then take the lunch box.\n",
      " Again start to office will check mails and starting working on given taks.\n"
     ]
    }
   ],
   "source": [
    "print \"I need to get down.\\n start my bike.\\n go to my home.\\n then take the lunch box.\\n Again start to office \\\n",
    "will check mails and starting working on given taks.\""
   ]
  },
  {
   "cell_type": "code",
   "execution_count": null,
   "metadata": {
    "collapsed": true
   },
   "outputs": [],
   "source": []
  },
  {
   "cell_type": "code",
   "execution_count": null,
   "metadata": {
    "collapsed": true
   },
   "outputs": [],
   "source": []
  },
  {
   "cell_type": "code",
   "execution_count": null,
   "metadata": {
    "collapsed": true
   },
   "outputs": [],
   "source": []
  }
 ],
 "metadata": {
  "kernelspec": {
   "display_name": "Python 2",
   "language": "python",
   "name": "python2"
  },
  "language_info": {
   "codemirror_mode": {
    "name": "ipython",
    "version": 2
   },
   "file_extension": ".py",
   "mimetype": "text/x-python",
   "name": "python",
   "nbconvert_exporter": "python",
   "pygments_lexer": "ipython2",
   "version": "2.7.14"
  }
 },
 "nbformat": 4,
 "nbformat_minor": 2
}
