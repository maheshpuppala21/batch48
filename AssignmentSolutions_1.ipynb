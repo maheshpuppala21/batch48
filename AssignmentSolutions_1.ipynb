{
 "cells": [
  {
   "cell_type": "code",
   "execution_count": 7,
   "metadata": {},
   "outputs": [
    {
     "name": "stdout",
     "output_type": "stream",
     "text": [
      "enter number of people: 110\n",
      "enter number of buses: 10\n",
      "enter number of seats per bus10\n",
      "extra buses required\n"
     ]
    }
   ],
   "source": [
    "#Take the input from the user for(Total number of people, total number of buses, Number of seats for bus, adjust factor). Based on four inputs\n",
    "#Decide whether there is sufficient buses or not and give solution for how many extra buses required.####\n",
    "tot=raw_input(\"enter number of people: \")\n",
    "buses=raw_input(\"enter number of buses: \")\n",
    "seats=raw_input(\"enter number of seats per bus\")\n",
    "if tot<100:\n",
    "    adj_factor_in_each_bus=int(tot)/int(buses)\n",
    "    print \"adj_factor_in_each_bus is: \",adj_factor_in_each_bus\n",
    "else:\n",
    "    print \"extra buses required\"\n",
    "    \n",
    "\n"
   ]
  },
  {
   "cell_type": "code",
   "execution_count": 9,
   "metadata": {},
   "outputs": [
    {
     "name": "stdout",
     "output_type": "stream",
     "text": [
      "enter number of people: 99\n",
      "enter number of buses: 10\n",
      "enter number of seats per bus10\n",
      "adj_factor_in_each_bus is:  9\n"
     ]
    }
   ],
   "source": [
    "#Take the input from the user for(Total number of people, total number of buses, Number of seats for bus, adjust factor). Based on four inputs\n",
    "#Decide whether there is sufficient buses or not and give solution for how many extra buses required.\n",
    "tot=raw_input(\"enter number of people: \")\n",
    "buses=raw_input(\"enter number of buses: \")\n",
    "seats=raw_input(\"enter number of seats per bus\")\n",
    "if int(tot)<100:\n",
    "    adj_factor_in_each_bus=int(tot)/int(buses)\n",
    "    print \"adj_factor_in_each_bus is: \",adj_factor_in_each_bus\n",
    "else:\n",
    "    print \"extra buses required\"\n",
    "    "
   ]
  },
  {
   "cell_type": "code",
   "execution_count": 11,
   "metadata": {},
   "outputs": [
    {
     "name": "stdout",
     "output_type": "stream",
     "text": [
      "enter number of people: 100\n",
      "enter number of buses: 10\n",
      "enter number of seats per bus10\n",
      "adj_factor_in_each_bus is:  10\n"
     ]
    }
   ],
   "source": [
    "#Take the input from the user for(Total number of people, total number of buses, Number of seats for bus, adjust factor). Based on four inputs\n",
    "#Decide whether there is sufficient buses or not and give solution for how many extra buses required.\n",
    "tot=raw_input(\"enter number of people: \")\n",
    "buses=raw_input(\"enter number of buses: \")\n",
    "seats=raw_input(\"enter number of seats per bus\")\n",
    "if int(tot)<=100:\n",
    "    adj_factor_in_each_bus=int(tot)/int(buses)\n",
    "    print \"adj_factor_in_each_bus is: \",adj_factor_in_each_bus\n",
    "else:\n",
    "    print \"extra buses required\"\n",
    "    "
   ]
  },
  {
   "cell_type": "code",
   "execution_count": 12,
   "metadata": {},
   "outputs": [
    {
     "name": "stdout",
     "output_type": "stream",
     "text": [
      "enter number of people: 101\n",
      "enter number of buses: 10\n",
      "enter number of seats per bus10\n",
      "extra buses required\n"
     ]
    }
   ],
   "source": [
    "#Take the input from the user for(Total number of people, total number of buses, Number of seats for bus, adjust factor). Based on four inputs\n",
    "#Decide whether there is sufficient buses or not and give solution for how many extra buses required.\n",
    "tot=raw_input(\"enter number of people: \")\n",
    "buses=raw_input(\"enter number of buses: \")\n",
    "seats=raw_input(\"enter number of seats per bus\")\n",
    "if int(tot)<=100:\n",
    "    adj_factor_in_each_bus=int(tot)/int(buses)\n",
    "    print \"adj_factor_in_each_bus is: \",adj_factor_in_each_bus\n",
    "else:\n",
    "    print \"extra buses required\"\n",
    "    "
   ]
  },
  {
   "cell_type": "code",
   "execution_count": 15,
   "metadata": {},
   "outputs": [
    {
     "name": "stdout",
     "output_type": "stream",
     "text": [
      "enter number of people: 90\n",
      "enter number of buses: 10\n",
      "enter number of seats per bus10\n",
      "adj_factor_in_each_bus is:  9\n"
     ]
    }
   ],
   "source": [
    "#Take the input from the user for(Total number of people, total number of buses, Number of seats for bus, adjust factor). Based on four inputs\n",
    "#Decide whether there is sufficient buses or not and give solution for how many extra buses required.\n",
    "tot=raw_input(\"enter number of people: \")\n",
    "buses=raw_input(\"enter number of buses: \")\n",
    "seats=raw_input(\"enter number of seats per bus\")\n",
    "if int(tot)<=100:\n",
    "    adj_factor_in_each_bus=int(tot)/int(buses)\n",
    "    print \"adj_factor_in_each_bus is: \",adj_factor_in_each_bus\n",
    "else:\n",
    "    print \"extra buses required\"\n",
    "    "
   ]
  },
  {
   "cell_type": "code",
   "execution_count": 20,
   "metadata": {},
   "outputs": [
    {
     "name": "stdout",
     "output_type": "stream",
     "text": [
      "enter temperature: 45\n",
      "7\n"
     ]
    }
   ],
   "source": [
    "##2. Take temperature from the user and convert foreign heat -> Celsius.######\n",
    "temp=raw_input(\"enter temperature: \")\n",
    "c=(int(temp) - 32)*5/9 \n",
    "print c\n"
   ]
  },
  {
   "cell_type": "code",
   "execution_count": 24,
   "metadata": {},
   "outputs": [
    {
     "name": "stdout",
     "output_type": "stream",
     "text": [
      "enter temperature: 55\n",
      "12degree Celsius\n"
     ]
    }
   ],
   "source": [
    "##2. Take temperature from the user and convert foreign heat -> Celsius.######\n",
    "temp=raw_input(\"enter temperature: \")\n",
    "c=(int(temp) - 32)*5/9 \n",
    "print str(c)+\" degree Celsius\"\n"
   ]
  },
  {
   "cell_type": "code",
   "execution_count": null,
   "metadata": {
    "collapsed": true
   },
   "outputs": [],
   "source": [
    "##3.\ttake temperature from the user and convert Celsius ? foreign heat.\n"
   ]
  },
  {
   "cell_type": "code",
   "execution_count": 26,
   "metadata": {},
   "outputs": [
    {
     "name": "stdout",
     "output_type": "stream",
     "text": [
      "enter a1\n",
      "enter b2\n",
      "enter c3\n",
      "enter d4\n",
      "144\n",
      "67\n"
     ]
    }
   ],
   "source": [
    "##4.\ttake four number from the user\n",
    "# Do the below operations\n",
    " #(a+b)**2, (c+d)**3\n",
    "#variance\n",
    "#standard deviation: sqrt(variance):  User math module. Math.sqrt(variance)\n",
    "\n",
    "a=raw_input(\"enter a\")\n",
    "b=raw_input(\"enter b\")\n",
    "c=raw_input(\"enter c\")\n",
    "d=raw_input(\"enter d\")\n",
    "res=int(a+b)**2\n",
    "res1=int(c)+int(d)**3\n",
    "print res\n",
    "print res1\n"
   ]
  },
  {
   "cell_type": "code",
   "execution_count": 28,
   "metadata": {},
   "outputs": [
    {
     "name": "stdout",
     "output_type": "stream",
     "text": [
      "enter a: 1\n",
      "enter b: 2\n",
      "enter c: 3\n",
      "enter d: 4\n",
      "5\n",
      "67\n"
     ]
    }
   ],
   "source": [
    "##4.\ttake four number from the user\n",
    "# Do the below operations\n",
    " #(a+b)**2, (c+d)**3\n",
    "#variance\n",
    "#standard deviation: sqrt(variance):  User math module. Math.sqrt(variance)\n",
    "\n",
    "a=raw_input(\"enter a: \")\n",
    "b=raw_input(\"enter b: \")\n",
    "c=raw_input(\"enter c: \")\n",
    "d=raw_input(\"enter d: \")\n",
    "res=int(a)+int(b)**2\n",
    "res1=int(c)+int(d)**3\n",
    "print res\n",
    "print res1\n"
   ]
  },
  {
   "cell_type": "code",
   "execution_count": null,
   "metadata": {
    "collapsed": true
   },
   "outputs": [],
   "source": [
    "##4.\ttake four number from the user\n",
    "# Do the below operations\n",
    " #(a+b)**2, (c+d)**3\n",
    "#variance\n",
    "#standard deviation: sqrt(variance):  User math module. Math.sqrt(variance)\n",
    "\n",
    "a=raw_input(\"enter a: \")\n",
    "b=raw_input(\"enter b: \")\n",
    "c=raw_input(\"enter c: \")\n",
    "d=raw_input(\"enter d: \")\n",
    "res=int(a)+int(b)**2\n",
    "res1=int(c)+int(d)**3\n",
    "print res\n",
    "print res1\n"
   ]
  },
  {
   "cell_type": "code",
   "execution_count": 32,
   "metadata": {},
   "outputs": [
    {
     "name": "stdout",
     "output_type": "stream",
     "text": [
      "enter a: 1\n",
      "enter b: 20\n",
      "enter c: 30\n",
      "enter d: 9\n",
      "The average of given four number is:  251\n"
     ]
    }
   ],
   "source": [
    "##4.Find the average of four numbers\n",
    "a=raw_input(\"enter a: \")\n",
    "b=raw_input(\"enter b: \")\n",
    "c=raw_input(\"enter c: \")\n",
    "d=raw_input(\"enter d: \")\n",
    "avg=int(a)+int(b)+int(c)+int(d)/4*10\n",
    "00\n",
    "print \"The average of given four number is: \",int(avg)"
   ]
  },
  {
   "cell_type": "code",
   "execution_count": 33,
   "metadata": {},
   "outputs": [
    {
     "name": "stdout",
     "output_type": "stream",
     "text": [
      "enter a: 10\n",
      "enter b: 20\n",
      "enter c: 60\n",
      "enter d: 10\n",
      "The sum of given 4 numbers :  100\n"
     ]
    }
   ],
   "source": [
    "#4.Find the sum of four numbers\n",
    "a=raw_input(\"enter a: \")\n",
    "b=raw_input(\"enter b: \")\n",
    "c=raw_input(\"enter c: \")\n",
    "d=raw_input(\"enter d: \")\n",
    "sum=int(a)+int(b)+int(c)+int(d)\n",
    "print \"The sum of given 4 numbers : \",int(sum)\n"
   ]
  },
  {
   "cell_type": "code",
   "execution_count": 37,
   "metadata": {},
   "outputs": [
    {
     "name": "stdout",
     "output_type": "stream",
     "text": [
      "enter km6\n",
      "the total meters for 6  km is:  6000 meters\n"
     ]
    }
   ],
   "source": [
    "## 5.Take the distance in km\n",
    "##Show that in cm, meters, in milli meters, cents, feets\n",
    "\n",
    "km=raw_input(\"enter km\")\n",
    "meters=1000\n",
    "print \"the total meters for\",int(km),\" km is: \",int(km)*meters, \"meters\"\n"
   ]
  },
  {
   "cell_type": "code",
   "execution_count": 5,
   "metadata": {},
   "outputs": [
    {
     "name": "stdout",
     "output_type": "stream",
     "text": [
      "Enter your weight: 68\n",
      "Enter your Height1.65\n",
      "('The Bmi value of member is: ', 24.977043158861342)\n"
     ]
    }
   ],
   "source": [
    "#7. To calculate BMI value of any member\n",
    "kg=raw_input(\"Enter your weight: \")\n",
    "Height=raw_input(\"Enter your Height\")\n",
    "BMI=float(kg)/float(Height)*2\n",
    "print(\"The Bmi value of member is: \",BMI)"
   ]
  },
  {
   "cell_type": "code",
   "execution_count": 7,
   "metadata": {},
   "outputs": [
    {
     "name": "stdout",
     "output_type": "stream",
     "text": [
      "Enter your weight: 65\n",
      "Enter your Height1.65\n",
      "('The Bmi value of member is: ', 19.6969696969697)\n"
     ]
    }
   ],
   "source": [
    "#8. To calculate BMI value of any member\n",
    "kg=raw_input(\"Enter your weight: \")\n",
    "Height=raw_input(\"Enter your Height\")\n",
    "BMI=float(kg)/(float(Height)*2)\n",
    "print(\"The Bmi value of member is: \",BMI)"
   ]
  },
  {
   "cell_type": "code",
   "execution_count": 13,
   "metadata": {},
   "outputs": [
    {
     "name": "stdout",
     "output_type": "stream",
     "text": [
      "enter the name:Jayaram\n",
      "enter the age: 56\n",
      "enter height5.667\n",
      "enter weight65\n",
      "Name:Jayaram, Age:56, Height:5.67, Weight:65\n"
     ]
    }
   ],
   "source": [
    "#9.Name:Jayaram, Age:1.6, Height:3.54, Weight:10.344\n",
    "Name = raw_input(\"enter the name:\")\n",
    "Age=int(raw_input(\"enter the age: \"))\n",
    "Height=float(raw_input(\"enter height\"))\n",
    "Weight=int(raw_input(\"enter weight\"))\n",
    "#print \"Name:%s, Age:%s, Height:%.2f, Weight:%d\"%(name,age,height,weight)\n",
    "print \"Name:%s, Age:%d, Height:%.2f, Weight:%d\"%(Name,Age,Height,Weight)\n"
   ]
  },
  {
   "cell_type": "code",
   "execution_count": 15,
   "metadata": {},
   "outputs": [
    {
     "name": "stdout",
     "output_type": "stream",
     "text": [
      "enter the name:Jayaram\n",
      "enter the age: 40\n",
      "enter height3.54\n",
      "enter weight60.345\n",
      "Name:Jayaram, Age:40, Height:3.54, Weight:60.34\n"
     ]
    }
   ],
   "source": [
    "#9.Name:Jayaram, Age:30, Height:3.54, Weight:60.344\n",
    "Name = raw_input(\"enter the name:\")\n",
    "Age=int(raw_input(\"enter the age: \"))\n",
    "Height=float(raw_input(\"enter height\"))\n",
    "Weight=float(raw_input(\"enter weight\"))\n",
    "#print \"Name:%s, Age:%s, Height:%.2f, Weight:%d\"%(name,age,height,weight)\n",
    "print \"Name:%s, Age:%d, Height:%.2f, Weight:%.2f\"%(Name,Age,Height,Weight)\n"
   ]
  },
  {
   "cell_type": "code",
   "execution_count": 23,
   "metadata": {},
   "outputs": [
    {
     "name": "stdout",
     "output_type": "stream",
     "text": [
      "enter lower case lettersabc\n",
      "ABC\n"
     ]
    }
   ],
   "source": [
    "##10. Take three small case letters from the user convert in to uppercase.\n",
    "name=raw_input(\"enter lower case letters\")\n",
    "print name.upper()"
   ]
  },
  {
   "cell_type": "code",
   "execution_count": 25,
   "metadata": {},
   "outputs": [
    {
     "name": "stdout",
     "output_type": "stream",
     "text": [
      "enter letters :abcd\n",
      "ABCD\n",
      "abcd\n"
     ]
    }
   ],
   "source": [
    "##10. Take three small case letters from the user convert in to uppercase.\n",
    "name=raw_input(\"enter letters :\")\n",
    "print name.upper()\n",
    "print name.lower()"
   ]
  },
  {
   "cell_type": "code",
   "execution_count": 28,
   "metadata": {},
   "outputs": [
    {
     "name": "stdout",
     "output_type": "stream",
     "text": [
      "enter name: Mahesh kumar\n",
      "enter age: 30\n",
      "enter height: 5.675\n",
      "Name:Mahesh kumar, Age:30, Height:5.67\n"
     ]
    }
   ],
   "source": [
    "##7.Take name, age, height from the user and print like below\n",
    "#The details of the person: Name:name of the person, Age:age of the person, Height:height of the person\n",
    "#Note: make sure that no space between : and a value and should be space after “COMA”\n",
    "name=raw_input(\"enter name: \")\n",
    "age=int(raw_input(\"enter age: \"))\n",
    "height=float(raw_input(\"enter height: \"))\n",
    "print \"Name:%s, Age:%d, Height:%.2f\"%(name,age,height)\n",
    "\n"
   ]
  },
  {
   "cell_type": "code",
   "execution_count": null,
   "metadata": {},
   "outputs": [],
   "source": [
    "##6.\tTake the size of your hard disk in GB   \tShow that in MB, KB, TB, PB\n",
    "size=int(raw_input(\"enter size of your disk in GB:\"))\n",
    "MB=size*1000\n",
    "KB=MB*1000\n",
    "TB=float(size/1000)\n",
    "PB=float(TB/1000)\n",
    "print\"the size of given GB in to MB is: \",size*1000\n",
    "print \"MB:%d, KB:%d, TB:%.2df, PB:%.2df\"%(MB,KB,TB,PB)\n",
    "\n",
    "\n"
   ]
  },
  {
   "cell_type": "code",
   "execution_count": null,
   "metadata": {},
   "outputs": [],
   "source": [
    "print(Hell0)"
   ]
  },
  {
   "cell_type": "code",
   "execution_count": null,
   "metadata": {
    "collapsed": true
   },
   "outputs": [],
   "source": []
  }
 ],
 "metadata": {
  "kernelspec": {
   "display_name": "Python 2",
   "language": "python",
   "name": "python2"
  },
  "language_info": {
   "codemirror_mode": {
    "name": "ipython",
    "version": 2
   },
   "file_extension": ".py",
   "mimetype": "text/x-python",
   "name": "python",
   "nbconvert_exporter": "python",
   "pygments_lexer": "ipython2",
   "version": "2.7.14"
  }
 },
 "nbformat": 4,
 "nbformat_minor": 2
}
