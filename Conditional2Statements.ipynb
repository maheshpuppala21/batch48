{
 "cells": [
  {
   "cell_type": "code",
   "execution_count": 6,
   "metadata": {},
   "outputs": [
    {
     "name": "stdout",
     "output_type": "stream",
     "text": [
      "enter a value: 30\n",
      "enter b value: 40\n",
      "enter c value: 10\n",
      "b is big\n"
     ]
    }
   ],
   "source": [
    "a=raw_input(\"enter a value: \") \n",
    "b=raw_input(\"enter b value: \") \n",
    "c=raw_input(\"enter c value: \") \n",
    "a=int(a) \n",
    "b=int(b) \n",
    "c=int(c)\n",
    "if a>b:\n",
    "    if a>c:\n",
    "        print \"a is big\"\n",
    "else:\n",
    "    if b>a:\n",
    "        if b>c:\n",
    "            print \"b is big\"\n"
   ]
  },
  {
   "cell_type": "code",
   "execution_count": 8,
   "metadata": {},
   "outputs": [
    {
     "name": "stdout",
     "output_type": "stream",
     "text": [
      "enter a value: 20\n",
      "enter b value: 30\n",
      "enter c value: 10\n",
      "b is big\n"
     ]
    }
   ],
   "source": [
    "a=raw_input(\"enter a value: \") \n",
    "b=raw_input(\"enter b value: \") \n",
    "c=raw_input(\"enter c value: \") \n",
    "a=int(a) \n",
    "b=int(b) \n",
    "c=int(c)\n",
    "if a>b:\n",
    "    if a>c:\n",
    "        print \"a is big\"\n",
    "else:\n",
    "    if b>a:\n",
    "        if b>c:\n",
    "            print \"b is big\"\n"
   ]
  },
  {
   "cell_type": "code",
   "execution_count": 12,
   "metadata": {},
   "outputs": [
    {
     "name": "stdout",
     "output_type": "stream",
     "text": [
      "enter a value: 20\n",
      "enter b value: 10\n",
      "enter c value: 30\n",
      "c is big\n",
      "Thank you\n"
     ]
    }
   ],
   "source": [
    "# & symbol is used for bitwise operation\n",
    "# and is used for testing expressions\n",
    "a=raw_input(\"enter a value: \") \n",
    "b=raw_input(\"enter b value: \") \n",
    "c=raw_input(\"enter c value: \") \n",
    "a=int(a) \n",
    "b=int(b) \n",
    "c=int(c)\n",
    "if a>b and a>c:\n",
    "    print \"a is big\"\n",
    "if b>a and b>c:\n",
    "    print \"b is big\"\n",
    "if c>a and c>b:\n",
    "    print \"c is big\"\n",
    "print \"Thank you\""
   ]
  },
  {
   "cell_type": "code",
   "execution_count": 16,
   "metadata": {},
   "outputs": [
    {
     "name": "stdout",
     "output_type": "stream",
     "text": [
      "enter a value: 10\n",
      "enter b value: 11\n",
      "enter c value: 11\n",
      "the values of a, b,c should not be equal\n",
      "Thank you\n"
     ]
    }
   ],
   "source": [
    "# & symbol is used for bitwise operation\n",
    "# and is used for testing expressions\n",
    "a=raw_input(\"enter a value: \") \n",
    "b=raw_input(\"enter b value: \") \n",
    "c=raw_input(\"enter c value: \") \n",
    "a=int(a) \n",
    "b=int(b) \n",
    "c=int(c)\n",
    "if a>b and a>c:\n",
    "    print \"a is big\"\n",
    "elif b>a and b>c:\n",
    "    print \"b is big\"\n",
    "elif c>a and c>b:\n",
    "    print \"c is big\"\n",
    "else:\n",
    "    print \"the values of a, b,c should not be equal\"\n",
    "print \"Thank you\""
   ]
  },
  {
   "cell_type": "code",
   "execution_count": 23,
   "metadata": {},
   "outputs": [
    {
     "name": "stdout",
     "output_type": "stream",
     "text": [
      "Operation Systems\n",
      "\t1.Windows\n",
      "\t2.Android\\tn3.Mac\n",
      "enter option from the menu: 2\n",
      "Go to Second Floor and buy Android laptop or mobile\n",
      "There is only three floors, please select 1 or 2 or 3\n"
     ]
    }
   ],
   "source": [
    "#Operatin Syteams:\n",
    "#1.Windows\n",
    "#2.Android\n",
    "#3.Mac\n",
    "#Enter an option:\n",
    "\n",
    "print \"Operation Systems\\n\\t1.Windows\\n\\t2.Android\\\\tn3.Mac\"\n",
    "option = raw_input(\"enter option from the menu: \")\n",
    "option=int(option)\n",
    "if option==1:\n",
    "    print \"Go to First Floor and buy windows laptop or mobile\"\n",
    "if option==2:\n",
    "    print \"Go to Second Floor and buy Android laptop or mobile\"\n",
    "if option==3:\n",
    "    print \"Go to Third Floor and buy Mac laptop or mobile\"\n",
    "if option<>1 or option<>2 or option<>3\n",
    "    print \"There is only three floors, please select 1 or 2 or 3\"\n",
    "    \n"
   ]
  },
  {
   "cell_type": "code",
   "execution_count": null,
   "metadata": {},
   "outputs": [],
   "source": [
    "#Operatin Syteams:\n",
    "#1.Windows\n",
    "#2.Android\n",
    "#3.Mac\n",
    "#Enter an option:\n",
    "\n",
    "print \"Operation Systems\\n\\t1.Windows\\n\\t2.Android\\n\\t3.Mac\"\n",
    "option = raw_input(\"enter option from the menu: \")\n",
    "option=int(option)\n",
    "if option==1:\n",
    "    print \"Go to First Floor and buy windows laptop or mobile\"\n",
    "if option==2:\n",
    "    print \"Go to Second Floor and buy Android laptop or mobile\"\n",
    "if option==3:\n",
    "    print \"Go to Third Floor and buy Mac laptop or mobile\"\n",
    "if option!=1 and option!=2 and option!=3:\n",
    "    print \"There is only three floors, please select 1 or 2 or 3\"\n"
   ]
  },
  {
   "cell_type": "code",
   "execution_count": null,
   "metadata": {
    "collapsed": true
   },
   "outputs": [],
   "source": [
    "print \"hello\""
   ]
  },
  {
   "cell_type": "code",
   "execution_count": null,
   "metadata": {
    "collapsed": true
   },
   "outputs": [],
   "source": []
  },
  {
   "cell_type": "code",
   "execution_count": null,
   "metadata": {
    "collapsed": true
   },
   "outputs": [],
   "source": []
  }
 ],
 "metadata": {
  "kernelspec": {
   "display_name": "Python 2",
   "language": "python",
   "name": "python2"
  },
  "language_info": {
   "codemirror_mode": {
    "name": "ipython",
    "version": 2
   },
   "file_extension": ".py",
   "mimetype": "text/x-python",
   "name": "python",
   "nbconvert_exporter": "python",
   "pygments_lexer": "ipython2",
   "version": "2.7.14"
  }
 },
 "nbformat": 4,
 "nbformat_minor": 2
}
