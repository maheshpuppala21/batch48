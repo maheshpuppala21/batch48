{
 "cells": [
  {
   "cell_type": "code",
   "execution_count": 7,
   "metadata": {},
   "outputs": [
    {
     "name": "stdout",
     "output_type": "stream",
     "text": [
      "enter number of people: 110\n",
      "enter number of buses: 10\n",
      "enter number of seats per bus10\n",
      "extra buses required\n"
     ]
    }
   ],
   "source": [
    "#Take the input from the user for(Total number of people, total number of buses, Number of seats for bus, adjust factor). Based on four inputs\n",
    "#Decide whether there is sufficient buses or not and give solution for how many extra buses required.####\n",
    "tot=raw_input(\"enter number of people: \")\n",
    "buses=raw_input(\"enter number of buses: \")\n",
    "seats=raw_input(\"enter number of seats per bus\")\n",
    "if tot<100:\n",
    "    adj_factor_in_each_bus=int(tot)/int(buses)\n",
    "    print \"adj_factor_in_each_bus is: \",adj_factor_in_each_bus\n",
    "else:\n",
    "    print \"extra buses required\"\n",
    "    \n",
    "\n"
   ]
  },
  {
   "cell_type": "code",
   "execution_count": 9,
   "metadata": {},
   "outputs": [
    {
     "name": "stdout",
     "output_type": "stream",
     "text": [
      "enter number of people: 99\n",
      "enter number of buses: 10\n",
      "enter number of seats per bus10\n",
      "adj_factor_in_each_bus is:  9\n"
     ]
    }
   ],
   "source": [
    "#Take the input from the user for(Total number of people, total number of buses, Number of seats for bus, adjust factor). Based on four inputs\n",
    "#Decide whether there is sufficient buses or not and give solution for how many extra buses required.\n",
    "tot=raw_input(\"enter number of people: \")\n",
    "buses=raw_input(\"enter number of buses: \")\n",
    "seats=raw_input(\"enter number of seats per bus\")\n",
    "if int(tot)<100:\n",
    "    adj_factor_in_each_bus=int(tot)/int(buses)\n",
    "    print \"adj_factor_in_each_bus is: \",adj_factor_in_each_bus\n",
    "else:\n",
    "    print \"extra buses required\"\n",
    "    "
   ]
  },
  {
   "cell_type": "code",
   "execution_count": 11,
   "metadata": {},
   "outputs": [
    {
     "name": "stdout",
     "output_type": "stream",
     "text": [
      "enter number of people: 100\n",
      "enter number of buses: 10\n",
      "enter number of seats per bus10\n",
      "adj_factor_in_each_bus is:  10\n"
     ]
    }
   ],
   "source": [
    "#Take the input from the user for(Total number of people, total number of buses, Number of seats for bus, adjust factor). Based on four inputs\n",
    "#Decide whether there is sufficient buses or not and give solution for how many extra buses required.\n",
    "tot=raw_input(\"enter number of people: \")\n",
    "buses=raw_input(\"enter number of buses: \")\n",
    "seats=raw_input(\"enter number of seats per bus\")\n",
    "if int(tot)<=100:\n",
    "    adj_factor_in_each_bus=int(tot)/int(buses)\n",
    "    print \"adj_factor_in_each_bus is: \",adj_factor_in_each_bus\n",
    "else:\n",
    "    print \"extra buses required\"\n",
    "    "
   ]
  },
  {
   "cell_type": "code",
   "execution_count": 12,
   "metadata": {},
   "outputs": [
    {
     "name": "stdout",
     "output_type": "stream",
     "text": [
      "enter number of people: 101\n",
      "enter number of buses: 10\n",
      "enter number of seats per bus10\n",
      "extra buses required\n"
     ]
    }
   ],
   "source": [
    "#Take the input from the user for(Total number of people, total number of buses, Number of seats for bus, adjust factor). Based on four inputs\n",
    "#Decide whether there is sufficient buses or not and give solution for how many extra buses required.\n",
    "tot=raw_input(\"enter number of people: \")\n",
    "buses=raw_input(\"enter number of buses: \")\n",
    "seats=raw_input(\"enter number of seats per bus\")\n",
    "if int(tot)<=100:\n",
    "    adj_factor_in_each_bus=int(tot)/int(buses)\n",
    "    print \"adj_factor_in_each_bus is: \",adj_factor_in_each_bus\n",
    "else:\n",
    "    print \"extra buses required\"\n",
    "    "
   ]
  },
  {
   "cell_type": "code",
   "execution_count": 15,
   "metadata": {},
   "outputs": [
    {
     "name": "stdout",
     "output_type": "stream",
     "text": [
      "enter number of people: 90\n",
      "enter number of buses: 10\n",
      "enter number of seats per bus10\n",
      "adj_factor_in_each_bus is:  9\n"
     ]
    }
   ],
   "source": [
    "#Take the input from the user for(Total number of people, total number of buses, Number of seats for bus, adjust factor). Based on four inputs\n",
    "#Decide whether there is sufficient buses or not and give solution for how many extra buses required.\n",
    "tot=raw_input(\"enter number of people: \")\n",
    "buses=raw_input(\"enter number of buses: \")\n",
    "seats=raw_input(\"enter number of seats per bus\")\n",
    "if int(tot)<=100:\n",
    "    adj_factor_in_each_bus=int(tot)/int(buses)\n",
    "    print \"adj_factor_in_each_bus is: \",adj_factor_in_each_bus\n",
    "else:\n",
    "    print \"extra buses required\"\n",
    "    "
   ]
  },
  {
   "cell_type": "code",
   "execution_count": 20,
   "metadata": {},
   "outputs": [
    {
     "name": "stdout",
     "output_type": "stream",
     "text": [
      "enter temperature: 45\n",
      "7\n"
     ]
    }
   ],
   "source": [
    "##2. Take temperature from the user and convert foreign heat -> Celsius.######\n",
    "temp=raw_input(\"enter temperature: \")\n",
    "c=(int(temp) - 32)*5/9 \n",
    "print c\n"
   ]
  },
  {
   "cell_type": "code",
   "execution_count": 24,
   "metadata": {},
   "outputs": [
    {
     "name": "stdout",
     "output_type": "stream",
     "text": [
      "enter temperature: 55\n",
      "12degree Celsius\n"
     ]
    }
   ],
   "source": [
    "##2. Take temperature from the user and convert foreign heat -> Celsius.######\n",
    "temp=raw_input(\"enter temperature: \")\n",
    "c=(int(temp) - 32)*5/9 \n",
    "print str(c)+\" degree Celsius\"\n"
   ]
  },
  {
   "cell_type": "code",
   "execution_count": null,
   "metadata": {
    "collapsed": true
   },
   "outputs": [],
   "source": [
    "##3.\ttake temperature from the user and convert Celsius ? foreign heat.\n"
   ]
  },
  {
   "cell_type": "code",
   "execution_count": 26,
   "metadata": {},
   "outputs": [
    {
     "name": "stdout",
     "output_type": "stream",
     "text": [
      "enter a1\n",
      "enter b2\n",
      "enter c3\n",
      "enter d4\n",
      "144\n",
      "67\n"
     ]
    }
   ],
   "source": [
    "##4.\ttake four number from the user\n",
    "# Do the below operations\n",
    " #(a+b)**2, (c+d)**3\n",
    "#variance\n",
    "#standard deviation: sqrt(variance):  User math module. Math.sqrt(variance)\n",
    "\n",
    "a=raw_input(\"enter a\")\n",
    "b=raw_input(\"enter b\")\n",
    "c=raw_input(\"enter c\")\n",
    "d=raw_input(\"enter d\")\n",
    "res=int(a+b)**2\n",
    "res1=int(c)+int(d)**3\n",
    "print res\n",
    "print res1\n"
   ]
  },
  {
   "cell_type": "code",
   "execution_count": 28,
   "metadata": {},
   "outputs": [
    {
     "name": "stdout",
     "output_type": "stream",
     "text": [
      "enter a: 1\n",
      "enter b: 2\n",
      "enter c: 3\n",
      "enter d: 4\n",
      "5\n",
      "67\n"
     ]
    }
   ],
   "source": [
    "##4.\ttake four number from the user\n",
    "# Do the below operations\n",
    " #(a+b)**2, (c+d)**3\n",
    "#variance\n",
    "#standard deviation: sqrt(variance):  User math module. Math.sqrt(variance)\n",
    "\n",
    "a=raw_input(\"enter a: \")\n",
    "b=raw_input(\"enter b: \")\n",
    "c=raw_input(\"enter c: \")\n",
    "d=raw_input(\"enter d: \")\n",
    "res=int(a)+int(b)**2\n",
    "res1=int(c)+int(d)**3\n",
    "print res\n",
    "print res1\n"
   ]
  },
  {
   "cell_type": "code",
   "execution_count": null,
   "metadata": {
    "collapsed": true
   },
   "outputs": [],
   "source": [
    "##4.\ttake four number from the user\n",
    "# Do the below operations\n",
    " #(a+b)**2, (c+d)**3\n",
    "#variance\n",
    "#standard deviation: sqrt(variance):  User math module. Math.sqrt(variance)\n",
    "\n",
    "a=raw_input(\"enter a: \")\n",
    "b=raw_input(\"enter b: \")\n",
    "c=raw_input(\"enter c: \")\n",
    "d=raw_input(\"enter d: \")\n",
    "res=int(a)+int(b)**2\n",
    "res1=int(c)+int(d)**3\n",
    "print res\n",
    "print res1\n"
   ]
  },
  {
   "cell_type": "code",
   "execution_count": 32,
   "metadata": {},
   "outputs": [
    {
     "name": "stdout",
     "output_type": "stream",
     "text": [
      "enter a: 1\n",
      "enter b: 20\n",
      "enter c: 30\n",
      "enter d: 9\n",
      "The average of given four number is:  251\n"
     ]
    }
   ],
   "source": [
    "##4.Find the average of four numbers\n",
    "a=raw_input(\"enter a: \")\n",
    "b=raw_input(\"enter b: \")\n",
    "c=raw_input(\"enter c: \")\n",
    "d=raw_input(\"enter d: \")\n",
    "avg=int(a)+int(b)+int(c)+int(d)/4*10\n",
    "00\n",
    "print \"The average of given four number is: \",int(avg)"
   ]
  },
  {
   "cell_type": "code",
   "execution_count": 33,
   "metadata": {},
   "outputs": [
    {
     "name": "stdout",
     "output_type": "stream",
     "text": [
      "enter a: 10\n",
      "enter b: 20\n",
      "enter c: 60\n",
      "enter d: 10\n",
      "The sum of given 4 numbers :  100\n"
     ]
    }
   ],
   "source": [
    "#4.Find the sum of four numbers\n",
    "a=raw_input(\"enter a: \")\n",
    "b=raw_input(\"enter b: \")\n",
    "c=raw_input(\"enter c: \")\n",
    "d=raw_input(\"enter d: \")\n",
    "sum=int(a)+int(b)+int(c)+int(d)\n",
    "print \"The sum of given 4 numbers : \",int(sum)\n"
   ]
  },
  {
   "cell_type": "code",
   "execution_count": 37,
   "metadata": {},
   "outputs": [
    {
     "name": "stdout",
     "output_type": "stream",
     "text": [
      "enter km6\n",
      "the total meters for 6  km is:  6000 meters\n"
     ]
    }
   ],
   "source": [
    "## 5.Take the distance in km\n",
    "##Show that in cm, meters, in milli meters, cents, feets\n",
    "\n",
    "km=raw_input(\"enter km\")\n",
    "meters=1000\n",
    "print \"the total meters for\",int(km),\" km is: \",int(km)*meters, \"meters\"\n"
   ]
  },
  {
   "cell_type": "code",
   "execution_count": null,
   "metadata": {
    "collapsed": true
   },
   "outputs": [],
   "source": []
  },
  {
   "cell_type": "code",
   "execution_count": null,
   "metadata": {
    "collapsed": true
   },
   "outputs": [],
   "source": []
  },
  {
   "cell_type": "code",
   "execution_count": null,
   "metadata": {
    "collapsed": true
   },
   "outputs": [],
   "source": []
  },
  {
   "cell_type": "code",
   "execution_count": null,
   "metadata": {
    "collapsed": true
   },
   "outputs": [],
   "source": []
  },
  {
   "cell_type": "code",
   "execution_count": null,
   "metadata": {
    "collapsed": true
   },
   "outputs": [],
   "source": []
  },
  {
   "cell_type": "code",
   "execution_count": null,
   "metadata": {
    "collapsed": true
   },
   "outputs": [],
   "source": []
  }
 ],
 "metadata": {
  "kernelspec": {
   "display_name": "Python 2",
   "language": "python",
   "name": "python2"
  },
  "language_info": {
   "codemirror_mode": {
    "name": "ipython",
    "version": 2
   },
   "file_extension": ".py",
   "mimetype": "text/x-python",
   "name": "python",
   "nbconvert_exporter": "python",
   "pygments_lexer": "ipython2",
   "version": "2.7.14"
  }
 },
 "nbformat": 4,
 "nbformat_minor": 2
}
