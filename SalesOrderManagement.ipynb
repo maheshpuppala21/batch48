{
 "cells": [
  {
   "cell_type": "code",
   "execution_count": null,
   "metadata": {},
   "outputs": [],
   "source": [
    "print \"Welcome to Sales Management\\n\\t1.LOGIN\\n\\t2.REGISTER\\n\\t3.QUIT\"\n",
    "option=raw_input(\"enter an option: \")\n",
    "option=int(option)\n",
    "if option == 3:\n",
    "    print \"You have opted for Quit. Thank you\"\n",
    "if option == 1:\n",
    "    #print \"LOGIN PAGE\"\n",
    "    print \"*\"*12,\"LOGIN PAGE\",\"*\"*12\n",
    "    user_name = raw_input(\"enter user name: \")\n",
    "    password = raw_input(\"enter password: \")\n"
   ]
  },
  {
   "cell_type": "code",
   "execution_count": 2,
   "metadata": {},
   "outputs": [
    {
     "name": "stdout",
     "output_type": "stream",
     "text": [
      "hello123\n"
     ]
    }
   ],
   "source": [
    "print \"hello123\""
   ]
  },
  {
   "cell_type": "code",
   "execution_count": 9,
   "metadata": {},
   "outputs": [
    {
     "name": "stdout",
     "output_type": "stream",
     "text": [
      "Welcome to Sales Management\n",
      "\t1.LOGIN\n",
      "\t2.REGISTER\n",
      "\t3.QUIT\n",
      "enter an option: QUIT\n",
      "You have opted for Quit. Thank you\n"
     ]
    }
   ],
   "source": [
    "print \"Welcome to Sales Management\\n\\t1.LOGIN\\n\\t2.REGISTER\\n\\t3.QUIT\"\n",
    "option=raw_input(\"enter an option: \")\n",
    "if option == \"3\" or option.lower()==\"quit\":\n",
    "    print \"You have opted for Quit. Thank you\"\n",
    "if option == \"1\":\n",
    "    print \"*\"*56\n",
    "    print \"*\"*22,\"LOGIN PAGE\",\"*\"*22\n",
    "    print \"*\"*56\n",
    "    user_name = raw_input(\"enter user name: \")\n",
    "    password = raw_input(\"enter password: \")\n"
   ]
  },
  {
   "cell_type": "code",
   "execution_count": 42,
   "metadata": {},
   "outputs": [
    {
     "name": "stdout",
     "output_type": "stream",
     "text": [
      "Welcome to Sales Management\n",
      "\t1.LOGIN\n",
      "\t2.REGISTER\n",
      "\t3.QUIT\n",
      "enter an option: 3\n",
      "You have opted for Quit. Thank you\n"
     ]
    }
   ],
   "source": [
    "from datetime import date\n",
    "print \"Welcome to Sales Management\\n\\t1.LOGIN\\n\\t2.REGISTER\\n\\t3.QUIT\"\n",
    "option=raw_input(\"enter an option: \")\n",
    "if option == \"3\" or option.lower()==\"quit\":\n",
    "    print \"You have opted for Quit. Thank you\"\n",
    "if option == \"1\":\n",
    "    print \"*\"*56\n",
    "    print \"*\"*22,\"LOGIN PAGE\",\"*\"*22\n",
    "    print \"*\"*56\n",
    "    user_name = raw_input(\"enter user name: \")\n",
    "    password = raw_input(\"enter password: \")\n"
   ]
  },
  {
   "cell_type": "code",
   "execution_count": 19,
   "metadata": {},
   "outputs": [
    {
     "name": "stdout",
     "output_type": "stream",
     "text": [
      "Welcome to Sales Management\n",
      "\t1.LOGIN\n",
      "\t2.REGISTER\n",
      "\t3.QUIT\n",
      "enter an option: 3\n",
      "You have opted for Quit. Thank you\n"
     ]
    }
   ],
   "source": [
    "\n",
    "print \"Welcome to Sales Management\\n\\t1.LOGIN\\n\\t2.REGISTER\\n\\t3.QUIT\"\n",
    "option=raw_input(\"enter an option: \")\n",
    "if option == \"3\" or option.lower()==\"quit\":\n",
    "    print \"You have opted for Quit. Thank you\"\n",
    "if option == \"1\" or option.lower()==\"login\":\n",
    "    print \"*\"*56\n",
    "    print \"*\"*22,\"LOGIN PAGE\",\"*\"*22\n",
    "    print \"*\"*56\n",
    "    user_name = raw_input(\"enter user name: \")\n",
    "    password = raw_input(\"enter password: \")\n",
    "if option == \"2\" or option.lower()==\"register\":\n",
    "    print \"*\"*56\n",
    "    print \"           WELCOME TO REGISTRATION PAGE\"\n",
    "    print \"*\"*56\n",
    "\n"
   ]
  },
  {
   "cell_type": "code",
   "execution_count": 20,
   "metadata": {
    "collapsed": true
   },
   "outputs": [],
   "source": [
    "import sqlite3"
   ]
  },
  {
   "cell_type": "code",
   "execution_count": 22,
   "metadata": {},
   "outputs": [
    {
     "ename": "NameError",
     "evalue": "name 'salesmanagement_db' is not defined",
     "output_type": "error",
     "traceback": [
      "\u001b[1;31m---------------------------------------------------------------------------\u001b[0m",
      "\u001b[1;31mNameError\u001b[0m                                 Traceback (most recent call last)",
      "\u001b[1;32m<ipython-input-22-f9f1c780f47e>\u001b[0m in \u001b[0;36m<module>\u001b[1;34m()\u001b[0m\n\u001b[1;32m----> 1\u001b[1;33m \u001b[0mconn\u001b[0m\u001b[1;33m=\u001b[0m\u001b[0msqlite3\u001b[0m\u001b[1;33m.\u001b[0m\u001b[0mconnect\u001b[0m\u001b[1;33m(\u001b[0m\u001b[0msalesmanagement_db\u001b[0m\u001b[1;33m.\u001b[0m\u001b[0mdb\u001b[0m\u001b[1;33m)\u001b[0m\u001b[1;33m\u001b[0m\u001b[0m\n\u001b[0m",
      "\u001b[1;31mNameError\u001b[0m: name 'salesmanagement_db' is not defined"
     ]
    }
   ],
   "source": [
    "    conn=sqlite3.connect(salesmanagement_db.db)"
   ]
  },
  {
   "cell_type": "code",
   "execution_count": 23,
   "metadata": {
    "collapsed": true
   },
   "outputs": [],
   "source": [
    "conn=sqlite3.connect(\"salesmanagement_db.db\")"
   ]
  },
  {
   "cell_type": "code",
   "execution_count": 25,
   "metadata": {},
   "outputs": [],
   "source": [
    "cur=conn.cursor()"
   ]
  },
  {
   "cell_type": "code",
   "execution_count": 26,
   "metadata": {},
   "outputs": [
    {
     "data": {
      "text/plain": [
       "<sqlite3.Cursor at 0x5d6f030>"
      ]
     },
     "execution_count": 26,
     "metadata": {},
     "output_type": "execute_result"
    }
   ],
   "source": [
    "cur.execute(\"create table CUSTOMER(Name VARCHAR2(50),pin code NUMBER,city VARCHAR2(20),state VARCHAR2(20),\\\n",
    "country VARCHAR2(20),email VARCHAR2(30),phone VARCHAR2(10),password VARCHAR2(20),creat_ts date,role VARCHAR2(10))\")"
   ]
  },
  {
   "cell_type": "code",
   "execution_count": 53,
   "metadata": {},
   "outputs": [
    {
     "name": "stdout",
     "output_type": "stream",
     "text": [
      "<type 'datetime.date'>\n"
     ]
    }
   ],
   "source": [
    "from datetime import datetime\n",
    "now=date.today()\n",
    "print type(now)"
   ]
  },
  {
   "cell_type": "code",
   "execution_count": 62,
   "metadata": {},
   "outputs": [
    {
     "ename": "SyntaxError",
     "evalue": "invalid syntax (<ipython-input-62-ac756342a157>, line 3)",
     "output_type": "error",
     "traceback": [
      "\u001b[1;36m  File \u001b[1;32m\"<ipython-input-62-ac756342a157>\"\u001b[1;36m, line \u001b[1;32m3\u001b[0m\n\u001b[1;33m    cur.execute(\"insert into CUSTOMER values(\"mahesh\",\"232424\",\"HYD\",\"TELANGANA\",\"IND\",\"mahesh21@gmail.com\",\"9000284833\",\"rajaiah@1\",date.today(),\"CUSTOMER\")\")\u001b[0m\n\u001b[1;37m                                                   ^\u001b[0m\n\u001b[1;31mSyntaxError\u001b[0m\u001b[1;31m:\u001b[0m invalid syntax\n"
     ]
    }
   ],
   "source": [
    "try:\n",
    "    from datetime import datetime\n",
    "    cur.execute(\"insert into CUSTOMER values(\"mahesh\",50053,\"HYD5\",\"TELANGANA\",\"IND\",\"mahesh21@gmail.com\",\"9000284833\",\"rajaiah@1\",date.today(),\"CUSTOMER\")\")\n",
    "except:\n",
    "    print \"error\"\n",
    "\n"
   ]
  },
  {
   "cell_type": "code",
   "execution_count": null,
   "metadata": {
    "collapsed": true
   },
   "outputs": [],
   "source": []
  }
 ],
 "metadata": {
  "kernelspec": {
   "display_name": "Python 2",
   "language": "python",
   "name": "python2"
  },
  "language_info": {
   "codemirror_mode": {
    "name": "ipython",
    "version": 2
   },
   "file_extension": ".py",
   "mimetype": "text/x-python",
   "name": "python",
   "nbconvert_exporter": "python",
   "pygments_lexer": "ipython2",
   "version": "2.7.14"
  }
 },
 "nbformat": 4,
 "nbformat_minor": 2
}
