{
 "cells": [
  {
   "cell_type": "code",
   "execution_count": 1,
   "metadata": {},
   "outputs": [
    {
     "name": "stdout",
     "output_type": "stream",
     "text": [
      "enter number of a: 7\n",
      "1\n",
      "2\n",
      "3\n",
      "4\n",
      "5\n",
      "6\n"
     ]
    }
   ],
   "source": [
    "#WAP to check given number is prime number or not\n",
    "a=int(raw_input(\"enter number of a: \"))\n",
    "for i in range(1,a):\n",
    "    print i\n",
    "\n"
   ]
  },
  {
   "cell_type": "code",
   "execution_count": 5,
   "metadata": {},
   "outputs": [
    {
     "name": "stdout",
     "output_type": "stream",
     "text": [
      "enter number of a: 7\n",
      "0\n"
     ]
    }
   ],
   "source": [
    "#WAP to check given number is prime number or not\n",
    "a=int(raw_input(\"enter number of a: \"))\n",
    "cnt=0\n",
    "for i in range(1,a):\n",
    "    if i%a==0:\n",
    "        cnt=cnt+1\n",
    "print cnt\n",
    "\n"
   ]
  },
  {
   "cell_type": "code",
   "execution_count": 4,
   "metadata": {},
   "outputs": [
    {
     "name": "stdout",
     "output_type": "stream",
     "text": [
      "True\n",
      "True\n",
      "True\n",
      "True\n",
      "True\n",
      "True\n",
      "True\n",
      "True\n",
      "True\n",
      "True\n"
     ]
    }
   ],
   "source": [
    "for i in range(10):\n",
    "    print "
   ]
  },
  {
   "cell_type": "code",
   "execution_count": 6,
   "metadata": {},
   "outputs": [
    {
     "name": "stdout",
     "output_type": "stream",
     "text": [
      "enter number of a: 7\n",
      "1\n"
     ]
    }
   ],
   "source": [
    "#WAP to check given number is prime number or not\n",
    "a=int(raw_input(\"enter number of a: \"))\n",
    "cnt=0\n",
    "for i in range(1,a):\n",
    "    if a%i==0:\n",
    "        cnt=cnt+1\n",
    "print cnt\n",
    "\n"
   ]
  },
  {
   "cell_type": "code",
   "execution_count": 19,
   "metadata": {},
   "outputs": [
    {
     "name": "stdout",
     "output_type": "stream",
     "text": [
      "enter number of a: 7\n",
      "2\n",
      "given number is prime: 7\n"
     ]
    }
   ],
   "source": [
    "#WAP to check given number is prime number or not\n",
    "a=int(raw_input(\"enter number of a: \"))\n",
    "cnt=0\n",
    "for i in range(1,a+1):\n",
    "    if a%i==0:\n",
    "        cnt=cnt+1\n",
    "print cnt\n",
    "if cnt==2:\n",
    "    print \"given number is prime:\",a\n",
    "else:\n",
    "    print \"given number is not prime:\",a\n",
    "\n"
   ]
  },
  {
   "cell_type": "code",
   "execution_count": 24,
   "metadata": {},
   "outputs": [
    {
     "name": "stdout",
     "output_type": "stream",
     "text": [
      "enter number of a: 200\n",
      "a= 200 i= 1\n",
      "a= 200 i= 2\n",
      "a= 200 i= 4\n",
      "a= 200 i= 5\n",
      "a= 200 i= 8\n",
      "a= 200 i= 10\n",
      "a= 200 i= 20\n",
      "a= 200 i= 25\n",
      "a= 200 i= 40\n",
      "a= 200 i= 50\n",
      "a= 200 i= 100\n",
      "a= 200 i= 200\n",
      "12\n",
      "Given number is not prime: 200\n"
     ]
    }
   ],
   "source": [
    "#WAP to check given number is prime number or not\n",
    "a=int(raw_input(\"enter number of a: \"))\n",
    "cnt=0\n",
    "for i in range(1,a+1):\n",
    "    if a%i==0:\n",
    "        print \"a=\",a,\"i=\",i\n",
    "        cnt=cnt+1\n",
    "print cnt\n",
    "if cnt==2:\n",
    "    print \"Given number is prime:\",a\n",
    "else:\n",
    "    print \"Given number is not prime:\",a\n",
    "\n"
   ]
  },
  {
   "cell_type": "code",
   "execution_count": 26,
   "metadata": {},
   "outputs": [
    {
     "name": "stdout",
     "output_type": "stream",
     "text": [
      "enter number of a: 99\n",
      "a= 99 i= 1\n",
      "a= 99 i= 3\n",
      "a= 99 i= 9\n",
      "a= 99 i= 11\n",
      "a= 99 i= 33\n",
      "a= 99 i= 99\n",
      "4\n",
      "Given number is not prime: 99\n"
     ]
    }
   ],
   "source": [
    "#WAP to check given number is prime number or not\n",
    "a=int(raw_input(\"enter number of a: \"))\n",
    "fac_cnt=0\n",
    "for i in range(1,a+1):\n",
    "    if a%i==0:\n",
    "        print \"a=\",a,\"i=\",i\n",
    "        fac_cnt=cnt+1\n",
    "print fac_cnt\n",
    "if fac_cnt==2:\n",
    "    print \"Given number is prime:\",a\n",
    "else:\n",
    "    print \"Given number is not prime:\",a"
   ]
  },
  {
   "cell_type": "code",
   "execution_count": 28,
   "metadata": {},
   "outputs": [
    {
     "name": "stdout",
     "output_type": "stream",
     "text": [
      "enter number of a: 3\n",
      "0\n",
      "Given number is prime: 3\n"
     ]
    }
   ],
   "source": [
    "#the above program does not look good becoz every number is divisible by 1 and itself\n",
    "#WAP to check given number is prime number or not\n",
    "a=int(raw_input(\"enter number of a: \"))\n",
    "fac_cnt=0\n",
    "for i in range(2,a):\n",
    "    if a%i==0:\n",
    "        print \"a=\",a,\"i=\",i\n",
    "        fac_cnt=cnt+1\n",
    "print fac_cnt\n",
    "if fac_cnt==0:\n",
    "    print \"Given number is prime:\",a\n",
    "else:\n",
    "    print \"Given number is not prime:\",a\n"
   ]
  },
  {
   "cell_type": "code",
   "execution_count": 29,
   "metadata": {},
   "outputs": [
    {
     "name": "stdout",
     "output_type": "stream",
     "text": [
      "enter number of a: 1\n",
      "Given number is not prime: 1\n"
     ]
    }
   ],
   "source": [
    "#the above program does not look good becoz every number is divisible by 1 and itself\n",
    "a=int(raw_input(\"enter number of a: \"))\n",
    "fac_cnt=0\n",
    "if a>1:\n",
    "    for i in range(2,a):\n",
    "        if a%i==0:\n",
    "            print \"a=\",a,\"i=\",i\n",
    "            fac_cnt=cnt+1\n",
    "    print fac_cnt\n",
    "    if fac_cnt==0:\n",
    "        print \"Given number is prime:\",a\n",
    "    else:\n",
    "        print \"Given number is not prime:\",a\n",
    "else:\n",
    "    print \"Given number is not prime:\",a"
   ]
  },
  {
   "cell_type": "code",
   "execution_count": 35,
   "metadata": {},
   "outputs": [
    {
     "name": "stdout",
     "output_type": "stream",
     "text": [
      "enter number of a: 1\n",
      "Given number is not prime: 1\n"
     ]
    }
   ],
   "source": [
    "#the above program does not look good becoz every number is divisible by 1 and itself\n",
    "#the below program will reduce performance using break keyword\n",
    "a=int(raw_input(\"enter number of a: \"))\n",
    "fac_cnt=0\n",
    "if a>1:\n",
    "    for i in range(2,a):\n",
    "        if a%i==0:\n",
    "            print \"a=\",a,\"i=\",i\n",
    "            fac_cnt=cnt+1\n",
    "            break\n",
    "    print fac_cnt\n",
    "    if fac_cnt==0:\n",
    "        print \"Given number is prime:\",a\n",
    "    else:\n",
    "        print \"Given number is not prime:\",a\n",
    "else:\n",
    "    print \"Given number is not prime:\",a"
   ]
  },
  {
   "cell_type": "code",
   "execution_count": 37,
   "metadata": {},
   "outputs": [
    {
     "name": "stdout",
     "output_type": "stream",
     "text": [
      "p\n",
      "y\n",
      "t\n",
      "h\n",
      "o\n",
      "n\n",
      "else block\n"
     ]
    }
   ],
   "source": [
    "for i in \"python\":\n",
    "    if i==\"z\":\n",
    "        break\n",
    "    print i\n",
    "else:\n",
    "    print \"else block\""
   ]
  },
  {
   "cell_type": "code",
   "execution_count": 38,
   "metadata": {},
   "outputs": [
    {
     "name": "stdout",
     "output_type": "stream",
     "text": [
      "p\n",
      "y\n",
      "t\n"
     ]
    }
   ],
   "source": [
    "for i in \"python\":\n",
    "    if i==\"h\":\n",
    "        break\n",
    "    print i\n",
    "else:\n",
    "    print \"else block\""
   ]
  },
  {
   "cell_type": "code",
   "execution_count": 52,
   "metadata": {},
   "outputs": [
    {
     "name": "stdout",
     "output_type": "stream",
     "text": [
      "enter number of a: 2\n",
      "given number is prime\n"
     ]
    }
   ],
   "source": [
    "#the above program does not look good becoz every number is divisible by 1 and itself\n",
    "#the below program will reduce performance using break keyword \n",
    "#not using fac_cnt variable\n",
    "a=int(raw_input(\"enter number of a: \"))\n",
    "if a>1:\n",
    "    for i in range(2,a):\n",
    "        if a%i==0:\n",
    "            print \"given number is not prime\"\n",
    "            break\n",
    "    else:   #when for loop completes all iteration then it comes to for else\n",
    "        print \"given number is prime\"\n",
    "else:\n",
    "    print \"Given number is not prime:\",a"
   ]
  },
  {
   "cell_type": "code",
   "execution_count": null,
   "metadata": {
    "collapsed": true
   },
   "outputs": [],
   "source": [
    "a=int(raw_input(\"enter number:\"))\n",
    "z=27"
   ]
  },
  {
   "cell_type": "code",
   "execution_count": 60,
   "metadata": {},
   "outputs": [
    {
     "name": "stdout",
     "output_type": "stream",
     "text": [
      "enter number of a: 454341\n",
      "given number is not prime\n"
     ]
    }
   ],
   "source": [
    "#the above program does not look good becoz every number is divisible by 1 and itself\n",
    "#the below program will reduce performance using break keyword \n",
    "#not using fac_cnt variable \n",
    "#the below program is final stmt\n",
    "a=int(raw_input(\"enter number of a: \"))\n",
    "if a>1:\n",
    "    for i in range(2,a/2):\n",
    "        if a%i==0:\n",
    "            print \"given number is not prime\"\n",
    "            break\n",
    "    else:   #when for loop completes all iteration then it comes to for else\n",
    "        print \"given number is prime\"\n",
    "else:\n",
    "    print \"Given number is not prime:\",a"
   ]
  },
  {
   "cell_type": "code",
   "execution_count": 62,
   "metadata": {},
   "outputs": [
    {
     "name": "stdout",
     "output_type": "stream",
     "text": [
      "10000000\n"
     ]
    }
   ],
   "source": [
    "#WAP to multiply 2 numbers and whether it is sclable\n",
    "print 10*1000000"
   ]
  },
  {
   "cell_type": "code",
   "execution_count": null,
   "metadata": {
    "collapsed": true
   },
   "outputs": [],
   "source": []
  }
 ],
 "metadata": {
  "kernelspec": {
   "display_name": "Python 2",
   "language": "python",
   "name": "python2"
  },
  "language_info": {
   "codemirror_mode": {
    "name": "ipython",
    "version": 2
   },
   "file_extension": ".py",
   "mimetype": "text/x-python",
   "name": "python",
   "nbconvert_exporter": "python",
   "pygments_lexer": "ipython2",
   "version": "2.7.14"
  }
 },
 "nbformat": 4,
 "nbformat_minor": 2
}
