{
 "cells": [
  {
   "cell_type": "code",
   "execution_count": 6,
   "metadata": {},
   "outputs": [
    {
     "name": "stdout",
     "output_type": "stream",
     "text": [
      "enter a number: 455\n",
      "Given number is odd number\n"
     ]
    }
   ],
   "source": [
    "#7.\t Take number from the user decide whether it is even or odd.\n",
    "num=raw_input(\"enter a number: \")\n",
    "num=int(num)\n",
    "if num%2==0:\n",
    "    print \"Given number is even number\"\n",
    "else:\n",
    "    print \"Given number is odd number\"\n",
    "    \n",
    "    \n"
   ]
  },
  {
   "cell_type": "code",
   "execution_count": 14,
   "metadata": {},
   "outputs": [
    {
     "name": "stdout",
     "output_type": "stream",
     "text": [
      "Please enter a integer number: 34567\n",
      "Given number is odd number\n"
     ]
    }
   ],
   "source": [
    "####7.\t Take number from the user decide whether it is even or odd.\n",
    "num=raw_input(\"Please enter a integer number: \")\n",
    "num=int(num)\n",
    "if num%2==0:\n",
    "    print \"Given number is even number\"\n",
    "else:\n",
    "    print \"Given number is odd number\"\n",
    "    \n",
    "    \n"
   ]
  },
  {
   "cell_type": "code",
   "execution_count": 24,
   "metadata": {},
   "outputs": [
    {
     "name": "stdout",
     "output_type": "stream",
     "text": [
      "Please enter a number: -2\n",
      "given number is negative number\n"
     ]
    }
   ],
   "source": [
    "##8.\ttake number from the user decide whether it is positive number or negative number\n",
    "num=raw_input(\"Please enter a number: \")\n",
    "num=float(num)\n",
    "if num > 0:\n",
    "    print \"given number is positive number\"\n",
    "else:\n",
    "    print \"given number is negative number\"\n",
    "\n",
    "\n",
    "\n"
   ]
  },
  {
   "cell_type": "code",
   "execution_count": 26,
   "metadata": {},
   "outputs": [
    {
     "name": "stdout",
     "output_type": "stream",
     "text": [
      "Please enter a number: -20\n",
      "given number is negative number\n"
     ]
    }
   ],
   "source": [
    "##8.\ttake number from the user decide whether it is positive number or negative number\n",
    "num=raw_input(\"Please enter a number: \")\n",
    "num=float(num)\n",
    "if num == 0:\n",
    "    print \"given number is Zero\"\n",
    "if num > 0:\n",
    "    print \"given number is positive number\"\n",
    "else:\n",
    "    print \"given number is negative number\"\n",
    "\n",
    "\n",
    "\n"
   ]
  },
  {
   "cell_type": "code",
   "execution_count": 28,
   "metadata": {},
   "outputs": [
    {
     "name": "stdout",
     "output_type": "stream",
     "text": [
      "Please enter a number: 23434535.554545464\n",
      "given number is positive number\n"
     ]
    }
   ],
   "source": [
    "##8.\ttake number from the user decide whether it is positive number or negative number\n",
    "num=raw_input(\"Please enter a number: \")\n",
    "num=float(num)\n",
    "if num == 0:\n",
    "    print \"given number is Zero\"\n",
    "if num > 0:\n",
    "    print \"given number is positive number\"\n",
    "else:\n",
    "    print \"given number is negative number\"\n",
    "\n",
    "\n",
    "\n"
   ]
  },
  {
   "cell_type": "code",
   "execution_count": 29,
   "metadata": {},
   "outputs": [
    {
     "name": "stdout",
     "output_type": "stream",
     "text": [
      "Please enter a number: -3434343.545345\n",
      "given number is negative number\n"
     ]
    }
   ],
   "source": [
    "##8.\ttake number from the user decide whether it is positive number or negative number\n",
    "num=raw_input(\"Please enter a number: \")\n",
    "num=float(num)\n",
    "if num == 0:\n",
    "    print \"given number is Zero\"\n",
    "if num > 0:\n",
    "    print \"given number is positive number\"\n",
    "else:\n",
    "    print \"given number is negative number\"\n",
    "\n",
    "\n",
    "\n"
   ]
  },
  {
   "cell_type": "code",
   "execution_count": 31,
   "metadata": {},
   "outputs": [
    {
     "name": "stdout",
     "output_type": "stream",
     "text": [
      "Please enter a number: 0\n",
      "given number is negative number\n",
      "given number is Zero\n"
     ]
    }
   ],
   "source": [
    "##8.\ttake number from the user decide whether it is positive number or negative number\n",
    "##We cannot write condition in else block of if else statement\n",
    "num=raw_input(\"Please enter a number: \")\n",
    "num=float(num)\n",
    "if num > 0:\n",
    "    print \"given number is positive number\"\n",
    "else:\n",
    "    print \"given number is negative number\"\n",
    "if num == 0:\n",
    "    print \"given number is Zero\"\n",
    "\n",
    "##We cannot write condition in else block of if else statement###############\n",
    "\n"
   ]
  },
  {
   "cell_type": "code",
   "execution_count": 33,
   "metadata": {},
   "outputs": [
    {
     "name": "stdout",
     "output_type": "stream",
     "text": [
      "Please enter a number: 0\n",
      "given number is Zero\n"
     ]
    }
   ],
   "source": [
    "##8.\ttake number from the user decide whether it is positive number or negative number\n",
    "##We cannot write condition in else block of if else statement, so we can write elif block\n",
    "num=raw_input(\"Please enter a number: \")\n",
    "num=float(num)\n",
    "if num > 0:\n",
    "    print \"given number is positive number\"\n",
    "elif num == 0:\n",
    "    print \"given number is Zero\"\n",
    "else:\n",
    "    print \"given number is Negative Number\"\n",
    "\n",
    "\n",
    "\n"
   ]
  },
  {
   "cell_type": "code",
   "execution_count": 34,
   "metadata": {},
   "outputs": [
    {
     "name": "stdout",
     "output_type": "stream",
     "text": [
      "Please enter a number: -354.45454\n",
      "given number is Negative Number\n"
     ]
    }
   ],
   "source": [
    "##8.\ttake number from the user decide whether it is positive number or negative number\n",
    "##We cannot write condition in else block of if else statement, so we can write elif block\n",
    "num=raw_input(\"Please enter a number: \")\n",
    "num=float(num)\n",
    "if num > 0:\n",
    "    print \"given number is positive number\"\n",
    "elif num == 0:\n",
    "    print \"given number is Zero\"\n",
    "else:\n",
    "    print \"given number is Negative Number\"\n",
    "\n",
    "\n",
    "\n"
   ]
  },
  {
   "cell_type": "code",
   "execution_count": 36,
   "metadata": {},
   "outputs": [
    {
     "name": "stdout",
     "output_type": "stream",
     "text": [
      "enter any string: Mahesh kumar puppala\n",
      "the lenth of given string is: 20\n"
     ]
    }
   ],
   "source": [
    "###9.\ttake a string from the user print the length. if the user not given anything then show an error message\n",
    "name=raw_input(\"enter any string: \")\n",
    "if len(name)==0:\n",
    "    print \"Error message: string not given\"\n",
    "else:\n",
    "    print \"the lenth of given string is:\",len(name)"
   ]
  },
  {
   "cell_type": "code",
   "execution_count": 39,
   "metadata": {},
   "outputs": [
    {
     "name": "stdout",
     "output_type": "stream",
     "text": [
      "enter any string: Python programming Language\n",
      "the lenth of given string is: 27\n"
     ]
    }
   ],
   "source": [
    "###9.\ttake a string from the user print the length. if the user not given anything then show an error message\n",
    "name=raw_input(\"enter any string: \")\n",
    "if len(name)==0:\n",
    "    print \"Error message: string not given\"\n",
    "else:\n",
    "    print \"the lenth of given string is:\",len(name)"
   ]
  },
  {
   "cell_type": "code",
   "execution_count": 40,
   "metadata": {},
   "outputs": [
    {
     "name": "stdout",
     "output_type": "stream",
     "text": [
      "enter any string: 0\n",
      "the lenth of given string is: 1\n"
     ]
    }
   ],
   "source": [
    "###9.\ttake a string from the user print the length. if the user not given anything then show an error message\n",
    "name=raw_input(\"enter any string: \")\n",
    "if len(name)==0:\n",
    "    print \"Error message: string not given\"\n",
    "else:\n",
    "    print \"the lenth of given string is:\",len(name)"
   ]
  },
  {
   "cell_type": "code",
   "execution_count": 41,
   "metadata": {},
   "outputs": [
    {
     "name": "stdout",
     "output_type": "stream",
     "text": [
      "enter any string: \n",
      "Error message: string not given\n"
     ]
    }
   ],
   "source": [
    "###9.\ttake a string from the user print the length. if the user not given anything then show an error message\n",
    "name=raw_input(\"enter any string: \")\n",
    "if len(name)==0:\n",
    "    print \"Error message: string not given\"\n",
    "else:\n",
    "    print \"the lenth of given string is:\",len(name)\n"
   ]
  },
  {
   "cell_type": "code",
   "execution_count": 44,
   "metadata": {},
   "outputs": [
    {
     "name": "stdout",
     "output_type": "stream",
     "text": [
      "enter any string: \n",
      "Value Error: string not given\n"
     ]
    }
   ],
   "source": [
    "###9.\ttake a string from the user print the length. if the user not given anything then show an error message\n",
    "name=raw_input(\"enter any string: \")\n",
    "if len(name)==0:\n",
    "    print \"Value Error: string not given\"\n",
    "else:\n",
    "    print \"the lenth of given string is:\",len(name)\n"
   ]
  },
  {
   "cell_type": "code",
   "execution_count": 49,
   "metadata": {},
   "outputs": [
    {
     "name": "stdout",
     "output_type": "stream",
     "text": [
      "Code to perfrom mathematical Operation\n",
      "\t1.Add\n",
      "\t2.Sub\n",
      "\t3.Mul\n",
      "\t4.Div\n",
      "\t5.Quit\n",
      "enter first number: 20\n",
      "enter second number: 10\n",
      "enter any Options of mathematical operation as above: 5\n",
      "Error: Please Enter above selected options\n"
     ]
    },
    {
     "ename": "SyntaxError",
     "evalue": "'break' outside loop (<ipython-input-49-242580aa039c>, line 21)",
     "output_type": "error",
     "traceback": [
      "\u001b[1;36m  File \u001b[1;32m\"<ipython-input-49-242580aa039c>\"\u001b[1;36m, line \u001b[1;32m21\u001b[0m\n\u001b[1;33m    break\u001b[0m\n\u001b[1;31mSyntaxError\u001b[0m\u001b[1;31m:\u001b[0m 'break' outside loop\n"
     ]
    }
   ],
   "source": [
    "##10.code to perform mathematical operations. take two numbers from the user: 1. add, 2. sub, 3. mul, 4.div, 5.quit\n",
    "print(\"Code to perfrom mathematical Operation\\n\\t1.Add\\n\\t2.Sub\\n\\t3.Mul\\n\\t4.Div\\n\\t5.Quit\")\n",
    "num1=int(raw_input(\"enter first number: \"))\n",
    "num2=int(raw_input(\"enter second number: \"))\n",
    "user=int(raw_input(\"enter any Options of mathematical operation as above: \"))\n",
    "if  user == 1:\n",
    "    c=num1+num2\n",
    "    print \"the addition of 2 numbers is: \",c\n",
    "if user == 2:\n",
    "    c=num1-num2\n",
    "    print \"the subtration of 2 numbers is: \",c\n",
    "if user == 3:\n",
    "    c=num1*num2\n",
    "    print \"the multiplication of 2 numbers is: \",c\n",
    "if user == 4:\n",
    "    c=num1/num2\n",
    "    print \"the division of 2 numbers is: \",c\n",
    "if user != 1 and user != 2 and user != 3 and user != 4:\n",
    "    print \"Error: Please Enter above selected options\"\n",
    "if user == 5:\n",
    "    break\n",
    "break"
   ]
  },
  {
   "cell_type": "code",
   "execution_count": 4,
   "metadata": {},
   "outputs": [
    {
     "name": "stdout",
     "output_type": "stream",
     "text": [
      "Code to perfrom mathematical Operation\n",
      "\t1.Add\n",
      "\t2.Sub\n",
      "\t3.Mul\n",
      "\t4.Div\n",
      "\t5.Quit\n",
      "enter any Options of mathematical operation as above: 1\n",
      "enter first number: 20\n",
      "enter second number: 10\n",
      "the addition of 2 numbers is:  30\n"
     ]
    }
   ],
   "source": [
    "##10.code to perform mathematical operations. take two numbers from the user: 1. add, 2. sub, 3. mul, 4.div, 5.quit\n",
    "print(\"Code to perfrom mathematical Operation\\n\\t1.Add\\n\\t2.Sub\\n\\t3.Mul\\n\\t4.Div\\n\\t5.Quit\")\n",
    "user=int(raw_input(\"enter any Options of mathematical operation as above: \"))\n",
    "num1=int(raw_input(\"enter first number: \"))\n",
    "num2=int(raw_input(\"enter second number: \"))\n",
    "if  user == 1:\n",
    "    c=num1+num2\n",
    "    print \"the addition of 2 numbers is: \",c\n",
    "if user == 2:\n",
    "    c=num1-num2\n",
    "    print \"the subtration of 2 numbers is: \",c\n",
    "if user == 3:\n",
    "    c=num1*num2\n",
    "    print \"the multiplication of 2 numbers is: \",c\n",
    "if user == 4:\n",
    "    c=num1/num2\n",
    "    print \"the division of 2 numbers is: \",c\n",
    "if user != 1 and user != 2 and user != 3 and user != 4:\n",
    "    print \"Error: Please Enter only selected options\"\n"
   ]
  },
  {
   "cell_type": "code",
   "execution_count": 8,
   "metadata": {},
   "outputs": [
    {
     "name": "stdout",
     "output_type": "stream",
     "text": [
      "Code to perfrom mathematical Operation\n",
      "\t1.Add\n",
      "\t2.Sub\n",
      "\t3.Mul\n",
      "\t4.Div\n",
      "\t5.Quit\n",
      "enter any Options of mathematical operation as above: 3\n",
      "enter first number: 20\n",
      "enter second number: 30\n",
      "the multiplication of 2 numbers is:  600\n"
     ]
    }
   ],
   "source": [
    "##10.code to perform mathematical operations. take two numbers from the user: 1. add, 2. sub, 3. mul, 4.div, 5.quit\n",
    "print(\"Code to perfrom mathematical Operation\\n\\t1.Add\\n\\t2.Sub\\n\\t3.Mul\\n\\t4.Div\\n\\t5.Quit\")\n",
    "user=int(raw_input(\"enter any Options of mathematical operation as above: \"))\n",
    "num1=int(raw_input(\"enter first number: \"))\n",
    "num2=int(raw_input(\"enter second number: \"))\n",
    "if  user == 1:\n",
    "    c=num1+num2\n",
    "    print \"the addition of 2 numbers is: \",c\n",
    "if user == 2:\n",
    "    c=num1-num2\n",
    "    print \"the subtration of 2 numbers is: \",c\n",
    "if user == 3:\n",
    "    c=num1*num2\n",
    "    print \"the multiplication of 2 numbers is: \",c\n",
    "if user == 4:\n",
    "    c=num1/num2\n",
    "    print \"the division of 2 numbers is: \",c\n",
    "if user != 1 and user != 2 and user != 3 and user != 4:\n",
    "    print \"Error: Please Enter only selected options\"\n",
    "\n"
   ]
  },
  {
   "cell_type": "code",
   "execution_count": 18,
   "metadata": {},
   "outputs": [
    {
     "name": "stdout",
     "output_type": "stream",
     "text": [
      "Code to perfrom mathematical Operation\n",
      "\t1.Add\n",
      "\t2.Sub\n",
      "\t3.Mul\n",
      "\t4.Div\n",
      "\t5.Quit\n",
      "enter any Options of mathematical operation as above: 3\n",
      "enter first number: 22.4\n",
      "enter second number: 1.2\n",
      "the multiplication of 2 numbers is:  26.88\n"
     ]
    }
   ],
   "source": [
    "##10.code to perform mathematical operations. take two numbers from the user: 1. add, 2. sub, 3. mul, 4.div, 5.quit\n",
    "print(\"Code to perfrom mathematical Operation\\n\\t1.Add\\n\\t2.Sub\\n\\t3.Mul\\n\\t4.Div\\n\\t5.Quit\")\n",
    "user=int(raw_input(\"enter any Options of mathematical operation as above: \"))\n",
    "num1=float(raw_input(\"enter first number: \"))\n",
    "num2=float(raw_input(\"enter second number: \"))\n",
    "if  user == 1:\n",
    "    c=num1+num2\n",
    "    print \"the addition of 2 numbers is: \",float(c)\n",
    "if user == 2:\n",
    "    c=num1-num2\n",
    "    print \"the subtration of 2 numbers is: \",float(c)\n",
    "if user == 3:\n",
    "    c=num1*num2\n",
    "    print \"the multiplication of 2 numbers is: \",float(c)\n",
    "if user == 4:\n",
    "    c=num1/num2\n",
    "    print \"the division of 2 numbers is : \",float(c)\n",
    "if user != 1 and user != 2 and user != 3 and user != 4:\n",
    "    print \"Error: Please Enter only selected options\"\n",
    "\n"
   ]
  },
  {
   "cell_type": "code",
   "execution_count": 23,
   "metadata": {},
   "outputs": [
    {
     "name": "stdout",
     "output_type": "stream",
     "text": [
      "Code to perfrom mathematical Operation\n",
      "\t1.Add\n",
      "\t2.Sub\n",
      "\t3.Mul\n",
      "\t4.Div\n",
      "\t5.Quit\n",
      "enter any Options of mathematical operation as above: 5\n",
      "enter first number: 20\n",
      "enter second number: 30\n",
      "Error: Please Enter only selected options\n"
     ]
    }
   ],
   "source": [
    "##10.code to perform mathematical operations. take two numbers from the user: 1. add, 2. sub, 3. mul, 4.div, 5.quit\n",
    "print(\"Code to perfrom mathematical Operation\\n\\t1.Add\\n\\t2.Sub\\n\\t3.Mul\\n\\t4.Div\\n\\t5.Quit\")\n",
    "user=int(raw_input(\"enter any Options of mathematical operation as above: \"))\n",
    "num1=float(raw_input(\"enter first number: \"))\n",
    "num2=float(raw_input(\"enter second number: \"))\n",
    "if  user == 1:\n",
    "    c=num1+num2\n",
    "    print \"the addition of 2 numbers is: \",float(c)\n",
    "if user == 2:\n",
    "    c=num1-num2\n",
    "    print \"the subtration of 2 numbers is: \",float(c)\n",
    "if user == 3:\n",
    "    c=num1*num2\n",
    "    print \"the multiplication of 2 numbers is: \",float(c)\n",
    "if user == 4:\n",
    "    c=num1/num2\n",
    "    print \"the division of 2 numbers is : \",float(c)\n",
    "if user != 1 and user != 2 and user != 3 and user != 4:\n",
    "    print \"Error: Please Enter only selected options\"\n",
    "\n"
   ]
  },
  {
   "cell_type": "code",
   "execution_count": 28,
   "metadata": {},
   "outputs": [
    {
     "name": "stdout",
     "output_type": "stream",
     "text": [
      "Please select the below Options: \n",
      "\t1.Kids\n",
      "\t2.Men's\n",
      "\t3.Women's\n",
      "enter any of the options shown: 3\n",
      "You have selected Women's wear related iteam, Please go to the 3rd Foor\n",
      "Thank you! Visit Again\n"
     ]
    }
   ],
   "source": [
    "##11. show the menu:\n",
    "  ## \t\t 1. kids\n",
    "    ##\t\t2. Men's\n",
    "   ##\t\t 3. Women's\n",
    "    ##Show the corresponding message based on the selection. Mention error message if he enter >3.\n",
    "print \"Please select the below Options: \\n\\t1.Kids\\n\\t2.Men's\\n\\t3.Women's\"\n",
    "option=int(raw_input(\"enter any of the options shown: \"))\n",
    "if option ==1:\n",
    "    print \"You have selected Kid's wear related items, Please go to the 1st Floor\"\n",
    "if option == 2:\n",
    "    print \"You have selected Men's wear related items, Please got to the 2nd Floor\"\n",
    "if option == 3:\n",
    "    print \"You have selected Women's wear related items, Please go to the 3rd Foor\"\n",
    "if option != 1 and option != 2 and option != 3:\n",
    "    print \"Please Enter only the correct options shown.\"\n",
    "print \"Thank you! Visit Again\"\n",
    "    "
   ]
  },
  {
   "cell_type": "code",
   "execution_count": 32,
   "metadata": {},
   "outputs": [
    {
     "name": "stdout",
     "output_type": "stream",
     "text": [
      "Eligibility: \n",
      "\t1.Theatre: 5\n",
      "\t2.Voting System: 18\n",
      "\t3.Marriage in india: 23\n",
      "\t4.Govt Job: 18\n",
      "\t5.Driving license: 18\n",
      "Enter age: 34\n",
      "You can apply/do\n",
      "\tVoting System in India\n",
      "\tGovt Jobs in India\n",
      "\tDriving License in India\n",
      "\tMarriage in India\n"
     ]
    }
   ],
   "source": [
    "\"\"\"\n",
    "11.Take an age from the user: and mention that what he can do in india.\n",
    "Eligibility:\n",
    "    \t1. Theatre: 5\n",
    "    \t2. Voting system: 18\n",
    "    \t3. Marriage in india: 23\n",
    "    \t4. For govt jobs: 18\n",
    "   \t 5. For driving licence: 18\n",
    "   \t Enter an option:\n",
    "    \tEnter an age:\n",
    "\"\"\"\n",
    "print \"Eligibility: \\n\\t1.Theatre: 5\\n\\t2.Voting System: 18\\n\\t3.Marriage in india: 23\\n\\t4.Govt Job: 18\\n\\t5.Driving license: 18\"\n",
    "option=int(raw_input(\"Enter age: \"))\n",
    "if option == 18:\n",
    "    print \"You can apply/do\\n\\tVoting System in India\\n\\tGovt Jobs in India\\n\\tDriving License in India\"\n",
    "if option >= 23:\n",
    "    print \"You can apply/do\\n\\tVoting System in India\\n\\tGovt Jobs in India\\n\\tDriving License in India\\n\\tMarriage in India\""
   ]
  },
  {
   "cell_type": "code",
   "execution_count": 34,
   "metadata": {},
   "outputs": [
    {
     "name": "stdout",
     "output_type": "stream",
     "text": [
      "Eligibility: \n",
      "\t1.Theatre: 5\n",
      "\t2.Voting System: 18\n",
      "\t3.Marriage in india: 23\n",
      "\t4.Govt Job: 18\n",
      "\t5.Driving license: 18\n",
      "Enter age: 18\n",
      "You can apply/do\n",
      "\tVoting System in India\n",
      "\tGovt Jobs in India\n",
      "\tDriving License in India\n"
     ]
    }
   ],
   "source": [
    "\"\"\"\n",
    "11.Take an age from the user: and mention that what he can do in india.\n",
    "Eligibility:\n",
    "    \t1. Theatre: 5\n",
    "    \t2. Voting system: 18\n",
    "    \t3. Marriage in india: 23\n",
    "    \t4. For govt jobs: 18\n",
    "   \t 5. For driving licence: 18\n",
    "   \t Enter an option:\n",
    "    \tEnter an age:\n",
    "\"\"\"\n",
    "print \"Eligibility: \\n\\t1.Theatre: 5\\n\\t2.Voting System: 18\\n\\t3.Marriage in india: 23\\n\\t4.Govt Job: 18\\n\\t5.Driving license: 18\"\n",
    "option=int(raw_input(\"Enter age: \"))\n",
    "if option <18:\n",
    "    print \"You can apply/do\\n\\tTheatre\"\n",
    "if option == 18:\n",
    "    print \"You can apply/do\\n\\tVoting System in India\\n\\tGovt Jobs in India\\n\\tDriving License in India\"\n",
    "if option >= 23:\n",
    "    print \"You can apply/do\\n\\tVoting System in India\\n\\tGovt Jobs in India\\n\\tDriving License in India\\n\\tMarriage in India\""
   ]
  },
  {
   "cell_type": "code",
   "execution_count": 42,
   "metadata": {},
   "outputs": [
    {
     "name": "stdout",
     "output_type": "stream",
     "text": [
      "Eligibility: \n",
      "\t1.Theatre: 5\n",
      "\t2.Voting System: 18\n",
      "\t3.Marriage in india: 23\n",
      "\t4.Govt Job: 18\n",
      "\t5.Driving license: 18\n",
      "Enter age: 19\n",
      "You can apply/do\n",
      "\tTheatre\n",
      "\tVoting System in India\n",
      "\tGovt Jobs in India\n",
      "\tDriving License in India\n",
      "\tMarriage in India\n"
     ]
    }
   ],
   "source": [
    "\"\"\"\n",
    "11.Take an age from the user: and mention that what he can do in india.\n",
    "Eligibility:\n",
    "    \t1. Theatre: 5\n",
    "    \t2. Voting system: 18\n",
    "    \t3. Marriage in india: 23\n",
    "    \t4. For govt jobs: 18\n",
    "   \t 5. For driving licence: 18\n",
    "   \t Enter an option:\n",
    "    \tEnter an age:\n",
    "\"\"\"\n",
    "print \"Eligibility: \\n\\t1.Theatre: 5\\n\\t2.Voting System: 18\\n\\t3.Marriage in india: 23\\n\\t4.Govt Job: 18\\n\\t5.Driving license: 18\"\n",
    "option=int(raw_input(\"Enter age: \"))\n",
    "if option <18:\n",
    "    print \"You can apply/do\\n\\tTheatre\"\n",
    "if option ==18:\n",
    "    print \"You can apply/do\\n\\tVoting System in India\\n\\tGovt Jobs in India\\n\\tDriving License in India\"\n",
    "if option >=18:\n",
    "    print \"You can apply/do\\n\\tTheatre\\n\\tVoting System in India\\n\\tGovt Jobs in India\\n\\tDriving License in India\\n\\tMarriage in India\"\n",
    "    #print \"You can apply/do\\n\\tTheatre\\n\\tVoting System in India\\n\\tGovt Jobs in India\\n\\tDriving License in India\\n\\tMarriage in India\""
   ]
  },
  {
   "cell_type": "code",
   "execution_count": 43,
   "metadata": {},
   "outputs": [
    {
     "name": "stdout",
     "output_type": "stream",
     "text": [
      "enter a string: mahesh\n",
      "substring available\n"
     ]
    }
   ],
   "source": [
    "##12.write a program to chek given substring is there in actual string or not? (search should be case insensitive)\n",
    "string=raw_input(\"enter a string: \")\n",
    "if string == string:\n",
    "    print \"substring available\"\n",
    "else:\n",
    "    print \"substring not available\"\n"
   ]
  },
  {
   "cell_type": "code",
   "execution_count": null,
   "metadata": {
    "collapsed": true
   },
   "outputs": [],
   "source": [
    "##12.write a program to chek given substring is there in actual string or not? (search should be case insensitive)\n",
    "string=raw_input(\"enter a string: \")\n",
    "string=\"gayathri\"\n",
    "if string == string:\n",
    "    print \"substring available\"\n",
    "else:\n",
    "    print \"substring not available\"\n"
   ]
  },
  {
   "cell_type": "code",
   "execution_count": 1,
   "metadata": {},
   "outputs": [
    {
     "name": "stdout",
     "output_type": "stream",
     "text": [
      "enter first number: 10\n",
      "enter second number: 20\n",
      "enter third number: 30\n",
      "third number is big\n"
     ]
    }
   ],
   "source": [
    "##14.\tTake three numbers from the user and decide which is big\n",
    "num1=int(raw_input(\"enter first number: \"))\n",
    "num2=int(raw_input(\"enter second number: \"))\n",
    "num3=int(raw_input(\"enter third number: \"))\n",
    "if num1>num2 and num1>num2:\n",
    "    print \"first number is big\"\n",
    "if num2>num1 and num2>num3:\n",
    "    print \"second number is big\"\n",
    "if num3>num1 and num3>num2:\n",
    "    print \"third number is big\"\n"
   ]
  },
  {
   "cell_type": "code",
   "execution_count": 4,
   "metadata": {},
   "outputs": [
    {
     "name": "stdout",
     "output_type": "stream",
     "text": [
      "enter first number: 10\n",
      "enter second number: 20\n",
      "enter third number: 20\n",
      "Error : user has given two number as equal values\n"
     ]
    }
   ],
   "source": [
    "##14.\tTake three numbers from the user and decide which is big\n",
    "num1=int(raw_input(\"enter first number: \"))\n",
    "num2=int(raw_input(\"enter second number: \"))\n",
    "num3=int(raw_input(\"enter third number: \"))\n",
    "if num1>num2 and num1>num2:\n",
    "    print \"first number is big\"\n",
    "if num2>num1 and num2>num3:\n",
    "    print \"second number is big\"\n",
    "if num3>num1 and num3>num2:\n",
    "    print \"third number is big\"\n",
    "if num1==num2 or num1==num3 or num2==num3:\n",
    "    print \"Error : user has given two number as equal values\"\n"
   ]
  },
  {
   "cell_type": "code",
   "execution_count": 5,
   "metadata": {},
   "outputs": [
    {
     "name": "stdout",
     "output_type": "stream",
     "text": [
      "enter first number: 10\n",
      "enter second number: 10\n",
      "enter third number: 20\n",
      "third number is big\n",
      "Error : user has given two number as equal values\n"
     ]
    }
   ],
   "source": [
    "##14.\tTake three numbers from the user and decide which is big\n",
    "num1=int(raw_input(\"enter first number: \"))\n",
    "num2=int(raw_input(\"enter second number: \"))\n",
    "num3=int(raw_input(\"enter third number: \"))\n",
    "if num1>num2 and num1>num2:\n",
    "    print \"first number is big\"\n",
    "if num2>num1 and num2>num3:\n",
    "    print \"second number is big\"\n",
    "if num3>num1 and num3>num2:\n",
    "    print \"third number is big\"\n",
    "if num1==num2 or num1==num3 or num2==num3:\n",
    "    print \"Error : user has given two number as equal values\"\n"
   ]
  },
  {
   "cell_type": "code",
   "execution_count": 8,
   "metadata": {},
   "outputs": [
    {
     "name": "stdout",
     "output_type": "stream",
     "text": [
      "enter the gender of person: F\n",
      "enter the age of person: 17\n",
      "the given person is male and not eligible for marriage in India\n",
      "the given person is Female and not eligible for marriage in India\n"
     ]
    }
   ],
   "source": [
    "\"\"\"\"\n",
    "15.\t Take age and gender from the user and decide whether he is eligible for marriage in India or not. \n",
    "Age criteria: men age>22, women>18\n",
    "\"\"\"\n",
    "gender=raw_input(\"enter the gender of person: \")\n",
    "age=int(raw_input(\"enter the age of person: \"))\n",
    "if age>=22 and gender=='M':\n",
    "    print \"the given is person is male and elible for marriage in Inida\"\n",
    "else:\n",
    "    print \"the given person is male and not eligible for marriage in India\"\n",
    "if age>=18 and gender=='F':\n",
    "    print \"the given is person is Female and elible for marriage in Inida\"\n",
    "else:\n",
    "    print \"the given person is Female and not eligible for marriage in India\"\n",
    "\n",
    "\n"
   ]
  },
  {
   "cell_type": "code",
   "execution_count": null,
   "metadata": {
    "collapsed": true
   },
   "outputs": [],
   "source": []
  },
  {
   "cell_type": "code",
   "execution_count": null,
   "metadata": {
    "collapsed": true
   },
   "outputs": [],
   "source": []
  },
  {
   "cell_type": "code",
   "execution_count": null,
   "metadata": {
    "collapsed": true
   },
   "outputs": [],
   "source": []
  },
  {
   "cell_type": "code",
   "execution_count": null,
   "metadata": {
    "collapsed": true
   },
   "outputs": [],
   "source": []
  },
  {
   "cell_type": "code",
   "execution_count": null,
   "metadata": {
    "collapsed": true
   },
   "outputs": [],
   "source": []
  },
  {
   "cell_type": "code",
   "execution_count": null,
   "metadata": {
    "collapsed": true
   },
   "outputs": [],
   "source": []
  },
  {
   "cell_type": "code",
   "execution_count": null,
   "metadata": {
    "collapsed": true
   },
   "outputs": [],
   "source": []
  },
  {
   "cell_type": "code",
   "execution_count": null,
   "metadata": {
    "collapsed": true
   },
   "outputs": [],
   "source": []
  },
  {
   "cell_type": "code",
   "execution_count": null,
   "metadata": {
    "collapsed": true
   },
   "outputs": [],
   "source": []
  },
  {
   "cell_type": "code",
   "execution_count": null,
   "metadata": {
    "collapsed": true
   },
   "outputs": [],
   "source": []
  },
  {
   "cell_type": "code",
   "execution_count": null,
   "metadata": {
    "collapsed": true
   },
   "outputs": [],
   "source": []
  },
  {
   "cell_type": "code",
   "execution_count": null,
   "metadata": {
    "collapsed": true
   },
   "outputs": [],
   "source": []
  },
  {
   "cell_type": "code",
   "execution_count": null,
   "metadata": {
    "collapsed": true
   },
   "outputs": [],
   "source": []
  }
 ],
 "metadata": {
  "kernelspec": {
   "display_name": "Python 2",
   "language": "python",
   "name": "python2"
  },
  "language_info": {
   "codemirror_mode": {
    "name": "ipython",
    "version": 2
   },
   "file_extension": ".py",
   "mimetype": "text/x-python",
   "name": "python",
   "nbconvert_exporter": "python",
   "pygments_lexer": "ipython2",
   "version": "2.7.14"
  }
 },
 "nbformat": 4,
 "nbformat_minor": 2
}
