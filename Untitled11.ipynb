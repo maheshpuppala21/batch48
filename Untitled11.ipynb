{
 "cells": [
  {
   "cell_type": "code",
   "execution_count": 9,
   "metadata": {},
   "outputs": [
    {
     "name": "stdout",
     "output_type": "stream",
     "text": [
      "{'a': 4, ' ': 2, 'e': 1, 'h': 2, 'k': 1, 'm': 2, 'l': 1, 'p': 3, 's': 1, 'r': 1, 'u': 2}\n",
      "a 4\n",
      "  2\n",
      "e 1\n",
      "h 2\n",
      "k 1\n",
      "m 2\n",
      "l 1\n",
      "p 3\n",
      "s 1\n",
      "r 1\n",
      "u 2\n"
     ]
    }
   ],
   "source": [
    "str=\"mahesh kumar puppala\"\n",
    "cnt_wrd={}\n",
    "for i in str:\n",
    "    c=str.count(i)\n",
    "    cnt_wrd.update({i:c})\n",
    "print cnt_wrd\n",
    "\n",
    "for i in cnt_wrd:\n",
    "    print i,cnt_wrd[i]"
   ]
  },
  {
   "cell_type": "code",
   "execution_count": null,
   "metadata": {
    "collapsed": true
   },
   "outputs": [],
   "source": []
  }
 ],
 "metadata": {
  "kernelspec": {
   "display_name": "Python 2",
   "language": "python",
   "name": "python2"
  },
  "language_info": {
   "codemirror_mode": {
    "name": "ipython",
    "version": 2
   },
   "file_extension": ".py",
   "mimetype": "text/x-python",
   "name": "python",
   "nbconvert_exporter": "python",
   "pygments_lexer": "ipython2",
   "version": "2.7.14"
  }
 },
 "nbformat": 4,
 "nbformat_minor": 2
}
