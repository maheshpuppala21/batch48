{
 "cells": [
  {
   "cell_type": "code",
   "execution_count": null,
   "metadata": {
    "collapsed": true
   },
   "outputs": [],
   "source": [
    "print \"Welcome to Sales Management\\n\\t1.LOGIN\\n\\t2.REGISTER\\n\\t3.QUIT\"\n",
    "option=raw_input(\"enter an option: \")\n",
    "option=int(option)\n",
    "if option == 3:\n",
    "    print \"You have opted for Quit. Thank you\"\n",
    "if option == 1:\n",
    "    #print \"LOGIN PAGE\"\n",
    "    print \"*\"*12,\"LOGIN PAGE\",\"*\"*12\n",
    "    user_name = raw_input(\"enter user name: \")\n",
    "    password = raw_input(\"enter password: \")\n"
   ]
  },
  {
   "cell_type": "code",
   "execution_count": 9,
   "metadata": {},
   "outputs": [
    {
     "name": "stdout",
     "output_type": "stream",
     "text": [
      "Welcome to Sales Management\n",
      "\t1.LOGIN\n",
      "\t2.REGISTER\n",
      "\t3.QUIT\n",
      "enter an option: QUIT\n",
      "You have opted for Quit. Thank you\n"
     ]
    }
   ],
   "source": [
    "print \"Welcome to Sales Management\\n\\t1.LOGIN\\n\\t2.REGISTER\\n\\t3.QUIT\"\n",
    "option=raw_input(\"enter an option: \")\n",
    "if option == \"3\" or option.lower()==\"quit\":\n",
    "    print \"You have opted for Quit. Thank you\"\n",
    "if option == \"1\":\n",
    "    print \"*\"*56\n",
    "    print \"*\"*22,\"LOGIN PAGE\",\"*\"*22\n",
    "    print \"*\"*56\n",
    "    user_name = raw_input(\"enter user name: \")\n",
    "    password = raw_input(\"enter password: \")\n"
   ]
  },
  {
   "cell_type": "code",
   "execution_count": 10,
   "metadata": {},
   "outputs": [
    {
     "name": "stdout",
     "output_type": "stream",
     "text": [
      "Welcome to Sales Management\n",
      "\t1.LOGIN\n",
      "\t2.REGISTER\n",
      "\t3.QUIT\n",
      "enter an option: 1\n",
      "********************************************************\n",
      "********************** LOGIN PAGE **********************\n",
      "********************************************************\n",
      "enter user name: maheshgayatri\n",
      "enter password: rakadl\n"
     ]
    }
   ],
   "source": [
    "print \"Welcome to Sales Management\\n\\t1.LOGIN\\n\\t2.REGISTER\\n\\t3.QUIT\"\n",
    "option=raw_input(\"enter an option: \")\n",
    "if option == \"3\" or option.lower()==\"quit\":\n",
    "    print \"You have opted for Quit. Thank you\"\n",
    "if option == \"1\":\n",
    "    print \"*\"*56\n",
    "    print \"*\"*22,\"LOGIN PAGE\",\"*\"*22\n",
    "    print \"*\"*56\n",
    "    user_name = raw_input(\"enter user name: \")\n",
    "    password = raw_input(\"enter password: \")\n"
   ]
  },
  {
   "cell_type": "code",
   "execution_count": 1,
   "metadata": {},
   "outputs": [
    {
     "name": "stdout",
     "output_type": "stream",
     "text": [
      "Welcome to Sales Management\n",
      "\t1.LOGIN\n",
      "\t2.REGISTER\n",
      "\t3.QUIT\n",
      "enter an option: 3\n",
      "You have opted for Quit. Thank you\n"
     ]
    }
   ],
   "source": [
    "\n",
    "print \"Welcome to Sales Management\\n\\t1.LOGIN\\n\\t2.REGISTER\\n\\t3.QUIT\"\n",
    "option=raw_input(\"enter an option: \")\n",
    "if option == \"3\" or option.lower()==\"quit\":\n",
    "    print \"You have opted for Quit. Thank you\"\n",
    "if option == \"1\" or option.lower()==\"login\":\n",
    "    print \"*\"*56\n",
    "    print \"*\"*22,\"LOGIN PAGE\",\"*\"*22\n",
    "    print \"*\"*56\n",
    "    user_name = raw_input(\"enter user name: \")\n",
    "    password = raw_input(\"enter password: \")\n",
    "if option == \"2\" or option.lower()==\"register\":\n",
    "    print \"*\"*56\n",
    "    print \"           WELCOME TO REGISTRATION PAGE\"\n",
    "    print \"*\"*56\n",
    "\n"
   ]
  },
  {
   "cell_type": "markdown",
   "metadata": {
    "collapsed": true
   },
   "source": [
    "### import sqlite3"
   ]
  },
  {
   "cell_type": "code",
   "execution_count": 21,
   "metadata": {},
   "outputs": [
    {
     "ename": "NameError",
     "evalue": "name 'salesmanagement_db' is not defined",
     "output_type": "error",
     "traceback": [
      "\u001b[1;31m---------------------------------------------------------------------------\u001b[0m",
      "\u001b[1;31mNameError\u001b[0m                                 Traceback (most recent call last)",
      "\u001b[1;32m<ipython-input-21-f9f1c780f47e>\u001b[0m in \u001b[0;36m<module>\u001b[1;34m()\u001b[0m\n\u001b[1;32m----> 1\u001b[1;33m \u001b[0mconn\u001b[0m\u001b[1;33m=\u001b[0m\u001b[0msqlite3\u001b[0m\u001b[1;33m.\u001b[0m\u001b[0mconnect\u001b[0m\u001b[1;33m(\u001b[0m\u001b[0msalesmanagement_db\u001b[0m\u001b[1;33m.\u001b[0m\u001b[0mdb\u001b[0m\u001b[1;33m)\u001b[0m\u001b[1;33m\u001b[0m\u001b[0m\n\u001b[0m",
      "\u001b[1;31mNameError\u001b[0m: name 'salesmanagement_db' is not defined"
     ]
    }
   ],
   "source": [
    "conn=sqlite3.connect(salesmanagement_db.db)"
   ]
  },
  {
   "cell_type": "code",
   "execution_count": 3,
   "metadata": {},
   "outputs": [
    {
     "name": "stdout",
     "output_type": "stream",
     "text": [
      "2018-08-11\n"
     ]
    }
   ],
   "source": [
    "from datetime import date\n",
    "toddate=date.today()\n",
    "print toddate"
   ]
  },
  {
   "cell_type": "code",
   "execution_count": 6,
   "metadata": {},
   "outputs": [
    {
     "data": {
      "text/plain": [
       "<sqlite3.Cursor at 0x3e792d0>"
      ]
     },
     "execution_count": 6,
     "metadata": {},
     "output_type": "execute_result"
    }
   ],
   "source": [
    "import sqlite3\n",
    "con=sqlite3.connect(\"salesmanagement_db.db\")\n",
    "cur=con.cursor()\n",
    "cur.execute(\"create table CUSTOMER(Name VARCHAR2(50),pin code NUMBER,city VARCHAR2(20),state VARCHAR2(20),\\\n",
    "country VARCHAR2(20),email VARCHAR2(30),phone VARCHAR2(10),password VARCHAR2(20),creat_ts date,role VARCHAR2(10))\")"
   ]
  },
  {
   "cell_type": "code",
   "execution_count": 11,
   "metadata": {},
   "outputs": [
    {
     "name": "stdout",
     "output_type": "stream",
     "text": [
      "Welcome to Sales Management\n",
      "\t1.LOGIN\n",
      "\t2.REGISTER\n",
      "\t3.QUIT\n",
      "enter an option: 2\n",
      "********************************************************\n",
      "           WELCOME TO REGISTRATION PAGE\n",
      "********************************************************\n",
      "enter the name of customer: Nagesh\n",
      "enter the pincode of address: 500018\n",
      "enter the city: HYD\n",
      "enter the state: TELANGANA\n",
      "enter the country: INDIA\n",
      "enter the email: nagesh12345@gmail.com\n",
      "enter the phone: 89303493034\n",
      "enter the password: nagesh@21\n",
      "enter the role: CUSTOMER\n",
      "you are successfully registered\n"
     ]
    }
   ],
   "source": [
    "import sqlite3\n",
    "from datetime import date\n",
    "print \"Welcome to Sales Management\\n\\t1.LOGIN\\n\\t2.REGISTER\\n\\t3.QUIT\"\n",
    "option=raw_input(\"enter an option: \")\n",
    "if option == \"3\" or option.lower()==\"quit\":\n",
    "    print \"You have opted for Quit. Thank you\"\n",
    "if option == \"1\" or option.lower()==\"login\":\n",
    "    print \"*\"*56\n",
    "    print \"*\"*22,\"LOGIN PAGE\",\"*\"*22\n",
    "    print \"*\"*56\n",
    "    user_name = raw_input(\"enter user name: \")\n",
    "    password = raw_input(\"enter password: \")\n",
    "if option == \"2\" or option.lower()==\"register\":\n",
    "    print \"*\"*56\n",
    "    print \"           WELCOME TO REGISTRATION PAGE\"\n",
    "    print \"*\"*56\n",
    "    c_name = raw_input(\"enter the name of customer: \")\n",
    "    c_pin = int(raw_input(\"enter the pincode of address: \"))\n",
    "    c_city = raw_input(\"enter the city: \")\n",
    "    c_state = raw_input(\"enter the state: \")\n",
    "    c_country = raw_input(\"enter the country: \")\n",
    "    c_email = raw_input(\"enter the email: \")\n",
    "    c_phone = raw_input(\"enter the phone: \")\n",
    "    c_password = raw_input(\"enter the password: \")\n",
    "    c_creat_ts=date.today()\n",
    "    c_role=raw_input(\"enter the role: \")\n",
    "\n",
    "    con = sqlite3.connect(\"salesmanagement_db.db\")\n",
    "    cur=con.cursor()\n",
    "    q=\"insert into CUSTOMER(Name,pin,city,state,country,email,phone,password,creat_ts,role)\\\n",
    "    values('%s',%s,'%s','%s','%s','%s','%s','%s','%s','%s')\"%(c_name,c_pin,c_city,c_state,c_country,c_email,c_phone,\\\n",
    "                                                             c_password,c_creat_ts,c_role)\n",
    "    cur.execute(q)\n",
    "    con.commit()\n",
    "#Print \"you are successfully registered. Thank you\"\n",
    "print \"you are successfully registered\"\n",
    "\n",
    "\n"
   ]
  },
  {
   "cell_type": "code",
   "execution_count": 12,
   "metadata": {},
   "outputs": [
    {
     "name": "stdout",
     "output_type": "stream",
     "text": [
      "Welcome to Sales Management\n",
      "\t1.LOGIN\n",
      "\t2.REGISTER\n",
      "\t3.QUIT\n",
      "enter an option: 2\n",
      "********************************************************\n",
      "           WELCOME TO REGISTRATION PAGE\n",
      "********************************************************\n",
      "enter the name of customer: mohan\n",
      "enter the pincode of address: 500021\n",
      "enter the city: HYD\n",
      "enter the state: TELANGANA\n",
      "enter the country: INDIA\n",
      "enter the email: mohanra0@gmail.com\n",
      "enter the phone: 8900028483\n",
      "enter the password: maohanrao21\n",
      "enter the role: CUSTOMER\n",
      "you are successfully registered,Thank you\n"
     ]
    }
   ],
   "source": [
    "\n",
    "import sqlite3\n",
    "from datetime import date\n",
    "print \"Welcome to Sales Management\\n\\t1.LOGIN\\n\\t2.REGISTER\\n\\t3.QUIT\"\n",
    "option=raw_input(\"enter an option: \")\n",
    "if option == \"3\" or option.lower()==\"quit\":\n",
    "    print \"You have opted for Quit. Thank you\"\n",
    "if option == \"1\" or option.lower()==\"login\":\n",
    "    print \"*\"*56\n",
    "    print \"*\"*22,\"LOGIN PAGE\",\"*\"*22\n",
    "    print \"*\"*56\n",
    "    user_name = raw_input(\"enter user name: \")\n",
    "    password = raw_input(\"enter password: \")\n",
    "if option == \"2\" or option.lower()==\"register\":\n",
    "    print \"*\"*56\n",
    "    print \"           WELCOME TO REGISTRATION PAGE\"\n",
    "    print \"*\"*56\n",
    "    c_name = raw_input(\"enter the name of customer: \")\n",
    "    c_pin = int(raw_input(\"enter the pincode of address: \"))\n",
    "    c_city = raw_input(\"enter the city: \")\n",
    "    c_state = raw_input(\"enter the state: \")\n",
    "    c_country = raw_input(\"enter the country: \")\n",
    "    c_email = raw_input(\"enter the email: \")\n",
    "    c_phone = raw_input(\"enter the phone: \")\n",
    "    c_password = raw_input(\"enter the password: \")\n",
    "    c_creat_ts=date.today()\n",
    "    c_role=raw_input(\"enter the role: \")\n",
    "\n",
    "    con = sqlite3.connect(\"salesmanagement_db.db\")\n",
    "    cur=con.cursor()\n",
    "    q=\"insert into CUSTOMER(Name,pin,city,state,country,email,phone,password,creat_ts,role)\\\n",
    "    values('%s',%s,'%s','%s','%s','%s','%s','%s','%s','%s')\"%(c_name,c_pin,c_city,c_state,c_country,c_email,c_phone,\\\n",
    "                                                             c_password,c_creat_ts,c_role)\n",
    "    cur.execute(q)\n",
    "    con.commit()\n",
    "\n",
    "print \"you are successfully registered,Thank you\"\n",
    "\n",
    "\n"
   ]
  },
  {
   "cell_type": "code",
   "execution_count": 21,
   "metadata": {},
   "outputs": [
    {
     "name": "stdout",
     "output_type": "stream",
     "text": [
      "enter user name: maheshpuppala21@gmail.cm\n",
      "select email from CUSTOMER where email='maheshpuppala21@gmail.cm'\n",
      "(u'maheshpuppala21@gmail.cm',)\n"
     ]
    }
   ],
   "source": [
    "user_name = raw_input(\"enter user name: \")\n",
    "#paswrd = raw_input(\"enter password: \")\n",
    "q=\"select email from CUSTOMER where email='%s'\"%user_name\n",
    "cur.execute(q)\n",
    "print q\n",
    "rec_details = cur.fetchone()\n",
    "print rec_details"
   ]
  },
  {
   "cell_type": "code",
   "execution_count": 26,
   "metadata": {},
   "outputs": [
    {
     "name": "stdout",
     "output_type": "stream",
     "text": [
      "enter user name: maheshpuppala21@gmail.cm\n",
      "enter password: rakdl21\n"
     ]
    },
    {
     "ename": "TypeError",
     "evalue": "not enough arguments for format string",
     "output_type": "error",
     "traceback": [
      "\u001b[1;31m---------------------------------------------------------------------------\u001b[0m",
      "\u001b[1;31mTypeError\u001b[0m                                 Traceback (most recent call last)",
      "\u001b[1;32m<ipython-input-26-b4b2068d522c>\u001b[0m in \u001b[0;36m<module>\u001b[1;34m()\u001b[0m\n\u001b[0;32m      1\u001b[0m \u001b[0muser_name\u001b[0m \u001b[1;33m=\u001b[0m \u001b[0mraw_input\u001b[0m\u001b[1;33m(\u001b[0m\u001b[1;34m\"enter user name: \"\u001b[0m\u001b[1;33m)\u001b[0m\u001b[1;33m\u001b[0m\u001b[0m\n\u001b[0;32m      2\u001b[0m \u001b[0mpaswrd\u001b[0m \u001b[1;33m=\u001b[0m \u001b[0mraw_input\u001b[0m\u001b[1;33m(\u001b[0m\u001b[1;34m\"enter password: \"\u001b[0m\u001b[1;33m)\u001b[0m\u001b[1;33m\u001b[0m\u001b[0m\n\u001b[1;32m----> 3\u001b[1;33m \u001b[0mq\u001b[0m\u001b[1;33m=\u001b[0m\u001b[1;34m\"select email from CUSTOMER where email='%s'%user_name and password='%s'\"\u001b[0m\u001b[1;33m%\u001b[0m\u001b[0mpaswrd\u001b[0m\u001b[1;33m\u001b[0m\u001b[0m\n\u001b[0m\u001b[0;32m      4\u001b[0m \u001b[0mcur\u001b[0m\u001b[1;33m.\u001b[0m\u001b[0mexecute\u001b[0m\u001b[1;33m(\u001b[0m\u001b[0mq\u001b[0m\u001b[1;33m)\u001b[0m\u001b[1;33m\u001b[0m\u001b[0m\n\u001b[0;32m      5\u001b[0m \u001b[1;32mprint\u001b[0m \u001b[0mq\u001b[0m\u001b[1;33m\u001b[0m\u001b[0m\n",
      "\u001b[1;31mTypeError\u001b[0m: not enough arguments for format string"
     ]
    }
   ],
   "source": [
    "user_name = raw_input(\"enter user name: \")\n",
    "paswrd = raw_input(\"enter password: \")\n",
    "q=\"select email from CUSTOMER where email='%s'%user_name and password='%s'\"%paswrd\n",
    "cur.execute(q)\n",
    "print q\n",
    "rec_details = cur.fetchone()\n",
    "print rec_details\n",
    "print type(rec_details)\n",
    "usnm=rec_details\n",
    "print usnm\n",
    "print type(usnm)"
   ]
  },
  {
   "cell_type": "code",
   "execution_count": null,
   "metadata": {
    "collapsed": true
   },
   "outputs": [],
   "source": []
  }
 ],
 "metadata": {
  "kernelspec": {
   "display_name": "Python 2",
   "language": "python",
   "name": "python2"
  },
  "language_info": {
   "codemirror_mode": {
    "name": "ipython",
    "version": 2
   },
   "file_extension": ".py",
   "mimetype": "text/x-python",
   "name": "python",
   "nbconvert_exporter": "python",
   "pygments_lexer": "ipython2",
   "version": "2.7.14"
  }
 },
 "nbformat": 4,
 "nbformat_minor": 2
}
