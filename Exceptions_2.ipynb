{
 "cells": [
  {
   "cell_type": "code",
   "execution_count": 1,
   "metadata": {},
   "outputs": [
    {
     "name": "stdout",
     "output_type": "stream",
     "text": [
      "main\n",
      "try\n",
      "finally\n",
      "main\n"
     ]
    }
   ],
   "source": [
    "print \"main\"\n",
    "try:\n",
    "    print \"try\"\n",
    "except:\n",
    "    print \"except\"\n",
    "finally:\n",
    "    print \"finally\"\n",
    "print \"main\"    "
   ]
  },
  {
   "cell_type": "code",
   "execution_count": 2,
   "metadata": {},
   "outputs": [
    {
     "name": "stdout",
     "output_type": "stream",
     "text": [
      "main\n",
      "try\n",
      "except\n",
      "finally\n",
      "main\n"
     ]
    }
   ],
   "source": [
    "##what is use of finally block\n",
    "print \"main\"\n",
    "try:\n",
    "    print \"try\"\n",
    "    print 1/0\n",
    "except:\n",
    "    print \"except\"\n",
    "finally:\n",
    "    print \"finally\"\n",
    "print \"main\"    "
   ]
  },
  {
   "cell_type": "code",
   "execution_count": 3,
   "metadata": {},
   "outputs": [
    {
     "name": "stdout",
     "output_type": "stream",
     "text": [
      "main\n",
      "try\n",
      "except\n",
      "finally\n",
      "main\n"
     ]
    }
   ],
   "source": [
    "##what is use of finally block\n",
    "print \"main\"\n",
    "try:\n",
    "    print \"try\"\n",
    "    print 1/0\n",
    "except:\n",
    "    print \"except\"\n",
    "\n",
    "print \"finally\"\n",
    "print \"main\"    "
   ]
  },
  {
   "cell_type": "code",
   "execution_count": 6,
   "metadata": {},
   "outputs": [
    {
     "name": "stdout",
     "output_type": "stream",
     "text": [
      "main\n",
      "try\n",
      "finally\n"
     ]
    },
    {
     "ename": "ZeroDivisionError",
     "evalue": "integer division or modulo by zero",
     "output_type": "error",
     "traceback": [
      "\u001b[1;31m---------------------------------------------------------------------------\u001b[0m",
      "\u001b[1;31mZeroDivisionError\u001b[0m                         Traceback (most recent call last)",
      "\u001b[1;32m<ipython-input-6-7bf1a148d23e>\u001b[0m in \u001b[0;36m<module>\u001b[1;34m()\u001b[0m\n\u001b[0;32m      3\u001b[0m \u001b[1;32mtry\u001b[0m\u001b[1;33m:\u001b[0m\u001b[1;33m\u001b[0m\u001b[0m\n\u001b[0;32m      4\u001b[0m     \u001b[1;32mprint\u001b[0m \u001b[1;34m\"try\"\u001b[0m\u001b[1;33m\u001b[0m\u001b[0m\n\u001b[1;32m----> 5\u001b[1;33m     \u001b[1;32mprint\u001b[0m \u001b[1;36m1\u001b[0m\u001b[1;33m/\u001b[0m\u001b[1;36m0\u001b[0m\u001b[1;33m\u001b[0m\u001b[0m\n\u001b[0m\u001b[0;32m      6\u001b[0m \u001b[1;32mfinally\u001b[0m\u001b[1;33m:\u001b[0m\u001b[1;33m\u001b[0m\u001b[0m\n\u001b[0;32m      7\u001b[0m     \u001b[1;32mprint\u001b[0m \u001b[1;34m\"finally\"\u001b[0m\u001b[1;33m\u001b[0m\u001b[0m\n",
      "\u001b[1;31mZeroDivisionError\u001b[0m: integer division or modulo by zero"
     ]
    }
   ],
   "source": [
    "##what is use of finally block\n",
    "print \"main\"\n",
    "try:\n",
    "    print \"try\"\n",
    "    print 1/0\n",
    "finally:\n",
    "    print \"finally\"\n",
    "print \"main\"    "
   ]
  },
  {
   "cell_type": "code",
   "execution_count": 7,
   "metadata": {},
   "outputs": [
    {
     "name": "stdout",
     "output_type": "stream",
     "text": [
      "try\n",
      "finally\n",
      "res= 10\n"
     ]
    }
   ],
   "source": [
    "def fun():\n",
    "    try:\n",
    "        print \"try\"\n",
    "        return 10\n",
    "    except:\n",
    "        print \"except\"\n",
    "        return 20\n",
    "    finally:\n",
    "        print \"finally\"\n",
    "    print \"function block\"\n",
    "res=fun()\n",
    "print \"res=\",res"
   ]
  },
  {
   "cell_type": "code",
   "execution_count": 8,
   "metadata": {},
   "outputs": [
    {
     "name": "stdout",
     "output_type": "stream",
     "text": [
      "try\n",
      "finally\n",
      "res= 10\n"
     ]
    }
   ],
   "source": [
    "def fun():\n",
    "    try:\n",
    "        print \"try\"\n",
    "        return 10\n",
    "        print \"after return\"\n",
    "    except:\n",
    "        print \"except\"\n",
    "        return 20\n",
    "    finally:\n",
    "        print \"finally\"\n",
    "    print \"function block\"\n",
    "res=fun()\n",
    "print \"res=\",res"
   ]
  },
  {
   "cell_type": "code",
   "execution_count": 9,
   "metadata": {},
   "outputs": [
    {
     "name": "stdout",
     "output_type": "stream",
     "text": [
      "try\n",
      "except\n",
      "finally\n",
      "res= 20\n"
     ]
    }
   ],
   "source": [
    "def fun():\n",
    "    try:\n",
    "        print \"try\"\n",
    "        print 1/0\n",
    "        return 10\n",
    "        print \"after return\"\n",
    "    except:\n",
    "        print \"except\"\n",
    "        return 20\n",
    "    finally:\n",
    "        print \"finally\"\n",
    "    print \"function block\"\n",
    "res=fun()\n",
    "print \"res=\",res"
   ]
  },
  {
   "cell_type": "code",
   "execution_count": 10,
   "metadata": {},
   "outputs": [
    {
     "name": "stdout",
     "output_type": "stream",
     "text": [
      "try\n",
      "except\n",
      "finally\n",
      "res= 30\n"
     ]
    }
   ],
   "source": [
    "##if there is exception in try or except block, it will give preference to finally block return value\n",
    "def fun():\n",
    "    try:\n",
    "        print \"try\"\n",
    "        print 1/0\n",
    "        return 10\n",
    "        print \"after return\"\n",
    "    except:\n",
    "        print \"except\"\n",
    "        return 20\n",
    "    finally:\n",
    "        print \"finally\"\n",
    "        return 30\n",
    "    print \"function block\"\n",
    "res=fun()\n",
    "print \"res=\",res"
   ]
  },
  {
   "cell_type": "code",
   "execution_count": 11,
   "metadata": {},
   "outputs": [
    {
     "name": "stdout",
     "output_type": "stream",
     "text": [
      "try\n",
      "except\n",
      "finally\n",
      "res= 20\n"
     ]
    }
   ],
   "source": [
    "##correct way to use finally block using some commit statements\n",
    "def fun():\n",
    "    try:\n",
    "        print \"try\"\n",
    "        print 1/0\n",
    "        return 10\n",
    "        print \"after return\"\n",
    "    except:\n",
    "        print \"except\"\n",
    "        return 20\n",
    "    finally:\n",
    "        print \"finally\"\n",
    "    return res\n",
    "    print \"function block\"\n",
    "res=fun()\n",
    "print \"res=\",res"
   ]
  },
  {
   "cell_type": "code",
   "execution_count": 12,
   "metadata": {},
   "outputs": [
    {
     "name": "stdout",
     "output_type": "stream",
     "text": [
      "try\n",
      "except\n",
      "finally\n",
      "res= 30\n"
     ]
    }
   ],
   "source": [
    "def fun():\n",
    "    try:\n",
    "        print \"try\"\n",
    "        print 1/0\n",
    "        return 10\n",
    "        print \"after return\"\n",
    "    except:\n",
    "        print \"except\"\n",
    "        return 20\n",
    "    finally:\n",
    "        print \"finally\"\n",
    "        return 30          #this is not correct way write in finally block\n",
    "    return res\n",
    "    print \"function block\"\n",
    "res=fun()\n",
    "print \"res=\",res"
   ]
  },
  {
   "cell_type": "code",
   "execution_count": null,
   "metadata": {
    "collapsed": true
   },
   "outputs": [],
   "source": []
  }
 ],
 "metadata": {
  "kernelspec": {
   "display_name": "Python 2",
   "language": "python",
   "name": "python2"
  },
  "language_info": {
   "codemirror_mode": {
    "name": "ipython",
    "version": 2
   },
   "file_extension": ".py",
   "mimetype": "text/x-python",
   "name": "python",
   "nbconvert_exporter": "python",
   "pygments_lexer": "ipython2",
   "version": "2.7.14"
  }
 },
 "nbformat": 4,
 "nbformat_minor": 2
}
