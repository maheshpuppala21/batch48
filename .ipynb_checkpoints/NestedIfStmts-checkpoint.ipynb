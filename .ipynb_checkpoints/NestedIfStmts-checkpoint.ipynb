{
 "cells": [
  {
   "cell_type": "code",
   "execution_count": null,
   "metadata": {
    "collapsed": true
   },
   "outputs": [],
   "source": [
    "##11. show the menu:\n",
    "  ## \t\t 1. kids\n",
    "    ##\t\t2. Men's\n",
    "   ##\t\t 3. Women's\n",
    "    ##Show the corresponding message based on the selection. Mention error message if he enter >3.\n",
    "print \"Please select the below Options: \\n\\t1.Kids\\n\\t2.Men's\\n\\t3.Women's\"\n",
    "option=int(raw_input(\"enter any of the options shown: \"))\n",
    "if option ==1:\n",
    "    print \"You have selected Kid's wear related items, Please go to the 1st Floor\"\n",
    "if option == 2:\n",
    "    print \"You have selected Men's wear related items, Please got to the 2nd Floor\"\n",
    "if option == 3:\n",
    "    print \"You have selected Women's wear related items, Please go to the 3rd Foor\"\n",
    "if option != 1 and option != 2 and option != 3:\n",
    "    print \"Please Enter only the correct options shown.\"\n",
    "print \"Thank you! Visit Again\""
   ]
  },
  {
   "cell_type": "code",
   "execution_count": 2,
   "metadata": {},
   "outputs": [
    {
     "name": "stdout",
     "output_type": "stream",
     "text": [
      "Please select the below Options: \n",
      "\t1.Kids\n",
      "\t2.Men's\n",
      "\t3.Women's\n",
      "enter any of the options shown: 5\n",
      "Please Enter only the correct options shown.\n",
      "Thank you! Visit Again\n"
     ]
    }
   ],
   "source": [
    "##11. show the menu:\n",
    "  ## \t\t 1. kids\n",
    "    ##\t\t2. Men's\n",
    "   ##\t\t 3. Women's\n",
    "    ##Show the corresponding message based on the selection. Mention error message if he enter >3.\n",
    "print \"Please select the below Options: \\n\\t1.Kids\\n\\t2.Men's\\n\\t3.Women's\"\n",
    "option=int(raw_input(\"enter any of the options shown: \"))\n",
    "if option ==1:\n",
    "    print \"You have selected Kid's wear related items, Please go to the 1st Floor\"\n",
    "elif option == 2:\n",
    "    print \"You have selected Men's wear related items, Please got to the 2nd Floor\"\n",
    "elif option == 3:\n",
    "    print \"You have selected Women's wear related items, Please go to the 3rd Foor\"\n",
    "else:\n",
    "    print \"Please Enter only the correct options shown.\"\n",
    "print \"Thank you! Visit Again\""
   ]
  },
  {
   "cell_type": "code",
   "execution_count": 5,
   "metadata": {},
   "outputs": [
    {
     "name": "stdout",
     "output_type": "stream",
     "text": [
      "Please select the below Options: \n",
      "\t1.Kids\n",
      "\t2.Men's\n",
      "\t3.Women's\n",
      "enter any of the options shown: \n"
     ]
    },
    {
     "ename": "ValueError",
     "evalue": "invalid literal for int() with base 10: ''",
     "output_type": "error",
     "traceback": [
      "\u001b[1;31m---------------------------------------------------------------------------\u001b[0m",
      "\u001b[1;31mValueError\u001b[0m                                Traceback (most recent call last)",
      "\u001b[1;32m<ipython-input-5-ecc4d064b4b8>\u001b[0m in \u001b[0;36m<module>\u001b[1;34m()\u001b[0m\n\u001b[0;32m      5\u001b[0m     \u001b[1;31m##Show the corresponding message based on the selection. Mention error message if he enter >3.\u001b[0m\u001b[1;33m\u001b[0m\u001b[1;33m\u001b[0m\u001b[0m\n\u001b[0;32m      6\u001b[0m \u001b[1;32mprint\u001b[0m \u001b[1;34m\"Please select the below Options: \\n\\t1.Kids\\n\\t2.Men's\\n\\t3.Women's\"\u001b[0m\u001b[1;33m\u001b[0m\u001b[0m\n\u001b[1;32m----> 7\u001b[1;33m \u001b[0moption\u001b[0m\u001b[1;33m=\u001b[0m\u001b[0mint\u001b[0m\u001b[1;33m(\u001b[0m\u001b[0mraw_input\u001b[0m\u001b[1;33m(\u001b[0m\u001b[1;34m\"enter any of the options shown: \"\u001b[0m\u001b[1;33m)\u001b[0m\u001b[1;33m)\u001b[0m\u001b[1;33m\u001b[0m\u001b[0m\n\u001b[0m\u001b[0;32m      8\u001b[0m \u001b[1;32mif\u001b[0m \u001b[0moption\u001b[0m \u001b[1;33m==\u001b[0m\u001b[1;36m1\u001b[0m\u001b[1;33m:\u001b[0m\u001b[1;33m\u001b[0m\u001b[0m\n\u001b[0;32m      9\u001b[0m     \u001b[1;32mprint\u001b[0m \u001b[1;34m\"You have selected Kid's wear related items, Please go to the 1st Floor\"\u001b[0m\u001b[1;33m\u001b[0m\u001b[0m\n",
      "\u001b[1;31mValueError\u001b[0m: invalid literal for int() with base 10: ''"
     ]
    }
   ],
   "source": [
    "##11. show the menu:\n",
    "  ## \t\t 1. kids\n",
    "    ##\t\t2. Men's\n",
    "   ##\t\t 3. Women's\n",
    "    ##Show the corresponding message based on the selection. Mention error message if he enter >3.\n",
    "print \"Please select the below Options: \\n\\t1.Kids\\n\\t2.Men's\\n\\t3.Women's\"\n",
    "option=int(raw_input(\"enter any of the options shown: \"))\n",
    "if option ==1:\n",
    "    print \"You have selected Kid's wear related items, Please go to the 1st Floor\"\n",
    "elif option == 2:\n",
    "    print \"You have selected Men's wear related items, Please got to the 2nd Floor\"\n",
    "elif option == 3:\n",
    "    print \"You have selected Women's wear related items, Please go to the 3rd Foor\"\n",
    "else:\n",
    "    print \"Please Enter only the correct options shown.\"\n",
    "print \"Thank you! Visit Again\"\n",
    "\n",
    "##if we give NULL values then we get error"
   ]
  },
  {
   "cell_type": "code",
   "execution_count": 6,
   "metadata": {},
   "outputs": [
    {
     "name": "stdout",
     "output_type": "stream",
     "text": [
      "Please select the below Options: \n",
      "\t1.Kids\n",
      "\t2.Men's\n",
      "\t3.Women's\n",
      "enter any of the options shown: \n",
      "Please Enter only the correct options shown.\n",
      "Thank you! Visit Again\n"
     ]
    }
   ],
   "source": [
    "##11. show the menu:\n",
    "  ## \t\t 1. kids\n",
    "    ##\t\t2. Men's\n",
    "   ##\t\t 3. Women's\n",
    "    ##Show the corresponding message based on the selection. Mention error message if he enter >3.\n",
    "print \"Please select the below Options: \\n\\t1.Kids\\n\\t2.Men's\\n\\t3.Women's\"\n",
    "option=raw_input(\"enter any of the options shown: \")\n",
    "if option ==\"1\":\n",
    "    print \"You have selected Kid's wear related items, Please go to the 1st Floor\"\n",
    "elif option ==\"2\":\n",
    "    print \"You have selected Men's wear related items, Please got to the 2nd Floor\"\n",
    "elif option ==\"3\":\n",
    "    print \"You have selected Women's wear related items, Please go to the 3rd Foor\"\n",
    "else:\n",
    "    print \"Please Enter only the correct options shown.\"\n",
    "print \"Thank you! Visit Again\"\n",
    "\n",
    "##if we give NULL values then we get error, to avoid the error"
   ]
  },
  {
   "cell_type": "code",
   "execution_count": 8,
   "metadata": {},
   "outputs": [
    {
     "name": "stdout",
     "output_type": "stream",
     "text": [
      "Please select the below Options: \n",
      "\t1.Kids\n",
      "\t2.Men's\n",
      "\t3.Women's\n",
      "enter any of the options shown: 34\n",
      "Please Enter only the correct options shown.\n",
      "Thank you! Visit Again\n"
     ]
    }
   ],
   "source": [
    "##11. show the menu:\n",
    "  ## \t\t 1. kids\n",
    "    ##\t\t2. Men's\n",
    "   ##\t\t 3. Women's\n",
    "    ##Show the corresponding message based on the selection. Mention error message if he enter >3.\n",
    "print \"Please select the below Options: \\n\\t1.Kids\\n\\t2.Men's\\n\\t3.Women's\"\n",
    "option=raw_input(\"enter any of the options shown: \")\n",
    "if option ==\"1\":\n",
    "    print \"You have selected Kid's wear related items, Please go to the 1st Floor\"\n",
    "elif option ==\"2\":\n",
    "    print \"You have selected Men's wear related items, Please got to the 2nd Floor\"\n",
    "elif option ==\"3\":\n",
    "    print \"You have selected Women's wear related items, Please go to the 3rd Foor\"\n",
    "else:\n",
    "    print \"Please Enter only the correct options shown.\"\n",
    "print \"Thank you! Visit Again\"\n"
   ]
  },
  {
   "cell_type": "code",
   "execution_count": 16,
   "metadata": {},
   "outputs": [
    {
     "name": "stdout",
     "output_type": "stream",
     "text": [
      "Eligibility:\n",
      "\t1.Theatre\n",
      "\t2.Voting System\n",
      "\t3.Marriage in India\n",
      "\t4.For Govt Jobs\n",
      "\t5.For Driving License\n",
      "Enter an option.\n",
      "\t1.Men\n",
      "\t2.women\n",
      "Enter an option: 3\n",
      "Enter gender either Men or Women1\n",
      "Enter age: 23\n",
      "you are eligible for marriage in india\n"
     ]
    }
   ],
   "source": [
    "##16. Take an age and gender from the user and mention that what he/she can  do in india16.\n",
    "#Take an age  and gender from the user: and mention that what he/she can do in india.\n",
    "\"\"\"\n",
    "Eligibility:\n",
    "   \t1. Theatre: 5 for men 7 for women\n",
    "    \t2. Voting system: 18 for men and women\n",
    "    \t3. Marriage in india: 23 for men and for women >21\n",
    "    \t4. For govt jobs: (min:18,max:32) for men and (min:18,max:34) for women\n",
    "   \t 5. For driving licence: 18 for men and women\n",
    "   \t Enter an option:\n",
    "    \tEnter an age:\n",
    "\"\"\"\n",
    "print \"Eligibility:\\n\\t1.Theatre\\n\\t2.Voting System\\n\\t3.Marriage in India\\n\\t4.For Govt Jobs\\n\\t5.For Driving License\"\n",
    "print \"Enter an option.\\n\\t1.Men\\n\\t2.women\"\n",
    "option=raw_input(\"Enter an Eligibility option: \")\n",
    "gender=raw_input(\"Enter gender either Men or Women\")\n",
    "age=raw_input(\"Enter age: \")\n",
    "if option==\"1\" and gender==\"1\" and age>=\"5\":\n",
    "    print \"you are eligible for Theatre to watch movie\"\n",
    "else:\n",
    "    print \"you are not eligible in Theatre to watch movie\"\n",
    "if option=\"1\" and gender==\"2\" and age>=\"7\":\n",
    "    print \"You are eligible for Theatre to watch movie\"\n",
    "else:\n",
    "    print \"you are not eligible in Theatre to watch movie\"\n",
    "    \n",
    "if option==\"2\" and gender==\"1\" and age>=\"18\":\n",
    "    print \"you are eligible for Voting system in India\"\n",
    "else:\n",
    "    print \"you are not eligible for Voting system in India\"\n",
    "if option=\"2\" and gender==\"2\" and age>=\"18\":\n",
    "    print \"you are eligible for Voting system in India\"\n",
    "else:\n",
    "    print \"you are not eligible for Voting system in India\"\n",
    "\n",
    "    \n",
    "if option==\"3\" and gender==\"1\" and age>=\"23\":\n",
    "    print \"you are eligible for Marriage in India\"\n",
    "else:\n",
    "    print \"you are not eligible for Marriage in India\"\n",
    "if option=\"3\" and gender==\"2\" and age>=\"21\":\n",
    "    print \"you are eligible for Marriage in India\"\n",
    "else:\n",
    "    print \"you are not eligible for Marriage in India\"\n",
    "\n",
    "if option==\"4\" and gender==\"1\" and (age>=\"18\" or age<=\"32\"):\n",
    "    print \"you are eligible for government jobs in India\"\n",
    "else:\n",
    "    print \"you are not eligible for governement jobs in India\"\n",
    "if option=\"4\" and gender==\"2\" and (age>=\"18\" or age<=\"32\")::\n",
    "    print \"you are eligible for Voting system in India\"\n",
    "else:\n",
    "    print \"you are not eligible for Voting system in India\"\n",
    "\n",
    "if option==\"5\" and gender==\"1\" and (age>=\"18\" or age<=32):\n",
    "    print \"you are eligible for government jobs in India\"\n",
    "else:\n",
    "    print \"you are not eligible for Voting system in India\"\n",
    "if option=\"5\" and gender==\"2\" and age>=\"18\":\n",
    "    print \"you are eligible for Voting system in India\"\n",
    "else:\n",
    "    print \"you are not eligible for Voting system in India\"\n",
    "\n",
    "\n"
   ]
  },
  {
   "cell_type": "markdown",
   "metadata": {},
   "source": [
    "print \"Eligibility:\\n\\t1.Theatre\\n\\t2.Voting System\\n\\t3.Marriage in India\\n\\t4.For Govt Jobs\\n\\t5.For Driving License\"\n",
    "print \"Enter an option.\\n\\t1.Men\\n\\t2.women\"\n",
    "option=raw_input(\"Enter an Eligibility option: \")\n",
    "gender=raw_input(\"Enter gender either Men or Women\")\n",
    "age=raw_input(\"Enter age: \")"
   ]
  },
  {
   "cell_type": "code",
   "execution_count": 22,
   "metadata": {},
   "outputs": [
    {
     "name": "stdout",
     "output_type": "stream",
     "text": [
      "Eligibility:\n",
      "\t1.Theatre\n",
      "\t2.Voting System\n",
      "\t3.Marriage in India\n",
      "\t4.For Govt Jobs\n",
      "\t5.For Driving License\n",
      "Enter an option.\n",
      "\t1.Men\n",
      "\t2.women\n",
      "Enter an Eligibility option: 4\n",
      "Enter gender  option either Men or Women: 2\n",
      "Enter age: 33\n",
      "Evaluating for Government job in Inida\n",
      "Evaluatin for women\n",
      "Not eligble for Marriage\n"
     ]
    }
   ],
   "source": [
    "print \"Eligibility:\\n\\t1.Theatre\\n\\t2.Voting System\\n\\t3.Marriage in India\\n\\t4.For Govt Jobs\\n\\t5.For Driving License\"\n",
    "print \"Enter an option.\\n\\t1.Men\\n\\t2.women\"\n",
    "option=raw_input(\"Enter an Eligibility option: \")\n",
    "gender=raw_input(\"Enter gender  option either Men or Women: \")\n",
    "age=int(raw_input(\"Enter age: \"))\n",
    "if option==\"1\":\n",
    "    print \"evaluating for theatre\"\n",
    "    if gender==\"1\":\n",
    "        print \"Evaluating for men\"\n",
    "        if age>5:\n",
    "            print \"Elgible for entry in theatre\"\n",
    "        else:\n",
    "            print \"Not eligible for entry in theatre\"\n",
    "    else:\n",
    "        print \"Evaluating for women\"\n",
    "        if age>7:\n",
    "            print \"Eligible for entry in theatre\"\n",
    "        else:\n",
    "            print \"Not eligible for entry in theatre\"\n",
    "elif option==\"2\":\n",
    "    print \"Evaluating for Voting System\"\n",
    "    if gender==\"1\":\n",
    "        print \"Evaluating for men\"\n",
    "        if age>=18:\n",
    "            print \"Elgible for Voting System\"\n",
    "        else:\n",
    "            print \"Not eligble for Voting system\"\n",
    "    else:\n",
    "        print \"Evaluating for women\"\n",
    "        if age>=18:\n",
    "            print \"Elgibile for Voting system\"\n",
    "        else:\n",
    "            print \"Not eligible for voting sytem\"\n",
    "elif option==\"3\":\n",
    "    print \"Evaluating for Marriage in Inida\"\n",
    "    if gender==\"1\":\n",
    "        print \"Evaluating for men\"\n",
    "        if age>=23:\n",
    "            print \"Eligble for Marriage\"\n",
    "        else:\n",
    "            print \"Not eligble for Marriage\"\n",
    "    else:\n",
    "        print \"Evaluatin for women\"\n",
    "        if age>21:\n",
    "            print \"Elgible for Marriage\"\n",
    "        else:\n",
    "            print \"Not eligble for Marriage\"\n",
    "elif option==\"4\":\n",
    "    print \"Evaluating for Government job in Inida\"\n",
    "    if gender==\"1\":\n",
    "        print \"Evaluating for men\"\n",
    "        if (age>=18 and age<=32):\n",
    "            print \"Eligble for Marriage\"\n",
    "        else:\n",
    "            print \"Not eligble for Marriage\"\n",
    "    else:\n",
    "        print \"Evaluatin for women\"\n",
    "        if (age>=18 and age<=32):\n",
    "            print \"Elgible for Marriage\"\n",
    "        else:\n",
    "            print \"Not eligble for Marriage\"\n",
    "elif option==\"5\":\n",
    "    print \"Evaluating for Driving License in Inida\"\n",
    "    if gender==\"1\":\n",
    "        print \"Evaluating for men\"\n",
    "        if age>=18:\n",
    "            print \"Eligble for Driving license\"\n",
    "        else:\n",
    "            print \"Not eligble for Driving License\"\n",
    "    else:\n",
    "        print \"Evaluatin for women\"\n",
    "        if age>=18:\n",
    "            print \"Elgible for Driving License\"\n",
    "        else:\n",
    "            print \"Not eligble for applying Driving License\"\n",
    "else:\n",
    "    print \"Please Enter correct options\"\n",
    "            \n",
    "             "
   ]
  },
  {
   "cell_type": "markdown",
   "metadata": {},
   "source": []
  }
 ],
 "metadata": {
  "kernelspec": {
   "display_name": "Python 2",
   "language": "python",
   "name": "python2"
  },
  "language_info": {
   "codemirror_mode": {
    "name": "ipython",
    "version": 2
   },
   "file_extension": ".py",
   "mimetype": "text/x-python",
   "name": "python",
   "nbconvert_exporter": "python",
   "pygments_lexer": "ipython2",
   "version": "2.7.14"
  }
 },
 "nbformat": 4,
 "nbformat_minor": 2
}
